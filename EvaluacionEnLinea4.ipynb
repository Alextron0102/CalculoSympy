{
 "metadata": {
  "language_info": {
   "codemirror_mode": {
    "name": "ipython",
    "version": 3
   },
   "file_extension": ".py",
   "mimetype": "text/x-python",
   "name": "python",
   "nbconvert_exporter": "python",
   "pygments_lexer": "ipython3",
   "version": "3.8.3-final"
  },
  "orig_nbformat": 2,
  "kernelspec": {
   "name": "Python 3.8.3 64-bit",
   "display_name": "Python 3.8.3 64-bit",
   "metadata": {
    "interpreter": {
     "hash": "4902b112df172eca64582ab08ed68f144a200007b0c63f075270bd61f76c4409"
    }
   }
  }
 },
 "nbformat": 4,
 "nbformat_minor": 2,
 "cells": [
  {
   "cell_type": "code",
   "execution_count": 1,
   "metadata": {},
   "outputs": [],
   "source": [
    "from sympy import *\n",
    "from sympy.plotting import *\n",
    "init_printing()\n",
    "#Vamos a definir la funcion modulo:\n",
    "def modulo(vec):\n",
    "    aux = 0\n",
    "    for i in vec:\n",
    "        aux+=S(i)**2\n",
    "    return sqrt(aux)\n",
    "#Vamos a definir la funcion para derivar:\n",
    "def derivar(vec,var):\n",
    "    aux = []\n",
    "    for i in vec:\n",
    "        aux.append(diff(S(i),var))\n",
    "    return aux\n",
    "#Vamos a definir la funcion para integrar:\n",
    "def integrar(vec, var):\n",
    "    aux = []\n",
    "    for i in vec:\n",
    "        aux.append(integrate(S(i),var))\n",
    "    return aux\n",
    "#Vamos a definir la funcion para sumar vectores:\n",
    "def sumarvectores(vec1,vec2):\n",
    "    return [sum(x) for x in zip(*[vec1,vec2])]\n",
    "#Vamos a definir una funcion para hacer producto punto de vectores:\n",
    "def productopunto(vec1, vec2):\n",
    "    return (vec1[0]*vec2[0])+(vec1[1]*vec2[1])"
   ]
  },
  {
   "source": [
    "Pregunta 1:<br>\n",
    "Una particula parte de la posicion r(0)=<3;-2;4>.<br>\n",
    "Determine los vectores a(t) y r(t) si su velocidad es v(t)=<4t;4t^3-2t;5>"
   ],
   "cell_type": "markdown",
   "metadata": {}
  },
  {
   "cell_type": "code",
   "execution_count": 2,
   "metadata": {},
   "outputs": [],
   "source": [
    "##Primero definimos las variables inciales:\n",
    "t = symbols('t')\n",
    "r0=[3,-2,4]\n",
    "vt=[4*t,4*(t**3)-(2*t),5]"
   ]
  },
  {
   "cell_type": "code",
   "execution_count": 3,
   "metadata": {},
   "outputs": [
    {
     "output_type": "execute_result",
     "data": {
      "text/plain": [
       "⎡       2       ⎤\n",
       "⎣4, 12⋅t  - 2, 0⎦"
      ],
      "image/png": "[encoded data removed]",
      "text/latex": "$\\displaystyle \\left[ 4, \\  12 t^{2} - 2, \\  0\\right]$"
     },
     "metadata": {},
     "execution_count": 3
    }
   ],
   "source": [
    "#Para hallar la aceleracion, derivamos la velocidad con respecto al tiempo:\n",
    "derivar(vt,t)\n",
    "#a(t) = "
   ]
  },
  {
   "cell_type": "code",
   "execution_count": 4,
   "metadata": {},
   "outputs": [
    {
     "output_type": "execute_result",
     "data": {
      "text/plain": [
       "⎡   2       4    2             ⎤\n",
       "⎣2⋅t  + 3, t  - t  - 2, 5⋅t + 4⎦"
      ],
      "image/png": "[encoded data removed]",
      "text/latex": "$\\displaystyle \\left[ 2 t^{2} + 3, \\  t^{4} - t^{2} - 2, \\  5 t + 4\\right]$"
     },
     "metadata": {},
     "execution_count": 4
    }
   ],
   "source": [
    "#Para hallar la posicion con respecto al tiempo, tenemos que integrar la velocidad con respecto al tiempo y sumar con la posicion inicial:\n",
    "rt = integrar(vt,t)\n",
    "sumarvectores(rt, r0)\n",
    "#r(t) = "
   ]
  },
  {
   "source": [
    "Pregunta 1(intento 2): <br>\n",
    "Una particula parte de la posicion r(0)=<1;-2;3>.<br>\n",
    "Determine los vectores a(t) y r(t) si su velocidad es v(t)=<6t;6t^5-2t;7>"
   ],
   "cell_type": "markdown",
   "metadata": {}
  },
  {
   "cell_type": "code",
   "execution_count": 159,
   "metadata": {},
   "outputs": [],
   "source": [
    "##Primero definimos las variables inciales:\n",
    "t = symbols('t')\n",
    "r0=[1,-2,3]\n",
    "vt=[6*t,6*(t**5)-(2*t),7]"
   ]
  },
  {
   "cell_type": "code",
   "execution_count": 160,
   "metadata": {},
   "outputs": [
    {
     "output_type": "execute_result",
     "data": {
      "text/plain": [
       "⎡       4       ⎤\n",
       "⎣6, 30⋅t  - 2, 0⎦"
      ],
      "image/png": "[encoded data removed]",
      "text/latex": "$\\displaystyle \\left[ 6, \\  30 t^{4} - 2, \\  0\\right]$"
     },
     "metadata": {},
     "execution_count": 160
    }
   ],
   "source": [
    "#Para hallar la aceleracion, derivamos la velocidad con respecto al tiempo:\n",
    "derivar(vt,t)\n",
    "#a(t) = "
   ]
  },
  {
   "cell_type": "code",
   "execution_count": 161,
   "metadata": {},
   "outputs": [
    {
     "output_type": "execute_result",
     "data": {
      "text/plain": [
       "⎡   2       6    2             ⎤\n",
       "⎣3⋅t  + 1, t  - t  - 2, 7⋅t + 3⎦"
      ],
      "image/png": "[encoded data removed]",
      "text/latex": "$\\displaystyle \\left[ 3 t^{2} + 1, \\  t^{6} - t^{2} - 2, \\  7 t + 3\\right]$"
     },
     "metadata": {},
     "execution_count": 161
    }
   ],
   "source": [
    "#Para hallar la posicion con respecto al tiempo, tenemos que integrar la velocidad con respecto al tiempo y sumar con la posicion inicial:\n",
    "rt = integrar(vt,t)\n",
    "sumarvectores(rt, r0)\n",
    "#r(t) = "
   ]
  },
  {
   "source": [
    "Pregunta 1(intento x): <br>\n",
    "Una particula parte de la posicion r(0)=<3;-6;9>.<br>\n",
    "Determine los vectores a(t) y r(t) si su velocidad es v(t)=<6t;6t^5-2t;7>"
   ],
   "cell_type": "markdown",
   "metadata": {}
  },
  {
   "cell_type": "code",
   "execution_count": 356,
   "metadata": {},
   "outputs": [],
   "source": [
    "##Primero definimos las variables inciales:\n",
    "t = symbols('t')\n",
    "#intento 3:\n",
    "# r0=[3,-6,9]\n",
    "# vt=[6*t,6*(t**5)-(2*t),7]\n",
    "#intento 4:\n",
    "r0=[1,-2,3]\n",
    "vt=[8*t,8*(t**7)+4*t,9]\n"
   ]
  },
  {
   "cell_type": "code",
   "execution_count": 357,
   "metadata": {},
   "outputs": [
    {
     "output_type": "execute_result",
     "data": {
      "text/plain": [
       "⎡       6       ⎤\n",
       "⎣8, 56⋅t  + 4, 0⎦"
      ],
      "image/png": "[encoded data removed]",
      "text/latex": "$\\displaystyle \\left[ 8, \\  56 t^{6} + 4, \\  0\\right]$"
     },
     "metadata": {},
     "execution_count": 357
    }
   ],
   "source": [
    "#Para hallar la aceleracion, derivamos la velocidad con respecto al tiempo:\n",
    "derivar(vt,t)\n",
    "#a(t) = "
   ]
  },
  {
   "cell_type": "code",
   "execution_count": 358,
   "metadata": {},
   "outputs": [
    {
     "output_type": "execute_result",
     "data": {
      "text/plain": [
       "⎡   2       8      2             ⎤\n",
       "⎣4⋅t  + 1, t  + 2⋅t  - 2, 9⋅t + 3⎦"
      ],
      "image/png": "[encoded data removed]",
      "text/latex": "$\\displaystyle \\left[ 4 t^{2} + 1, \\  t^{8} + 2 t^{2} - 2, \\  9 t + 3\\right]$"
     },
     "metadata": {},
     "execution_count": 358
    }
   ],
   "source": [
    "#Para hallar la posicion con respecto al tiempo, tenemos que integrar la velocidad con respecto al tiempo y sumar con la posicion inicial:\n",
    "rt = integrar(vt,t)\n",
    "sumarvectores(rt, r0)\n",
    "#r(t) = "
   ]
  },
  {
   "source": [
    "Pregunta 2:<br>\n",
    "Sea la curva C dada por la funcion vectorial:<br>\n",
    "r(t) = <raiz(2)*cos(t); sen(t); 2-sen(t)>, 0<=t<=pi/2 <br>\n",
    "Calcule la longitud de la curva C\n"
   ],
   "cell_type": "markdown",
   "metadata": {}
  },
  {
   "cell_type": "code",
   "execution_count": 387,
   "metadata": {},
   "outputs": [],
   "source": [
    "##Definimos las variables iniciales:\n",
    "t = symbols('t')\n",
    "#intento 1:\n",
    "# rt = [sqrt(2)*cos(t), sin(t), 2-sin(t)]\n",
    "# lim = [0,pi/2]\n",
    "#intento 4:\n",
    "rt=[exp(t)-t,4*exp(t/2),2]\n",
    "lim = [0,3]\n"
   ]
  },
  {
   "cell_type": "code",
   "execution_count": 388,
   "metadata": {},
   "outputs": [
    {
     "output_type": "execute_result",
     "data": {
      "text/plain": [
       "    __________________\n",
       "   ╱         2        \n",
       "  ╱  ⎛ t    ⎞       t \n",
       "╲╱   ⎝ℯ  - 1⎠  + 4⋅ℯ  "
      ],
      "image/png": "[encoded data removed]",
      "text/latex": "$\\displaystyle \\sqrt{\\left(e^{t} - 1\\right)^{2} + 4 e^{t}}$"
     },
     "metadata": {},
     "execution_count": 388
    }
   ],
   "source": [
    "#Calculamos su rapidez dependiendo de la \n",
    "rtdt = derivar(rt,t)\n",
    "rapidez = modulo(rtdt)\n",
    "rapidez"
   ]
  },
  {
   "cell_type": "code",
   "execution_count": 389,
   "metadata": {},
   "outputs": [
    {
     "output_type": "execute_result",
     "data": {
      "text/plain": [
       "3                          \n",
       "⌠                          \n",
       "⎮     __________________   \n",
       "⎮    ╱         2           \n",
       "⎮   ╱  ⎛ t    ⎞       t    \n",
       "⎮ ╲╱   ⎝ℯ  - 1⎠  + 4⋅ℯ   dt\n",
       "⌡                          \n",
       "0                          "
      ],
      "image/png": "[encoded data removed]",
      "text/latex": "$\\displaystyle \\int\\limits_{0}^{3} \\sqrt{\\left(e^{t} - 1\\right)^{2} + 4 e^{t}}\\, dt$"
     },
     "metadata": {},
     "execution_count": 389
    }
   ],
   "source": [
    "#Para hallar la longitud planteamos la siguiente integral:\n",
    "Integral(rapidez,(t,lim[0],lim[1]))"
   ]
  },
  {
   "cell_type": "code",
   "execution_count": 393,
   "metadata": {},
   "outputs": [
    {
     "output_type": "execute_result",
     "data": {
      "text/plain": [
       "3                          \n",
       "⌠                          \n",
       "⎮     __________________   \n",
       "⎮    ╱         2           \n",
       "⎮   ╱  ⎛ t    ⎞       t    \n",
       "⎮ ╲╱   ⎝ℯ  - 1⎠  + 4⋅ℯ   dt\n",
       "⌡                          \n",
       "0                          "
      ],
      "image/png": "[encoded data removed]",
      "text/latex": "$\\displaystyle \\int\\limits_{0}^{3} \\sqrt{\\left(e^{t} - 1\\right)^{2} + 4 e^{t}}\\, dt$"
     },
     "metadata": {},
     "execution_count": 393
    }
   ],
   "source": [
    "#Resultado de la integral:\n",
    "simplify(integrate(rapidez,(t,lim[0],lim[1])))"
   ]
  },
  {
   "source": [
    "Pregunta 2(intento 2):<br>\n",
    "Sea la curva C dada por la funcion vectorial:<br>\n",
    "r(t) = <3t-t^3; 3t^2; 1>, 0<=t<=2 <br>\n",
    "Calcule la longitud de la curva C"
   ],
   "cell_type": "markdown",
   "metadata": {}
  },
  {
   "cell_type": "code",
   "execution_count": 245,
   "metadata": {},
   "outputs": [],
   "source": [
    "##Definimos las variables iniciales:\n",
    "t = symbols('t', real=True)\n",
    "rt = [3*t-(t**3),3*(t**2),1]\n",
    "lim = [0,2]"
   ]
  },
  {
   "cell_type": "code",
   "execution_count": 246,
   "metadata": {},
   "outputs": [
    {
     "output_type": "execute_result",
     "data": {
      "text/plain": [
       "     _______________\n",
       "    ╱  4      2     \n",
       "3⋅╲╱  t  + 2⋅t  + 1 "
      ],
      "image/png": "[encoded data removed]",
      "text/latex": "$\\displaystyle 3 \\sqrt{t^{4} + 2 t^{2} + 1}$"
     },
     "metadata": {},
     "execution_count": 246
    }
   ],
   "source": [
    "rtdt = derivar(rt,t)\n",
    "rapidez = simplify(modulo(derivar(rt,t)))\n",
    "rapidez\n"
   ]
  },
  {
   "cell_type": "code",
   "execution_count": 251,
   "metadata": {},
   "outputs": [
    {
     "output_type": "execute_result",
     "data": {
      "text/plain": [
       "14"
      ],
      "image/png": "[encoded data removed]",
      "text/latex": "$\\displaystyle 14$"
     },
     "metadata": {},
     "execution_count": 251
    }
   ],
   "source": [
    "#Resultado de la integral:\n",
    "simplify(integrate(rapidez, (t,lim[0],lim[1])))"
   ]
  },
  {
   "source": [
    "Pregunta 2(intento 3):<br>\n",
    "Sea la curva C dada por la funcion vectorial:<br>\n",
    "r(t) = <raiz(2)*cos(t);sen(t);2-sen(t)>, 0<=t<=pi/2 <br>\n",
    "Calcule la longitud de la curva C"
   ],
   "cell_type": "markdown",
   "metadata": {}
  },
  {
   "cell_type": "code",
   "execution_count": 316,
   "metadata": {},
   "outputs": [],
   "source": [
    "##Definimos las variables iniciales:\n",
    "t = symbols('t', real=True)\n",
    "rt = [sqrt(2)*cos(t),sin(t),2-sin(t)]\n",
    "lim = [0,pi/2]"
   ]
  },
  {
   "cell_type": "code",
   "execution_count": 320,
   "metadata": {},
   "outputs": [
    {
     "output_type": "execute_result",
     "data": {
      "text/plain": [
       "√2"
      ],
      "image/png": "[encoded data removed]",
      "text/latex": "$\\displaystyle \\sqrt{2}$"
     },
     "metadata": {},
     "execution_count": 320
    }
   ],
   "source": [
    "rtdt = derivar(rt,t)\n",
    "rapidez = simplify(modulo(derivar(rt,t)))\n",
    "rapidez\n",
    "#Para hallar la longitud necesitamos la rapidez"
   ]
  },
  {
   "cell_type": "code",
   "execution_count": 318,
   "metadata": {},
   "outputs": [
    {
     "output_type": "execute_result",
     "data": {
      "text/plain": [
       "√2⋅π\n",
       "────\n",
       " 2  "
      ],
      "image/png": "[encoded data removed]",
      "text/latex": "$\\displaystyle \\frac{\\sqrt{2} \\pi}{2}$"
     },
     "metadata": {},
     "execution_count": 318
    }
   ],
   "source": [
    "#Para hallar la respuesta tenemos que integrar la rapidez con respecto al tiempo, considerando los limites de t:\n",
    "simplify(integrate(rapidez, (t,lim[0],lim[1])))"
   ]
  },
  {
   "source": [
    "PREGUNTA 3: <br>\n",
    "Dado el campo de fuerza:<br>\n",
    "F(x;y)=<xy;y^2> <br>\n",
    "y la curva C:<br>\n",
    "y^2-x=1 <br>\n",
    "que va desde A(8;-3) hasta B(-1;0)"
   ],
   "cell_type": "markdown",
   "metadata": {}
  },
  {
   "cell_type": "code",
   "execution_count": 211,
   "metadata": {},
   "outputs": [],
   "source": [
    "x,y = symbols('x y')\n",
    "curva = y**2-x-1\n",
    "campo = [x*y,y**2]\n",
    "puntoA = [8,-3]\n",
    "puntoB = [-1,0]"
   ]
  },
  {
   "cell_type": "code",
   "execution_count": 212,
   "metadata": {},
   "outputs": [
    {
     "output_type": "execute_result",
     "data": {
      "text/plain": [
       "⎡ 2       ⎤\n",
       "⎣t  - 1, t⎦"
      ],
      "image/png": "[encoded data removed]",
      "text/latex": "$\\displaystyle \\left[ t^{2} - 1, \\  t\\right]$"
     },
     "metadata": {},
     "execution_count": 212
    }
   ],
   "source": [
    "#Parametrizar la curva C, usando y=t:\n",
    "rt = [solve(curva, x)[0].subs(y,t) , t]\n",
    "rt \n",
    "#Vector rt ="
   ]
  },
  {
   "cell_type": "code",
   "execution_count": 213,
   "metadata": {},
   "outputs": [
    {
     "output_type": "execute_result",
     "data": {
      "text/plain": [
       " 2    \n",
       "y  - 1"
      ],
      "image/png": "[encoded data removed]",
      "text/latex": "$\\displaystyle y^{2} - 1$"
     },
     "metadata": {},
     "execution_count": 213
    }
   ],
   "source": [
    "solve(curva, x)[0]"
   ]
  },
  {
   "cell_type": "code",
   "execution_count": 214,
   "metadata": {},
   "outputs": [
    {
     "output_type": "execute_result",
     "data": {
      "text/plain": [
       "⎡  ⎛ 2    ⎞   2⎤\n",
       "⎣t⋅⎝t  - 1⎠, t ⎦"
      ],
      "image/png": "[encoded data removed]",
      "text/latex": "$\\displaystyle \\left[ t \\left(t^{2} - 1\\right), \\  t^{2}\\right]$"
     },
     "metadata": {},
     "execution_count": 214
    }
   ],
   "source": [
    "frt= [campo[0].subs(x,rt[0]).subs(y,rt[1]),campo[1].subs(y,rt[1])]\n",
    "frt\n",
    "#vector f(r(t))="
   ]
  },
  {
   "cell_type": "code",
   "execution_count": 215,
   "metadata": {},
   "outputs": [
    {
     "output_type": "execute_result",
     "data": {
      "text/plain": [
       "[2⋅t, 1]"
      ],
      "image/png": "[encoded data removed]",
      "text/latex": "$\\displaystyle \\left[ 2 t, \\  1\\right]$"
     },
     "metadata": {},
     "execution_count": 215
    }
   ],
   "source": [
    "dr = derivar(rt,t)\n",
    "dr\n",
    "#r'(t)="
   ]
  },
  {
   "cell_type": "code",
   "execution_count": 216,
   "metadata": {},
   "outputs": [
    {
     "output_type": "execute_result",
     "data": {
      "text/plain": [
       "0                \n",
       "⌠                \n",
       "⎮  ⎛   4    2⎞   \n",
       "⎮  ⎝2⋅t  - t ⎠ dt\n",
       "⌡                \n",
       "-3               "
      ],
      "image/png": "[encoded data removed]",
      "text/latex": "$\\displaystyle \\int\\limits_{-3}^{0} \\left(2 t^{4} - t^{2}\\right)\\, dt$"
     },
     "metadata": {},
     "execution_count": 216
    }
   ],
   "source": [
    "#Planteamos la integral que permite calcular el trabajo realizar por el campo de fuerza F a lo largo de la curva C desde A hasta B\n",
    "#Como y=t, los limites de y son:\n",
    "limsuperior = max(puntoA[1],puntoB[1])\n",
    "liminferior = min(puntoA[1],puntoB[1])\n",
    "Integral(simplify(productopunto(frt,dr)), (t,liminferior,limsuperior))"
   ]
  },
  {
   "source": [
    "PREGUNTA 3 (Intento 2):<br>\n",
    "Dado el campo de fuerza:<br>\n",
    "F(x;y)=<y^2;xy> <br>\n",
    "y la curva C:<br>\n",
    "y^3-x=1 <br>\n",
    "que va desde A(-2;-1) hasta B(0;1)\n"
   ],
   "cell_type": "markdown",
   "metadata": {}
  },
  {
   "cell_type": "code",
   "execution_count": 13,
   "metadata": {},
   "outputs": [],
   "source": [
    "x,y,t = symbols('x y t')\n",
    "#Valores iniciales:\n",
    "# curva = y**3-x-1\n",
    "# campo = [y**2,x*y]\n",
    "# puntoA = [-2,-1]\n",
    "# puntoB = [0,1]\n",
    "\n",
    "# curva = y**2-x-1\n",
    "# campo = [x*y,y**2]\n",
    "# puntoA = [-1,0]\n",
    "# puntoB = [8,3]\n",
    "\n",
    "curva = x**2-y+1\n",
    "campo = [x*y,x**2]\n",
    "puntoA = [0,1]\n",
    "puntoB = [2,5]"
   ]
  },
  {
   "cell_type": "code",
   "execution_count": 14,
   "metadata": {},
   "outputs": [
    {
     "output_type": "execute_result",
     "data": {
      "text/plain": [
       "⎡    2    ⎤\n",
       "⎣t, t  + 1⎦"
      ],
      "image/png": "[encoded data removed]",
      "text/latex": "$\\displaystyle \\left[ t, \\  t^{2} + 1\\right]$"
     },
     "metadata": {},
     "execution_count": 14
    }
   ],
   "source": [
    "#Parametrizar la curva C, usando x=t:\n",
    "rt = [t, solve(curva, y)[0].subs(x,t)]\n",
    "rt \n",
    "#Vector rt ="
   ]
  },
  {
   "cell_type": "code",
   "execution_count": 15,
   "metadata": {},
   "outputs": [
    {
     "output_type": "execute_result",
     "data": {
      "text/plain": [
       "[0, 2]"
      ],
      "image/png": "[encoded data removed]",
      "text/latex": "$\\displaystyle \\left[ 0, \\  2\\right]$"
     },
     "metadata": {},
     "execution_count": 15
    }
   ],
   "source": [
    "#Limites de t:\n",
    "limites = [min(puntoA[0],puntoB[0]),max(puntoA[0],puntoB[0])]\n",
    "limites"
   ]
  },
  {
   "cell_type": "code",
   "execution_count": 16,
   "metadata": {},
   "outputs": [
    {
     "output_type": "execute_result",
     "data": {
      "text/plain": [
       "⎡  ⎛ 2    ⎞   2⎤\n",
       "⎣t⋅⎝t  + 1⎠, t ⎦"
      ],
      "image/png": "[encoded data removed]",
      "text/latex": "$\\displaystyle \\left[ t \\left(t^{2} + 1\\right), \\  t^{2}\\right]$"
     },
     "metadata": {},
     "execution_count": 16
    }
   ],
   "source": [
    "frt= [campo[0].subs(x,rt[0]).subs(y,rt[1]),campo[1].subs(y,rt[1]).subs(x,rt[0])]\n",
    "frt\n",
    "#vector f(r(t))="
   ]
  },
  {
   "cell_type": "code",
   "execution_count": 17,
   "metadata": {},
   "outputs": [
    {
     "output_type": "execute_result",
     "data": {
      "text/plain": [
       "[1, 2⋅t]"
      ],
      "image/png": "[encoded data removed]",
      "text/latex": "$\\displaystyle \\left[ 1, \\  2 t\\right]$"
     },
     "metadata": {},
     "execution_count": 17
    }
   ],
   "source": [
    "dr = derivar(rt,t)\n",
    "dr\n",
    "#r'(t)="
   ]
  },
  {
   "cell_type": "code",
   "execution_count": 19,
   "metadata": {},
   "outputs": [
    {
     "output_type": "execute_result",
     "data": {
      "text/plain": [
       "2              \n",
       "⌠              \n",
       "⎮ ⎛   3    ⎞   \n",
       "⎮ ⎝3⋅t  + t⎠ dt\n",
       "⌡              \n",
       "0              "
      ],
      "image/png": "[encoded data removed]",
      "text/latex": "$\\displaystyle \\int\\limits_{0}^{2} \\left(3 t^{3} + t\\right)\\, dt$"
     },
     "metadata": {},
     "execution_count": 19
    }
   ],
   "source": [
    "#Planteamos la integral que permite calcular el trabajo realizar por el campo de fuerza F a lo largo de la curva C desde A hasta B\n",
    "#Como y=t, los limites de y son:\n",
    "limsuperior = max(puntoA[0],puntoB[0])\n",
    "liminferior = min(puntoA[0],puntoB[0])\n",
    "Integral(simplify(productopunto(frt,dr)), (t,liminferior,limsuperior))"
   ]
  },
  {
   "source": [
    "PREGUNTA 3 (Intento 3):<br>\n",
    "Dado el campo de fuerza:<br>\n",
    "F(x;y)=<2(y^2);-xy> <br>\n",
    "y la curva C:<br>\n",
    "x^2-y=-1 <br>\n",
    "que va desde A(0;1) hasta B(1;2)\n"
   ],
   "cell_type": "markdown",
   "metadata": {}
  },
  {
   "cell_type": "code",
   "execution_count": 321,
   "metadata": {},
   "outputs": [],
   "source": [
    "x,y,t = symbols('x y t')\n",
    "#Valores iniciales:\n",
    "curva = x**2-y+1\n",
    "campo = [2*(y**2),-1*x*y]\n",
    "puntoA = [0,1]\n",
    "puntoB = [1,2]"
   ]
  },
  {
   "cell_type": "code",
   "execution_count": 334,
   "metadata": {},
   "outputs": [
    {
     "output_type": "execute_result",
     "data": {
      "text/plain": [
       "⎡    2    ⎤\n",
       "⎣t, t  + 1⎦"
      ],
      "image/png": "[encoded data removed]",
      "text/latex": "$\\displaystyle \\left[ t, \\  t^{2} + 1\\right]$"
     },
     "metadata": {},
     "execution_count": 334
    }
   ],
   "source": [
    "#Parametrizar la curva C, usando x=t:\n",
    "rt = [t,solve(curva, y)[0].subs(x,t)]\n",
    "rt \n",
    "#Vector rt ="
   ]
  },
  {
   "cell_type": "code",
   "execution_count": 335,
   "metadata": {},
   "outputs": [
    {
     "output_type": "execute_result",
     "data": {
      "text/plain": [
       "[0, 1]"
      ],
      "image/png": "[encoded data removed]",
      "text/latex": "$\\displaystyle \\left[ 0, \\  1\\right]$"
     },
     "metadata": {},
     "execution_count": 335
    }
   ],
   "source": [
    "#Limites de t:\n",
    "limites = [min(puntoA[0],puntoB[0]),max(puntoA[0],puntoB[0])]\n",
    "limites"
   ]
  },
  {
   "cell_type": "code",
   "execution_count": 336,
   "metadata": {},
   "outputs": [
    {
     "output_type": "execute_result",
     "data": {
      "text/plain": [
       "⎡          2             ⎤\n",
       "⎢  ⎛ 2    ⎞      ⎛ 2    ⎞⎥\n",
       "⎣2⋅⎝t  + 1⎠ , -t⋅⎝t  + 1⎠⎦"
      ],
      "image/png": "[encoded data removed]",
      "text/latex": "$\\displaystyle \\left[ 2 \\left(t^{2} + 1\\right)^{2}, \\  - t \\left(t^{2} + 1\\right)\\right]$"
     },
     "metadata": {},
     "execution_count": 336
    }
   ],
   "source": [
    "frt= [campo[0].subs(x,rt[0]).subs(y,rt[1]),campo[1].subs(y,rt[1]).subs(x,rt[0])]\n",
    "frt\n",
    "#vector f(r(t))="
   ]
  },
  {
   "cell_type": "code",
   "execution_count": 337,
   "metadata": {},
   "outputs": [
    {
     "output_type": "execute_result",
     "data": {
      "text/plain": [
       "[1, 2⋅t]"
      ],
      "image/png": "[encoded data removed]",
      "text/latex": "$\\displaystyle \\left[ 1, \\  2 t\\right]$"
     },
     "metadata": {},
     "execution_count": 337
    }
   ],
   "source": [
    "dr = derivar(rt,t)\n",
    "dr\n",
    "#r'(t)="
   ]
  },
  {
   "cell_type": "code",
   "execution_count": 338,
   "metadata": {},
   "outputs": [
    {
     "output_type": "execute_result",
     "data": {
      "text/plain": [
       "2              \n",
       "⌠              \n",
       "⎮ ⎛   2    ⎞   \n",
       "⎮ ⎝2⋅t  + 2⎠ dt\n",
       "⌡              \n",
       "1              "
      ],
      "image/png": "[encoded data removed]",
      "text/latex": "$\\displaystyle \\int\\limits_{1}^{2} \\left(2 t^{2} + 2\\right)\\, dt$"
     },
     "metadata": {},
     "execution_count": 338
    }
   ],
   "source": [
    "#Planteamos la integral que permite calcular el trabajo realizar por el campo de fuerza F a lo largo de la curva C desde A hasta B\n",
    "#Como y=t, los limites de y son:\n",
    "limsuperior = max(puntoA[1],puntoB[1])\n",
    "liminferior = min(puntoA[1],puntoB[1])\n",
    "Integral(simplify(productopunto(frt,dr)), (t,liminferior,limsuperior))"
   ]
  },
  {
   "source": [
    "PREGUNTA 4:<br>\n",
    "Aplique el Teorema Fundamental de Integrales de Línea para calcular el trabajo (W en joules) realizado por el campo de las fuerzas<br>\n",
    "F(x;y) = <5x^4y+y^2;x^5+2yx> <br> sobre una partícula que se mueve a lo largo del segmento de recta desde A(0;1) hasta B(2;1)"
   ],
   "cell_type": "markdown",
   "metadata": {}
  },
  {
   "cell_type": "code",
   "execution_count": 400,
   "metadata": {},
   "outputs": [],
   "source": [
    "#definifmos las variables iniciales:\n",
    "x,y = symbols('x y')\n",
    "fxy = [5*(x**4)*y+y**2,x**5+2*x*y]\n",
    "p = fxy[0]\n",
    "q = fxy[1]\n",
    "puntoA = [0,1]\n",
    "puntoB = [2,1]\n",
    "# puntoA = [-2,0]\n",
    "# puntoB = [1,2]"
   ]
  },
  {
   "cell_type": "code",
   "execution_count": 401,
   "metadata": {},
   "outputs": [
    {
     "output_type": "stream",
     "name": "stdout",
     "text": [
      "Es conservatorio\n"
     ]
    }
   ],
   "source": [
    "#El teorema dice: w = f(B) - f(A), donde F debe de ser conservativo, donde Qx = Py\n",
    "#Primero tenemos que ver si es conservativo:\n",
    "if diff(q,x)==diff(p,y):\n",
    "    print('Es conservatorio')\n",
    "else:\n",
    "    print('No es conservatorio')"
   ]
  },
  {
   "cell_type": "code",
   "execution_count": 402,
   "metadata": {},
   "outputs": [
    {
     "output_type": "execute_result",
     "data": {
      "text/plain": [
       " 5        2\n",
       "x ⋅y + x⋅y "
      ],
      "image/png": "[encoded data removed]",
      "text/latex": "$\\displaystyle x^{5} y + x y^{2}$"
     },
     "metadata": {},
     "execution_count": 402
    }
   ],
   "source": [
    "#Hallamos la funcion exponencial:\n",
    "f = integrate(p,x)\n",
    "f"
   ]
  },
  {
   "cell_type": "code",
   "execution_count": 403,
   "metadata": {},
   "outputs": [
    {
     "output_type": "execute_result",
     "data": {
      "text/plain": [
       "34"
      ],
      "image/png": "[encoded data removed]",
      "text/latex": "$\\displaystyle 34$"
     },
     "metadata": {},
     "execution_count": 403
    }
   ],
   "source": [
    "#Ahora que tenemos la funcion exponencial (f), hallamos el trabajo\n",
    "wA = f.subs(x,puntoA[0]).subs(y,puntoA[1])\n",
    "wB = f.subs(x,puntoB[0]).subs(y,puntoB[1])\n",
    "#w = \n",
    "abs(wA-wB)"
   ]
  },
  {
   "source": [
    "PREGUNTA 4 (Intento 2):<br>\n",
    "Aplique el Teorema Fundamental de Integrales de Línea para calcular el trabajo (W en joules) realizado por el campo de las fuerzas<br>\n",
    "F(x;y) = <5(x^4)*y+y^2;x^5+2xy> <br> \n",
    "sobre una partícula que se mueve a lo largo del segmento de recta desde A(-2;0) hasta B(1;2)"
   ],
   "cell_type": "markdown",
   "metadata": {}
  },
  {
   "cell_type": "code",
   "execution_count": 285,
   "metadata": {},
   "outputs": [],
   "source": [
    "#definifmos las variables iniciales:\n",
    "x,y = symbols('x y')\n",
    "fxy = [5*(x**4)*y+y**2,x**5+2*x*y]\n",
    "p = fxy[0]\n",
    "q = fxy[1]\n",
    "#Sólo cambian los puntos con respecto al anterior intento\n",
    "puntoA = [-2,0]\n",
    "puntoB = [1,2]"
   ]
  },
  {
   "cell_type": "code",
   "execution_count": 286,
   "metadata": {},
   "outputs": [
    {
     "output_type": "stream",
     "name": "stdout",
     "text": [
      "Es conservatorio\n"
     ]
    }
   ],
   "source": [
    "#El teorema dice: w = f(B) - f(A), donde F debe de ser conservativo, donde Qx = Py\n",
    "#Primero tenemos que ver si es conservativo:\n",
    "if diff(q,x)==diff(p,y):\n",
    "    print('Es conservatorio')\n",
    "else:\n",
    "    print('No es conservatorio')"
   ]
  },
  {
   "cell_type": "code",
   "execution_count": 287,
   "metadata": {},
   "outputs": [
    {
     "output_type": "execute_result",
     "data": {
      "text/plain": [
       " 5        2\n",
       "x ⋅y + x⋅y "
      ],
      "image/png": "[encoded data removed]",
      "text/latex": "$\\displaystyle x^{5} y + x y^{2}$"
     },
     "metadata": {},
     "execution_count": 287
    }
   ],
   "source": [
    "#Hallamos la funcion exponencial:\n",
    "f = integrate(p,x)\n",
    "f"
   ]
  },
  {
   "cell_type": "code",
   "execution_count": 288,
   "metadata": {},
   "outputs": [
    {
     "output_type": "execute_result",
     "data": {
      "text/plain": [
       "6"
      ],
      "image/png": "[encoded data removed]",
      "text/latex": "$\\displaystyle 6$"
     },
     "metadata": {},
     "execution_count": 288
    }
   ],
   "source": [
    "#Ahora que tenemos la funcion exponencial (f), hallamos el trabajo\n",
    "wA = f.subs(x,puntoA[0]).subs(y,puntoA[1])\n",
    "wB = f.subs(x,puntoB[0]).subs(y,puntoB[1])\n",
    "#w = \n",
    "abs(wA-wB)"
   ]
  },
  {
   "source": [
    "PREGUNTA 4 (Intento 3):<br>\n",
    "Aplique el Teorema Fundamental de Integrales de Línea para calcular el trabajo (W en joules) realizado por el campo de las fuerzas<br>\n",
    "F(x;y) = <3(x^2)y+y^4;x^3+4(y^3)x> <br> \n",
    "sobre una partícula que se mueve a lo largo del segmento de recta desde A(3;0) hasta B(1;2)"
   ],
   "cell_type": "markdown",
   "metadata": {}
  },
  {
   "cell_type": "code",
   "execution_count": 339,
   "metadata": {},
   "outputs": [],
   "source": [
    "#definifmos las variables iniciales:\n",
    "x,y = symbols('x y')\n",
    "fxy = [3*(x**2)*y+y**4,x**3+4*(y**3)*x]\n",
    "p = fxy[0]\n",
    "q = fxy[1]\n",
    "puntoA = [3,0]\n",
    "puntoB = [1,2]"
   ]
  },
  {
   "cell_type": "code",
   "execution_count": 340,
   "metadata": {},
   "outputs": [
    {
     "output_type": "stream",
     "name": "stdout",
     "text": [
      "Es conservatorio\n"
     ]
    }
   ],
   "source": [
    "#El teorema dice: w = f(B) - f(A), donde F debe de ser conservativo, donde Qx = Py\n",
    "#Primero tenemos que ver si es conservativo:\n",
    "if diff(q,x)==diff(p,y):\n",
    "    print('Es conservatorio')\n",
    "else:\n",
    "    print('No es conservatorio')"
   ]
  },
  {
   "cell_type": "code",
   "execution_count": 341,
   "metadata": {},
   "outputs": [
    {
     "output_type": "execute_result",
     "data": {
      "text/plain": [
       " 3        4\n",
       "x ⋅y + x⋅y "
      ],
      "image/png": "[encoded data removed]",
      "text/latex": "$\\displaystyle x^{3} y + x y^{4}$"
     },
     "metadata": {},
     "execution_count": 341
    }
   ],
   "source": [
    "#Hallamos la funcion exponencial:\n",
    "f = integrate(p,x)\n",
    "f"
   ]
  },
  {
   "cell_type": "code",
   "execution_count": 342,
   "metadata": {},
   "outputs": [
    {
     "output_type": "execute_result",
     "data": {
      "text/plain": [
       "18"
      ],
      "image/png": "[encoded data removed]",
      "text/latex": "$\\displaystyle 18$"
     },
     "metadata": {},
     "execution_count": 342
    }
   ],
   "source": [
    "#Ahora que tenemos la funcion exponencial (f), hallamos el trabajo\n",
    "wA = f.subs(x,puntoA[0]).subs(y,puntoA[1])\n",
    "wB = f.subs(x,puntoB[0]).subs(y,puntoB[1])\n",
    "#w = \n",
    "abs(wA-wB)"
   ]
  },
  {
   "source": [
    "PREGUNTA 5: <br>\n",
    "Use el Teorema de Green, para calcular el flujo del campo vectorial a trvés de la curva cerrada C, con orientacion positiva.<br>\n",
    "simbolo green = lc <br>\n",
    "lc (x^2020+y)dx + (e^(y^2)+1-x)dy <br>\n",
    "donde C:<br>\n",
    "x^2+y^2=16 <br>\n",
    "Hallar la integral doble que permite el cálculo del flujo y el valor de la misma."
   ],
   "cell_type": "markdown",
   "metadata": {}
  },
  {
   "cell_type": "code",
   "execution_count": 293,
   "metadata": {},
   "outputs": [],
   "source": [
    "x,y = symbols('x y')\n",
    "curva = x**2+y**2-16 #de lo cual se sabe que el radio es 4\n",
    "funcion = [x**2020+y,exp(y**2)+1-x]\n",
    "#la parte de dx pasa a ser el primer factor y dy pasa a ser el segundo\n",
    "#funcion = P(x,y) + Q(x,y)"
   ]
  },
  {
   "cell_type": "code",
   "execution_count": 294,
   "metadata": {},
   "outputs": [
    {
     "output_type": "display_data",
     "data": {
      "text/plain": "<Figure size 432x288 with 1 Axes>",
      "image/svg+xml": "<?xml version=\"1.0\" encoding=\"utf-8\" standalone=\"no\"?>\r\n<!DOCTYPE svg PUBLIC \"-//W3C//DTD SVG 1.1//EN\"\r\n  \"http://www.w3.org/Graphics/SVG/1.1/DTD/svg11.dtd\">\r\n<!-- Created with matplotlib (https://matplotlib.org/) -->\r\n<svg height=\"288.921094pt\" version=\"1.1\" viewBox=\"0 0 427.259375 288.921094\" width=\"427.259375pt\" xmlns=\"http://www.w3.org/2000/svg\" xmlns:xlink=\"http://www.w3.org/1999/xlink\">\r\n <metadata>\r\n  <rdf:RDF xmlns:cc=\"http://creativecommons.org/ns#\" xmlns:dc=\"http://purl.org/dc/elements/1.1/\" xmlns:rdf=\"http://www.w3.org/1999/02/22-rdf-syntax-ns#\">\r\n   <cc:Work>\r\n    <dc:type rdf:resource=\"http://purl.org/dc/dcmitype/StillImage\"/>\r\n    <dc:date>2020-11-08T16:27:08.991058</dc:date>\r\n    <dc:format>image/svg+xml</dc:format>\r\n    <dc:creator>\r\n     <cc:Agent>\r\n      <dc:title>Matplotlib v3.3.2, https://matplotlib.org/</dc:title>\r\n     </cc:Agent>\r\n    </dc:creator>\r\n   </cc:Work>\r\n  </rdf:RDF>\r\n </metadata>\r\n <defs>\r\n  <style type=\"text/css\">*{stroke-linecap:butt;stroke-linejoin:round;}</style>\r\n </defs>\r\n <g id=\"figure_1\">\r\n  <g id=\"patch_1\">\r\n   <path d=\"M 0 288.921094 \r\nL 427.259375 288.921094 \r\nL 427.259375 0 \r\nL 0 0 \r\nz\r\n\" style=\"fill:none;\"/>\r\n  </g>\r\n  <g id=\"axes_1\">\r\n   <g id=\"patch_2\">\r\n    <path d=\"M 7.2 281.721094 \r\nL 417.1 281.721094 \r\nL 417.1 15.821094 \r\nL 7.2 15.821094 \r\nz\r\n\" style=\"fill:#ffffff;\"/>\r\n   </g>\r\n   <g id=\"matplotlib.axis_1\">\r\n    <g id=\"xtick_1\">\r\n     <g id=\"line2d_1\">\r\n      <defs>\r\n       <path d=\"M 0 0 \r\nL 0 3.5 \r\n\" id=\"mff7a30cd6c\" style=\"stroke:#000000;stroke-width:0.8;\"/>\r\n      </defs>\r\n      <g>\r\n       <use style=\"stroke:#000000;stroke-width:0.8;\" x=\"25.751932\" xlink:href=\"#mff7a30cd6c\" y=\"148.797461\"/>\r\n      </g>\r\n     </g>\r\n     <g id=\"text_1\">\r\n      <!-- −4 -->\r\n      <g transform=\"translate(18.380838 163.395899)scale(0.1 -0.1)\">\r\n       <defs>\r\n        <path d=\"M 10.59375 35.5 \r\nL 73.1875 35.5 \r\nL 73.1875 27.203125 \r\nL 10.59375 27.203125 \r\nz\r\n\" id=\"DejaVuSans-8722\"/>\r\n        <path d=\"M 37.796875 64.3125 \r\nL 12.890625 25.390625 \r\nL 37.796875 25.390625 \r\nz\r\nM 35.203125 72.90625 \r\nL 47.609375 72.90625 \r\nL 47.609375 25.390625 \r\nL 58.015625 25.390625 \r\nL 58.015625 17.1875 \r\nL 47.609375 17.1875 \r\nL 47.609375 0 \r\nL 37.796875 0 \r\nL 37.796875 17.1875 \r\nL 4.890625 17.1875 \r\nL 4.890625 26.703125 \r\nz\r\n\" id=\"DejaVuSans-52\"/>\r\n       </defs>\r\n       <use xlink:href=\"#DejaVuSans-8722\"/>\r\n       <use x=\"83.789062\" xlink:href=\"#DejaVuSans-52\"/>\r\n      </g>\r\n     </g>\r\n    </g>\r\n    <g id=\"xtick_2\">\r\n     <g id=\"line2d_2\">\r\n      <g>\r\n       <use style=\"stroke:#000000;stroke-width:0.8;\" x=\"72.341868\" xlink:href=\"#mff7a30cd6c\" y=\"148.797461\"/>\r\n      </g>\r\n     </g>\r\n     <g id=\"text_2\">\r\n      <!-- −3 -->\r\n      <g transform=\"translate(64.970774 163.395899)scale(0.1 -0.1)\">\r\n       <defs>\r\n        <path d=\"M 40.578125 39.3125 \r\nQ 47.65625 37.796875 51.625 33 \r\nQ 55.609375 28.21875 55.609375 21.1875 \r\nQ 55.609375 10.40625 48.1875 4.484375 \r\nQ 40.765625 -1.421875 27.09375 -1.421875 \r\nQ 22.515625 -1.421875 17.65625 -0.515625 \r\nQ 12.796875 0.390625 7.625 2.203125 \r\nL 7.625 11.71875 \r\nQ 11.71875 9.328125 16.59375 8.109375 \r\nQ 21.484375 6.890625 26.8125 6.890625 \r\nQ 36.078125 6.890625 40.9375 10.546875 \r\nQ 45.796875 14.203125 45.796875 21.1875 \r\nQ 45.796875 27.640625 41.28125 31.265625 \r\nQ 36.765625 34.90625 28.71875 34.90625 \r\nL 20.21875 34.90625 \r\nL 20.21875 43.015625 \r\nL 29.109375 43.015625 \r\nQ 36.375 43.015625 40.234375 45.921875 \r\nQ 44.09375 48.828125 44.09375 54.296875 \r\nQ 44.09375 59.90625 40.109375 62.90625 \r\nQ 36.140625 65.921875 28.71875 65.921875 \r\nQ 24.65625 65.921875 20.015625 65.03125 \r\nQ 15.375 64.15625 9.8125 62.3125 \r\nL 9.8125 71.09375 \r\nQ 15.4375 72.65625 20.34375 73.4375 \r\nQ 25.25 74.21875 29.59375 74.21875 \r\nQ 40.828125 74.21875 47.359375 69.109375 \r\nQ 53.90625 64.015625 53.90625 55.328125 \r\nQ 53.90625 49.265625 50.4375 45.09375 \r\nQ 46.96875 40.921875 40.578125 39.3125 \r\nz\r\n\" id=\"DejaVuSans-51\"/>\r\n       </defs>\r\n       <use xlink:href=\"#DejaVuSans-8722\"/>\r\n       <use x=\"83.789062\" xlink:href=\"#DejaVuSans-51\"/>\r\n      </g>\r\n     </g>\r\n    </g>\r\n    <g id=\"xtick_3\">\r\n     <g id=\"line2d_3\">\r\n      <g>\r\n       <use style=\"stroke:#000000;stroke-width:0.8;\" x=\"118.931804\" xlink:href=\"#mff7a30cd6c\" y=\"148.797461\"/>\r\n      </g>\r\n     </g>\r\n     <g id=\"text_3\">\r\n      <!-- −2 -->\r\n      <g transform=\"translate(111.56071 163.395899)scale(0.1 -0.1)\">\r\n       <defs>\r\n        <path d=\"M 19.1875 8.296875 \r\nL 53.609375 8.296875 \r\nL 53.609375 0 \r\nL 7.328125 0 \r\nL 7.328125 8.296875 \r\nQ 12.9375 14.109375 22.625 23.890625 \r\nQ 32.328125 33.6875 34.8125 36.53125 \r\nQ 39.546875 41.84375 41.421875 45.53125 \r\nQ 43.3125 49.21875 43.3125 52.78125 \r\nQ 43.3125 58.59375 39.234375 62.25 \r\nQ 35.15625 65.921875 28.609375 65.921875 \r\nQ 23.96875 65.921875 18.8125 64.3125 \r\nQ 13.671875 62.703125 7.8125 59.421875 \r\nL 7.8125 69.390625 \r\nQ 13.765625 71.78125 18.9375 73 \r\nQ 24.125 74.21875 28.421875 74.21875 \r\nQ 39.75 74.21875 46.484375 68.546875 \r\nQ 53.21875 62.890625 53.21875 53.421875 \r\nQ 53.21875 48.921875 51.53125 44.890625 \r\nQ 49.859375 40.875 45.40625 35.40625 \r\nQ 44.1875 33.984375 37.640625 27.21875 \r\nQ 31.109375 20.453125 19.1875 8.296875 \r\nz\r\n\" id=\"DejaVuSans-50\"/>\r\n       </defs>\r\n       <use xlink:href=\"#DejaVuSans-8722\"/>\r\n       <use x=\"83.789062\" xlink:href=\"#DejaVuSans-50\"/>\r\n      </g>\r\n     </g>\r\n    </g>\r\n    <g id=\"xtick_4\">\r\n     <g id=\"line2d_4\">\r\n      <g>\r\n       <use style=\"stroke:#000000;stroke-width:0.8;\" x=\"165.52174\" xlink:href=\"#mff7a30cd6c\" y=\"148.797461\"/>\r\n      </g>\r\n     </g>\r\n     <g id=\"text_4\">\r\n      <!-- −1 -->\r\n      <g transform=\"translate(158.150646 163.395899)scale(0.1 -0.1)\">\r\n       <defs>\r\n        <path d=\"M 12.40625 8.296875 \r\nL 28.515625 8.296875 \r\nL 28.515625 63.921875 \r\nL 10.984375 60.40625 \r\nL 10.984375 69.390625 \r\nL 28.421875 72.90625 \r\nL 38.28125 72.90625 \r\nL 38.28125 8.296875 \r\nL 54.390625 8.296875 \r\nL 54.390625 0 \r\nL 12.40625 0 \r\nz\r\n\" id=\"DejaVuSans-49\"/>\r\n       </defs>\r\n       <use xlink:href=\"#DejaVuSans-8722\"/>\r\n       <use x=\"83.789062\" xlink:href=\"#DejaVuSans-49\"/>\r\n      </g>\r\n     </g>\r\n    </g>\r\n    <g id=\"xtick_5\">\r\n     <g id=\"line2d_5\">\r\n      <g>\r\n       <use style=\"stroke:#000000;stroke-width:0.8;\" x=\"212.111676\" xlink:href=\"#mff7a30cd6c\" y=\"148.797461\"/>\r\n      </g>\r\n     </g>\r\n     <g id=\"text_5\">\r\n      <!-- 0 -->\r\n      <g transform=\"translate(208.930426 163.395899)scale(0.1 -0.1)\">\r\n       <defs>\r\n        <path d=\"M 31.78125 66.40625 \r\nQ 24.171875 66.40625 20.328125 58.90625 \r\nQ 16.5 51.421875 16.5 36.375 \r\nQ 16.5 21.390625 20.328125 13.890625 \r\nQ 24.171875 6.390625 31.78125 6.390625 \r\nQ 39.453125 6.390625 43.28125 13.890625 \r\nQ 47.125 21.390625 47.125 36.375 \r\nQ 47.125 51.421875 43.28125 58.90625 \r\nQ 39.453125 66.40625 31.78125 66.40625 \r\nz\r\nM 31.78125 74.21875 \r\nQ 44.046875 74.21875 50.515625 64.515625 \r\nQ 56.984375 54.828125 56.984375 36.375 \r\nQ 56.984375 17.96875 50.515625 8.265625 \r\nQ 44.046875 -1.421875 31.78125 -1.421875 \r\nQ 19.53125 -1.421875 13.0625 8.265625 \r\nQ 6.59375 17.96875 6.59375 36.375 \r\nQ 6.59375 54.828125 13.0625 64.515625 \r\nQ 19.53125 74.21875 31.78125 74.21875 \r\nz\r\n\" id=\"DejaVuSans-48\"/>\r\n       </defs>\r\n       <use xlink:href=\"#DejaVuSans-48\"/>\r\n      </g>\r\n     </g>\r\n    </g>\r\n    <g id=\"xtick_6\">\r\n     <g id=\"line2d_6\">\r\n      <g>\r\n       <use style=\"stroke:#000000;stroke-width:0.8;\" x=\"258.701612\" xlink:href=\"#mff7a30cd6c\" y=\"148.797461\"/>\r\n      </g>\r\n     </g>\r\n     <g id=\"text_6\">\r\n      <!-- 1 -->\r\n      <g transform=\"translate(255.520362 163.395899)scale(0.1 -0.1)\">\r\n       <use xlink:href=\"#DejaVuSans-49\"/>\r\n      </g>\r\n     </g>\r\n    </g>\r\n    <g id=\"xtick_7\">\r\n     <g id=\"line2d_7\">\r\n      <g>\r\n       <use style=\"stroke:#000000;stroke-width:0.8;\" x=\"305.291548\" xlink:href=\"#mff7a30cd6c\" y=\"148.797461\"/>\r\n      </g>\r\n     </g>\r\n     <g id=\"text_7\">\r\n      <!-- 2 -->\r\n      <g transform=\"translate(302.110298 163.395899)scale(0.1 -0.1)\">\r\n       <use xlink:href=\"#DejaVuSans-50\"/>\r\n      </g>\r\n     </g>\r\n    </g>\r\n    <g id=\"xtick_8\">\r\n     <g id=\"line2d_8\">\r\n      <g>\r\n       <use style=\"stroke:#000000;stroke-width:0.8;\" x=\"351.881484\" xlink:href=\"#mff7a30cd6c\" y=\"148.797461\"/>\r\n      </g>\r\n     </g>\r\n     <g id=\"text_8\">\r\n      <!-- 3 -->\r\n      <g transform=\"translate(348.700234 163.395899)scale(0.1 -0.1)\">\r\n       <use xlink:href=\"#DejaVuSans-51\"/>\r\n      </g>\r\n     </g>\r\n    </g>\r\n    <g id=\"xtick_9\">\r\n     <g id=\"line2d_9\">\r\n      <g>\r\n       <use style=\"stroke:#000000;stroke-width:0.8;\" x=\"398.47142\" xlink:href=\"#mff7a30cd6c\" y=\"148.797461\"/>\r\n      </g>\r\n     </g>\r\n     <g id=\"text_9\">\r\n      <!-- 4 -->\r\n      <g transform=\"translate(395.29017 163.395899)scale(0.1 -0.1)\">\r\n       <use xlink:href=\"#DejaVuSans-52\"/>\r\n      </g>\r\n     </g>\r\n    </g>\r\n    <g id=\"text_10\">\r\n     <!-- x -->\r\n     <g transform=\"translate(414.140625 177.074024)scale(0.1 -0.1)\">\r\n      <defs>\r\n       <path d=\"M 54.890625 54.6875 \r\nL 35.109375 28.078125 \r\nL 55.90625 0 \r\nL 45.3125 0 \r\nL 29.390625 21.484375 \r\nL 13.484375 0 \r\nL 2.875 0 \r\nL 24.125 28.609375 \r\nL 4.6875 54.6875 \r\nL 15.28125 54.6875 \r\nL 29.78125 35.203125 \r\nL 44.28125 54.6875 \r\nz\r\n\" id=\"DejaVuSans-120\"/>\r\n      </defs>\r\n      <use xlink:href=\"#DejaVuSans-120\"/>\r\n     </g>\r\n    </g>\r\n   </g>\r\n   <g id=\"matplotlib.axis_2\">\r\n    <g id=\"ytick_1\">\r\n     <g id=\"line2d_10\">\r\n      <defs>\r\n       <path d=\"M 0 0 \r\nL -3.5 0 \r\n\" id=\"mefd61fc9bd\" style=\"stroke:#000000;stroke-width:0.8;\"/>\r\n      </defs>\r\n      <g>\r\n       <use style=\"stroke:#000000;stroke-width:0.8;\" x=\"212.111676\" xlink:href=\"#mefd61fc9bd\" y=\"269.69132\"/>\r\n      </g>\r\n     </g>\r\n     <g id=\"text_11\">\r\n      <!-- −4 -->\r\n      <g transform=\"translate(190.369489 273.490538)scale(0.1 -0.1)\">\r\n       <use xlink:href=\"#DejaVuSans-8722\"/>\r\n       <use x=\"83.789062\" xlink:href=\"#DejaVuSans-52\"/>\r\n      </g>\r\n     </g>\r\n    </g>\r\n    <g id=\"ytick_2\">\r\n     <g id=\"line2d_11\">\r\n      <g>\r\n       <use style=\"stroke:#000000;stroke-width:0.8;\" x=\"212.111676\" xlink:href=\"#mefd61fc9bd\" y=\"239.467855\"/>\r\n      </g>\r\n     </g>\r\n     <g id=\"text_12\">\r\n      <!-- −3 -->\r\n      <g transform=\"translate(190.369489 243.267074)scale(0.1 -0.1)\">\r\n       <use xlink:href=\"#DejaVuSans-8722\"/>\r\n       <use x=\"83.789062\" xlink:href=\"#DejaVuSans-51\"/>\r\n      </g>\r\n     </g>\r\n    </g>\r\n    <g id=\"ytick_3\">\r\n     <g id=\"line2d_12\">\r\n      <g>\r\n       <use style=\"stroke:#000000;stroke-width:0.8;\" x=\"212.111676\" xlink:href=\"#mefd61fc9bd\" y=\"209.24439\"/>\r\n      </g>\r\n     </g>\r\n     <g id=\"text_13\">\r\n      <!-- −2 -->\r\n      <g transform=\"translate(190.369489 213.043609)scale(0.1 -0.1)\">\r\n       <use xlink:href=\"#DejaVuSans-8722\"/>\r\n       <use x=\"83.789062\" xlink:href=\"#DejaVuSans-50\"/>\r\n      </g>\r\n     </g>\r\n    </g>\r\n    <g id=\"ytick_4\">\r\n     <g id=\"line2d_13\">\r\n      <g>\r\n       <use style=\"stroke:#000000;stroke-width:0.8;\" x=\"212.111676\" xlink:href=\"#mefd61fc9bd\" y=\"179.020926\"/>\r\n      </g>\r\n     </g>\r\n     <g id=\"text_14\">\r\n      <!-- −1 -->\r\n      <g transform=\"translate(190.369489 182.820145)scale(0.1 -0.1)\">\r\n       <use xlink:href=\"#DejaVuSans-8722\"/>\r\n       <use x=\"83.789062\" xlink:href=\"#DejaVuSans-49\"/>\r\n      </g>\r\n     </g>\r\n    </g>\r\n    <g id=\"ytick_5\">\r\n     <g id=\"line2d_14\">\r\n      <g>\r\n       <use style=\"stroke:#000000;stroke-width:0.8;\" x=\"212.111676\" xlink:href=\"#mefd61fc9bd\" y=\"148.797461\"/>\r\n      </g>\r\n     </g>\r\n     <g id=\"text_15\">\r\n      <!-- 0 -->\r\n      <g transform=\"translate(198.749176 152.59668)scale(0.1 -0.1)\">\r\n       <use xlink:href=\"#DejaVuSans-48\"/>\r\n      </g>\r\n     </g>\r\n    </g>\r\n    <g id=\"ytick_6\">\r\n     <g id=\"line2d_15\">\r\n      <g>\r\n       <use style=\"stroke:#000000;stroke-width:0.8;\" x=\"212.111676\" xlink:href=\"#mefd61fc9bd\" y=\"118.573997\"/>\r\n      </g>\r\n     </g>\r\n     <g id=\"text_16\">\r\n      <!-- 1 -->\r\n      <g transform=\"translate(198.749176 122.373216)scale(0.1 -0.1)\">\r\n       <use xlink:href=\"#DejaVuSans-49\"/>\r\n      </g>\r\n     </g>\r\n    </g>\r\n    <g id=\"ytick_7\">\r\n     <g id=\"line2d_16\">\r\n      <g>\r\n       <use style=\"stroke:#000000;stroke-width:0.8;\" x=\"212.111676\" xlink:href=\"#mefd61fc9bd\" y=\"88.350532\"/>\r\n      </g>\r\n     </g>\r\n     <g id=\"text_17\">\r\n      <!-- 2 -->\r\n      <g transform=\"translate(198.749176 92.149751)scale(0.1 -0.1)\">\r\n       <use xlink:href=\"#DejaVuSans-50\"/>\r\n      </g>\r\n     </g>\r\n    </g>\r\n    <g id=\"ytick_8\">\r\n     <g id=\"line2d_17\">\r\n      <g>\r\n       <use style=\"stroke:#000000;stroke-width:0.8;\" x=\"212.111676\" xlink:href=\"#mefd61fc9bd\" y=\"58.127068\"/>\r\n      </g>\r\n     </g>\r\n     <g id=\"text_18\">\r\n      <!-- 3 -->\r\n      <g transform=\"translate(198.749176 61.926286)scale(0.1 -0.1)\">\r\n       <use xlink:href=\"#DejaVuSans-51\"/>\r\n      </g>\r\n     </g>\r\n    </g>\r\n    <g id=\"ytick_9\">\r\n     <g id=\"line2d_18\">\r\n      <g>\r\n       <use style=\"stroke:#000000;stroke-width:0.8;\" x=\"212.111676\" xlink:href=\"#mefd61fc9bd\" y=\"27.903603\"/>\r\n      </g>\r\n     </g>\r\n     <g id=\"text_19\">\r\n      <!-- 4 -->\r\n      <g transform=\"translate(198.749176 31.702822)scale(0.1 -0.1)\">\r\n       <use xlink:href=\"#DejaVuSans-52\"/>\r\n      </g>\r\n     </g>\r\n    </g>\r\n    <g id=\"text_20\">\r\n     <!-- f(x) -->\r\n     <g transform=\"translate(184.289801 24.442187)rotate(-90)scale(0.1 -0.1)\">\r\n      <defs>\r\n       <path d=\"M 37.109375 75.984375 \r\nL 37.109375 68.5 \r\nL 28.515625 68.5 \r\nQ 23.6875 68.5 21.796875 66.546875 \r\nQ 19.921875 64.59375 19.921875 59.515625 \r\nL 19.921875 54.6875 \r\nL 34.71875 54.6875 \r\nL 34.71875 47.703125 \r\nL 19.921875 47.703125 \r\nL 19.921875 0 \r\nL 10.890625 0 \r\nL 10.890625 47.703125 \r\nL 2.296875 47.703125 \r\nL 2.296875 54.6875 \r\nL 10.890625 54.6875 \r\nL 10.890625 58.5 \r\nQ 10.890625 67.625 15.140625 71.796875 \r\nQ 19.390625 75.984375 28.609375 75.984375 \r\nz\r\n\" id=\"DejaVuSans-102\"/>\r\n       <path d=\"M 31 75.875 \r\nQ 24.46875 64.65625 21.28125 53.65625 \r\nQ 18.109375 42.671875 18.109375 31.390625 \r\nQ 18.109375 20.125 21.3125 9.0625 \r\nQ 24.515625 -2 31 -13.1875 \r\nL 23.1875 -13.1875 \r\nQ 15.875 -1.703125 12.234375 9.375 \r\nQ 8.59375 20.453125 8.59375 31.390625 \r\nQ 8.59375 42.28125 12.203125 53.3125 \r\nQ 15.828125 64.359375 23.1875 75.875 \r\nz\r\n\" id=\"DejaVuSans-40\"/>\r\n       <path d=\"M 8.015625 75.875 \r\nL 15.828125 75.875 \r\nQ 23.140625 64.359375 26.78125 53.3125 \r\nQ 30.421875 42.28125 30.421875 31.390625 \r\nQ 30.421875 20.453125 26.78125 9.375 \r\nQ 23.140625 -1.703125 15.828125 -13.1875 \r\nL 8.015625 -13.1875 \r\nQ 14.5 -2 17.703125 9.0625 \r\nQ 20.90625 20.125 20.90625 31.390625 \r\nQ 20.90625 42.671875 17.703125 53.65625 \r\nQ 14.5 64.65625 8.015625 75.875 \r\nz\r\n\" id=\"DejaVuSans-41\"/>\r\n      </defs>\r\n      <use xlink:href=\"#DejaVuSans-102\"/>\r\n      <use x=\"35.205078\" xlink:href=\"#DejaVuSans-40\"/>\r\n      <use x=\"74.21875\" xlink:href=\"#DejaVuSans-120\"/>\r\n      <use x=\"133.398438\" xlink:href=\"#DejaVuSans-41\"/>\r\n     </g>\r\n    </g>\r\n   </g>\r\n   <g id=\"LineCollection_1\">\r\n    <path clip-path=\"url(#p8ec5eed475)\" d=\"M 25.835037 152.407466 \r\n\" style=\"fill:none;stroke:#1f77b4;stroke-width:1.5;\"/>\r\n    <path clip-path=\"url(#p8ec5eed475)\" d=\"M 25.835037 152.407466 \r\nL 25.943057 154.271279 \r\n\" style=\"fill:none;stroke:#1f77b4;stroke-width:1.5;\"/>\r\n    <path clip-path=\"url(#p8ec5eed475)\" d=\"M 25.943057 154.271279 \r\nL 26.832823 161.79926 \r\n\" style=\"fill:none;stroke:#1f77b4;stroke-width:1.5;\"/>\r\n    <path clip-path=\"url(#p8ec5eed475)\" d=\"M 26.832823 161.79926 \r\nL 27.562142 165.606795 \r\n\" style=\"fill:none;stroke:#1f77b4;stroke-width:1.5;\"/>\r\n    <path clip-path=\"url(#p8ec5eed475)\" d=\"M 27.562142 165.606795 \r\nL 29.306215 172.295873 \r\n\" style=\"fill:none;stroke:#1f77b4;stroke-width:1.5;\"/>\r\n    <path clip-path=\"url(#p8ec5eed475)\" d=\"M 29.306215 172.295873 \r\nL 31.04719 177.411528 \r\n\" style=\"fill:none;stroke:#1f77b4;stroke-width:1.5;\"/>\r\n    <path clip-path=\"url(#p8ec5eed475)\" d=\"M 31.04719 177.411528 \r\nL 34.955865 186.320704 \r\n\" style=\"fill:none;stroke:#1f77b4;stroke-width:1.5;\"/>\r\n    <path clip-path=\"url(#p8ec5eed475)\" d=\"M 34.955865 186.320704 \r\nL 39.555986 194.459103 \r\n\" style=\"fill:none;stroke:#1f77b4;stroke-width:1.5;\"/>\r\n    <path clip-path=\"url(#p8ec5eed475)\" d=\"M 39.555986 194.459103 \r\nL 43.759555 200.643812 \r\n\" style=\"fill:none;stroke:#1f77b4;stroke-width:1.5;\"/>\r\n    <path clip-path=\"url(#p8ec5eed475)\" d=\"M 43.759555 200.643812 \r\nL 47.52905 205.508844 \r\n\" style=\"fill:none;stroke:#1f77b4;stroke-width:1.5;\"/>\r\n    <path clip-path=\"url(#p8ec5eed475)\" d=\"M 47.52905 205.508844 \r\nL 52.298708 210.985154 \r\n\" style=\"fill:none;stroke:#1f77b4;stroke-width:1.5;\"/>\r\n    <path clip-path=\"url(#p8ec5eed475)\" d=\"M 52.298708 210.985154 \r\nL 56.24518 215.066493 \r\n\" style=\"fill:none;stroke:#1f77b4;stroke-width:1.5;\"/>\r\n    <path clip-path=\"url(#p8ec5eed475)\" d=\"M 56.24518 215.066493 \r\nL 64.495885 222.589825 \r\n\" style=\"fill:none;stroke:#1f77b4;stroke-width:1.5;\"/>\r\n    <path clip-path=\"url(#p8ec5eed475)\" d=\"M 64.495885 222.589825 \r\nL 74.569348 230.370452 \r\n\" style=\"fill:none;stroke:#1f77b4;stroke-width:1.5;\"/>\r\n    <path clip-path=\"url(#p8ec5eed475)\" d=\"M 74.569348 230.370452 \r\nL 82.924287 235.929383 \r\n\" style=\"fill:none;stroke:#1f77b4;stroke-width:1.5;\"/>\r\n    <path clip-path=\"url(#p8ec5eed475)\" d=\"M 82.924287 235.929383 \r\nL 91.731487 241.08477 \r\n\" style=\"fill:none;stroke:#1f77b4;stroke-width:1.5;\"/>\r\n    <path clip-path=\"url(#p8ec5eed475)\" d=\"M 91.731487 241.08477 \r\nL 101.790451 246.232195 \r\n\" style=\"fill:none;stroke:#1f77b4;stroke-width:1.5;\"/>\r\n    <path clip-path=\"url(#p8ec5eed475)\" d=\"M 101.790451 246.232195 \r\nL 112.297597 250.888999 \r\n\" style=\"fill:none;stroke:#1f77b4;stroke-width:1.5;\"/>\r\n    <path clip-path=\"url(#p8ec5eed475)\" d=\"M 112.297597 250.888999 \r\nL 120.941107 254.236424 \r\n\" style=\"fill:none;stroke:#1f77b4;stroke-width:1.5;\"/>\r\n    <path clip-path=\"url(#p8ec5eed475)\" d=\"M 120.941107 254.236424 \r\nL 132.276136 258.036145 \r\n\" style=\"fill:none;stroke:#1f77b4;stroke-width:1.5;\"/>\r\n    <path clip-path=\"url(#p8ec5eed475)\" d=\"M 132.276136 258.036145 \r\nL 141.991885 260.807308 \r\n\" style=\"fill:none;stroke:#1f77b4;stroke-width:1.5;\"/>\r\n    <path clip-path=\"url(#p8ec5eed475)\" d=\"M 141.991885 260.807308 \r\nL 150.439926 262.879656 \r\n\" style=\"fill:none;stroke:#1f77b4;stroke-width:1.5;\"/>\r\n    <path clip-path=\"url(#p8ec5eed475)\" d=\"M 150.439926 262.879656 \r\nL 159.45027 264.764162 \r\n\" style=\"fill:none;stroke:#1f77b4;stroke-width:1.5;\"/>\r\n    <path clip-path=\"url(#p8ec5eed475)\" d=\"M 159.45027 264.764162 \r\nL 175.409641 267.323634 \r\n\" style=\"fill:none;stroke:#1f77b4;stroke-width:1.5;\"/>\r\n    <path clip-path=\"url(#p8ec5eed475)\" d=\"M 175.409641 267.323634 \r\nL 191.365432 268.939868 \r\n\" style=\"fill:none;stroke:#1f77b4;stroke-width:1.5;\"/>\r\n    <path clip-path=\"url(#p8ec5eed475)\" d=\"M 191.365432 268.939868 \r\nL 206.410272 269.63473 \r\n\" style=\"fill:none;stroke:#1f77b4;stroke-width:1.5;\"/>\r\n    <path clip-path=\"url(#p8ec5eed475)\" d=\"M 206.410272 269.63473 \r\nL 220.735794 269.561801 \r\n\" style=\"fill:none;stroke:#1f77b4;stroke-width:1.5;\"/>\r\n    <path clip-path=\"url(#p8ec5eed475)\" d=\"M 220.735794 269.561801 \r\nL 230.222545 269.11908 \r\n\" style=\"fill:none;stroke:#1f77b4;stroke-width:1.5;\"/>\r\n    <path clip-path=\"url(#p8ec5eed475)\" d=\"M 230.222545 269.11908 \r\nL 238.47842 268.475209 \r\n\" style=\"fill:none;stroke:#1f77b4;stroke-width:1.5;\"/>\r\n    <path clip-path=\"url(#p8ec5eed475)\" d=\"M 238.47842 268.475209 \r\nL 254.842113 266.470482 \r\n\" style=\"fill:none;stroke:#1f77b4;stroke-width:1.5;\"/>\r\n    <path clip-path=\"url(#p8ec5eed475)\" d=\"M 254.842113 266.470482 \r\nL 268.374574 264.050181 \r\n\" style=\"fill:none;stroke:#1f77b4;stroke-width:1.5;\"/>\r\n    <path clip-path=\"url(#p8ec5eed475)\" d=\"M 268.374574 264.050181 \r\nL 279.481894 261.515229 \r\n\" style=\"fill:none;stroke:#1f77b4;stroke-width:1.5;\"/>\r\n    <path clip-path=\"url(#p8ec5eed475)\" d=\"M 279.481894 261.515229 \r\nL 291.075659 258.30241 \r\n\" style=\"fill:none;stroke:#1f77b4;stroke-width:1.5;\"/>\r\n    <path clip-path=\"url(#p8ec5eed475)\" d=\"M 291.075659 258.30241 \r\nL 304.986701 253.608541 \r\n\" style=\"fill:none;stroke:#1f77b4;stroke-width:1.5;\"/>\r\n    <path clip-path=\"url(#p8ec5eed475)\" d=\"M 304.986701 253.608541 \r\nL 312.600627 250.61001 \r\n\" style=\"fill:none;stroke:#1f77b4;stroke-width:1.5;\"/>\r\n    <path clip-path=\"url(#p8ec5eed475)\" d=\"M 312.600627 250.61001 \r\nL 321.331928 246.752784 \r\n\" style=\"fill:none;stroke:#1f77b4;stroke-width:1.5;\"/>\r\n    <path clip-path=\"url(#p8ec5eed475)\" d=\"M 321.331928 246.752784 \r\nL 329.305048 242.795108 \r\n\" style=\"fill:none;stroke:#1f77b4;stroke-width:1.5;\"/>\r\n    <path clip-path=\"url(#p8ec5eed475)\" d=\"M 329.305048 242.795108 \r\nL 337.835107 238.036258 \r\n\" style=\"fill:none;stroke:#1f77b4;stroke-width:1.5;\"/>\r\n    <path clip-path=\"url(#p8ec5eed475)\" d=\"M 337.835107 238.036258 \r\nL 344.623088 233.802737 \r\n\" style=\"fill:none;stroke:#1f77b4;stroke-width:1.5;\"/>\r\n    <path clip-path=\"url(#p8ec5eed475)\" d=\"M 344.623088 233.802737 \r\nL 352.339095 228.423363 \r\n\" style=\"fill:none;stroke:#1f77b4;stroke-width:1.5;\"/>\r\n    <path clip-path=\"url(#p8ec5eed475)\" d=\"M 352.339095 228.423363 \r\nL 358.187394 223.868468 \r\n\" style=\"fill:none;stroke:#1f77b4;stroke-width:1.5;\"/>\r\n    <path clip-path=\"url(#p8ec5eed475)\" d=\"M 358.187394 223.868468 \r\nL 364.893707 218.023318 \r\n\" style=\"fill:none;stroke:#1f77b4;stroke-width:1.5;\"/>\r\n    <path clip-path=\"url(#p8ec5eed475)\" d=\"M 364.893707 218.023318 \r\nL 371.817917 211.10043 \r\n\" style=\"fill:none;stroke:#1f77b4;stroke-width:1.5;\"/>\r\n    <path clip-path=\"url(#p8ec5eed475)\" d=\"M 371.817917 211.10043 \r\nL 378.930497 202.689156 \r\n\" style=\"fill:none;stroke:#1f77b4;stroke-width:1.5;\"/>\r\n    <path clip-path=\"url(#p8ec5eed475)\" d=\"M 378.930497 202.689156 \r\nL 382.801665 197.320457 \r\n\" style=\"fill:none;stroke:#1f77b4;stroke-width:1.5;\"/>\r\n    <path clip-path=\"url(#p8ec5eed475)\" d=\"M 382.801665 197.320457 \r\nL 386.073611 192.155518 \r\n\" style=\"fill:none;stroke:#1f77b4;stroke-width:1.5;\"/>\r\n    <path clip-path=\"url(#p8ec5eed475)\" d=\"M 386.073611 192.155518 \r\nL 389.515969 185.823373 \r\n\" style=\"fill:none;stroke:#1f77b4;stroke-width:1.5;\"/>\r\n    <path clip-path=\"url(#p8ec5eed475)\" d=\"M 389.515969 185.823373 \r\nL 392.452144 179.274997 \r\n\" style=\"fill:none;stroke:#1f77b4;stroke-width:1.5;\"/>\r\n    <path clip-path=\"url(#p8ec5eed475)\" d=\"M 392.452144 179.274997 \r\nL 395.440751 170.51145 \r\n\" style=\"fill:none;stroke:#1f77b4;stroke-width:1.5;\"/>\r\n    <path clip-path=\"url(#p8ec5eed475)\" d=\"M 395.440751 170.51145 \r\nL 396.714228 165.359989 \r\n\" style=\"fill:none;stroke:#1f77b4;stroke-width:1.5;\"/>\r\n    <path clip-path=\"url(#p8ec5eed475)\" d=\"M 396.714228 165.359989 \r\nL 398.202523 155.289483 \r\n\" style=\"fill:none;stroke:#1f77b4;stroke-width:1.5;\"/>\r\n    <path clip-path=\"url(#p8ec5eed475)\" d=\"M 398.202523 155.289483 \r\nL 398.383261 152.515601 \r\n\" style=\"fill:none;stroke:#1f77b4;stroke-width:1.5;\"/>\r\n    <path clip-path=\"url(#p8ec5eed475)\" d=\"M 398.383261 152.515601 \r\nL 398.468182 149.510184 \r\n\" style=\"fill:none;stroke:#1f77b4;stroke-width:1.5;\"/>\r\n    <path clip-path=\"url(#p8ec5eed475)\" d=\"M 398.468182 149.510184 \r\n\" style=\"fill:none;stroke:#1f77b4;stroke-width:1.5;\"/>\r\n   </g>\r\n   <g id=\"LineCollection_2\">\r\n    <path clip-path=\"url(#p8ec5eed475)\" d=\"M 0 0 \r\n\" style=\"fill:none;stroke:#1f77b4;stroke-width:1.5;\"/>\r\n    <path clip-path=\"url(#p8ec5eed475)\" d=\"M 25.831818 145.25804 \r\n\" style=\"fill:none;stroke:#1f77b4;stroke-width:1.5;\"/>\r\n    <path clip-path=\"url(#p8ec5eed475)\" d=\"M 25.831818 145.25804 \r\nL 26.050553 141.956314 \r\n\" style=\"fill:none;stroke:#1f77b4;stroke-width:1.5;\"/>\r\n    <path clip-path=\"url(#p8ec5eed475)\" d=\"M 26.050553 141.956314 \r\nL 27.076945 134.40683 \r\n\" style=\"fill:none;stroke:#1f77b4;stroke-width:1.5;\"/>\r\n    <path clip-path=\"url(#p8ec5eed475)\" d=\"M 27.076945 134.40683 \r\nL 28.990997 126.355662 \r\n\" style=\"fill:none;stroke:#1f77b4;stroke-width:1.5;\"/>\r\n    <path clip-path=\"url(#p8ec5eed475)\" d=\"M 28.990997 126.355662 \r\nL 30.710396 121.095624 \r\n\" style=\"fill:none;stroke:#1f77b4;stroke-width:1.5;\"/>\r\n    <path clip-path=\"url(#p8ec5eed475)\" d=\"M 30.710396 121.095624 \r\nL 33.042148 115.31449 \r\n\" style=\"fill:none;stroke:#1f77b4;stroke-width:1.5;\"/>\r\n    <path clip-path=\"url(#p8ec5eed475)\" d=\"M 33.042148 115.31449 \r\nL 35.479916 110.248579 \r\n\" style=\"fill:none;stroke:#1f77b4;stroke-width:1.5;\"/>\r\n    <path clip-path=\"url(#p8ec5eed475)\" d=\"M 35.479916 110.248579 \r\nL 40.607438 101.498146 \r\n\" style=\"fill:none;stroke:#1f77b4;stroke-width:1.5;\"/>\r\n    <path clip-path=\"url(#p8ec5eed475)\" d=\"M 40.607438 101.498146 \r\nL 44.757568 95.608762 \r\n\" style=\"fill:none;stroke:#1f77b4;stroke-width:1.5;\"/>\r\n    <path clip-path=\"url(#p8ec5eed475)\" d=\"M 44.757568 95.608762 \r\nL 48.969079 90.361311 \r\n\" style=\"fill:none;stroke:#1f77b4;stroke-width:1.5;\"/>\r\n    <path clip-path=\"url(#p8ec5eed475)\" d=\"M 48.969079 90.361311 \r\nL 56.47613 82.300397 \r\n\" style=\"fill:none;stroke:#1f77b4;stroke-width:1.5;\"/>\r\n    <path clip-path=\"url(#p8ec5eed475)\" d=\"M 56.47613 82.300397 \r\nL 64.296083 75.173603 \r\n\" style=\"fill:none;stroke:#1f77b4;stroke-width:1.5;\"/>\r\n    <path clip-path=\"url(#p8ec5eed475)\" d=\"M 64.296083 75.173603 \r\nL 71.811465 69.22554 \r\n\" style=\"fill:none;stroke:#1f77b4;stroke-width:1.5;\"/>\r\n    <path clip-path=\"url(#p8ec5eed475)\" d=\"M 71.811465 69.22554 \r\nL 80.106692 63.461243 \r\n\" style=\"fill:none;stroke:#1f77b4;stroke-width:1.5;\"/>\r\n    <path clip-path=\"url(#p8ec5eed475)\" d=\"M 80.106692 63.461243 \r\nL 86.811231 59.308657 \r\n\" style=\"fill:none;stroke:#1f77b4;stroke-width:1.5;\"/>\r\n    <path clip-path=\"url(#p8ec5eed475)\" d=\"M 86.811231 59.308657 \r\nL 93.201001 55.711867 \r\n\" style=\"fill:none;stroke:#1f77b4;stroke-width:1.5;\"/>\r\n    <path clip-path=\"url(#p8ec5eed475)\" d=\"M 93.201001 55.711867 \r\nL 104.696247 50.005841 \r\n\" style=\"fill:none;stroke:#1f77b4;stroke-width:1.5;\"/>\r\n    <path clip-path=\"url(#p8ec5eed475)\" d=\"M 104.696247 50.005841 \r\nL 117.427335 44.669882 \r\n\" style=\"fill:none;stroke:#1f77b4;stroke-width:1.5;\"/>\r\n    <path clip-path=\"url(#p8ec5eed475)\" d=\"M 117.427335 44.669882 \r\nL 124.918785 41.952056 \r\n\" style=\"fill:none;stroke:#1f77b4;stroke-width:1.5;\"/>\r\n    <path clip-path=\"url(#p8ec5eed475)\" d=\"M 124.918785 41.952056 \r\nL 132.850299 39.382966 \r\n\" style=\"fill:none;stroke:#1f77b4;stroke-width:1.5;\"/>\r\n    <path clip-path=\"url(#p8ec5eed475)\" d=\"M 132.850299 39.382966 \r\nL 140.759857 37.115516 \r\n\" style=\"fill:none;stroke:#1f77b4;stroke-width:1.5;\"/>\r\n    <path clip-path=\"url(#p8ec5eed475)\" d=\"M 140.759857 37.115516 \r\nL 148.558505 35.150641 \r\n\" style=\"fill:none;stroke:#1f77b4;stroke-width:1.5;\"/>\r\n    <path clip-path=\"url(#p8ec5eed475)\" d=\"M 148.558505 35.150641 \r\nL 164.033908 31.995947 \r\n\" style=\"fill:none;stroke:#1f77b4;stroke-width:1.5;\"/>\r\n    <path clip-path=\"url(#p8ec5eed475)\" d=\"M 164.033908 31.995947 \r\nL 172.1583 30.714569 \r\n\" style=\"fill:none;stroke:#1f77b4;stroke-width:1.5;\"/>\r\n    <path clip-path=\"url(#p8ec5eed475)\" d=\"M 172.1583 30.714569 \r\nL 181.795155 29.513993 \r\n\" style=\"fill:none;stroke:#1f77b4;stroke-width:1.5;\"/>\r\n    <path clip-path=\"url(#p8ec5eed475)\" d=\"M 181.795155 29.513993 \r\nL 196.290842 28.340032 \r\n\" style=\"fill:none;stroke:#1f77b4;stroke-width:1.5;\"/>\r\n    <path clip-path=\"url(#p8ec5eed475)\" d=\"M 196.290842 28.340032 \r\nL 210.623582 27.907457 \r\n\" style=\"fill:none;stroke:#1f77b4;stroke-width:1.5;\"/>\r\n    <path clip-path=\"url(#p8ec5eed475)\" d=\"M 210.623582 27.907457 \r\nL 220.33718 28.02142 \r\n\" style=\"fill:none;stroke:#1f77b4;stroke-width:1.5;\"/>\r\n    <path clip-path=\"url(#p8ec5eed475)\" d=\"M 220.33718 28.02142 \r\nL 228.357426 28.363835 \r\n\" style=\"fill:none;stroke:#1f77b4;stroke-width:1.5;\"/>\r\n    <path clip-path=\"url(#p8ec5eed475)\" d=\"M 228.357426 28.363835 \r\nL 244.086575 29.696356 \r\n\" style=\"fill:none;stroke:#1f77b4;stroke-width:1.5;\"/>\r\n    <path clip-path=\"url(#p8ec5eed475)\" d=\"M 244.086575 29.696356 \r\nL 256.907322 31.448106 \r\n\" style=\"fill:none;stroke:#1f77b4;stroke-width:1.5;\"/>\r\n    <path clip-path=\"url(#p8ec5eed475)\" d=\"M 256.907322 31.448106 \r\nL 267.732383 33.413641 \r\n\" style=\"fill:none;stroke:#1f77b4;stroke-width:1.5;\"/>\r\n    <path clip-path=\"url(#p8ec5eed475)\" d=\"M 267.732383 33.413641 \r\nL 279.140538 35.994085 \r\n\" style=\"fill:none;stroke:#1f77b4;stroke-width:1.5;\"/>\r\n    <path clip-path=\"url(#p8ec5eed475)\" d=\"M 279.140538 35.994085 \r\nL 292.84238 39.835985 \r\n\" style=\"fill:none;stroke:#1f77b4;stroke-width:1.5;\"/>\r\n    <path clip-path=\"url(#p8ec5eed475)\" d=\"M 292.84238 39.835985 \r\nL 306.989604 44.744063 \r\n\" style=\"fill:none;stroke:#1f77b4;stroke-width:1.5;\"/>\r\n    <path clip-path=\"url(#p8ec5eed475)\" d=\"M 306.989604 44.744063 \r\nL 320.155287 50.294536 \r\n\" style=\"fill:none;stroke:#1f77b4;stroke-width:1.5;\"/>\r\n    <path clip-path=\"url(#p8ec5eed475)\" d=\"M 320.155287 50.294536 \r\nL 333.017843 56.799963 \r\n\" style=\"fill:none;stroke:#1f77b4;stroke-width:1.5;\"/>\r\n    <path clip-path=\"url(#p8ec5eed475)\" d=\"M 333.017843 56.799963 \r\nL 339.326909 60.452852 \r\n\" style=\"fill:none;stroke:#1f77b4;stroke-width:1.5;\"/>\r\n    <path clip-path=\"url(#p8ec5eed475)\" d=\"M 339.326909 60.452852 \r\nL 346.581499 65.096426 \r\n\" style=\"fill:none;stroke:#1f77b4;stroke-width:1.5;\"/>\r\n    <path clip-path=\"url(#p8ec5eed475)\" d=\"M 346.581499 65.096426 \r\nL 354.336484 70.676612 \r\n\" style=\"fill:none;stroke:#1f77b4;stroke-width:1.5;\"/>\r\n    <path clip-path=\"url(#p8ec5eed475)\" d=\"M 354.336484 70.676612 \r\nL 360.69379 75.825806 \r\n\" style=\"fill:none;stroke:#1f77b4;stroke-width:1.5;\"/>\r\n    <path clip-path=\"url(#p8ec5eed475)\" d=\"M 360.69379 75.825806 \r\nL 367.189084 81.753894 \r\n\" style=\"fill:none;stroke:#1f77b4;stroke-width:1.5;\"/>\r\n    <path clip-path=\"url(#p8ec5eed475)\" d=\"M 367.189084 81.753894 \r\nL 373.679816 88.548569 \r\n\" style=\"fill:none;stroke:#1f77b4;stroke-width:1.5;\"/>\r\n    <path clip-path=\"url(#p8ec5eed475)\" d=\"M 373.679816 88.548569 \r\nL 378.513152 94.3655 \r\n\" style=\"fill:none;stroke:#1f77b4;stroke-width:1.5;\"/>\r\n    <path clip-path=\"url(#p8ec5eed475)\" d=\"M 378.513152 94.3655 \r\nL 384.150236 102.321908 \r\n\" style=\"fill:none;stroke:#1f77b4;stroke-width:1.5;\"/>\r\n    <path clip-path=\"url(#p8ec5eed475)\" d=\"M 384.150236 102.321908 \r\nL 387.119583 107.24853 \r\n\" style=\"fill:none;stroke:#1f77b4;stroke-width:1.5;\"/>\r\n    <path clip-path=\"url(#p8ec5eed475)\" d=\"M 387.119583 107.24853 \r\nL 390.669815 114.184265 \r\n\" style=\"fill:none;stroke:#1f77b4;stroke-width:1.5;\"/>\r\n    <path clip-path=\"url(#p8ec5eed475)\" d=\"M 390.669815 114.184265 \r\nL 393.753094 121.765925 \r\n\" style=\"fill:none;stroke:#1f77b4;stroke-width:1.5;\"/>\r\n    <path clip-path=\"url(#p8ec5eed475)\" d=\"M 393.753094 121.765925 \r\nL 396.424393 130.928098 \r\n\" style=\"fill:none;stroke:#1f77b4;stroke-width:1.5;\"/>\r\n    <path clip-path=\"url(#p8ec5eed475)\" d=\"M 396.424393 130.928098 \r\nL 397.679414 137.663603 \r\n\" style=\"fill:none;stroke:#1f77b4;stroke-width:1.5;\"/>\r\n    <path clip-path=\"url(#p8ec5eed475)\" d=\"M 397.679414 137.663603 \r\nL 398.186465 142.114549 \r\n\" style=\"fill:none;stroke:#1f77b4;stroke-width:1.5;\"/>\r\n    <path clip-path=\"url(#p8ec5eed475)\" d=\"M 398.186465 142.114549 \r\nL 398.449062 146.924848 \r\n\" style=\"fill:none;stroke:#1f77b4;stroke-width:1.5;\"/>\r\n    <path clip-path=\"url(#p8ec5eed475)\" d=\"M 398.449062 146.924848 \r\n\" style=\"fill:none;stroke:#1f77b4;stroke-width:1.5;\"/>\r\n    <path clip-path=\"url(#p8ec5eed475)\" d=\"M 0 0 \r\n\" style=\"fill:none;stroke:#1f77b4;stroke-width:1.5;\"/>\r\n   </g>\r\n   <g id=\"patch_3\">\r\n    <path d=\"M 212.111676 281.721094 \r\nL 212.111676 15.821094 \r\n\" style=\"fill:none;stroke:#000000;stroke-linecap:square;stroke-linejoin:miter;stroke-width:0.8;\"/>\r\n   </g>\r\n   <g id=\"patch_4\">\r\n    <path d=\"M 417.1 281.721094 \r\nL 417.1 15.821094 \r\n\" style=\"fill:none;\"/>\r\n   </g>\r\n   <g id=\"patch_5\">\r\n    <path d=\"M 7.2 148.797461 \r\nL 417.1 148.797461 \r\n\" style=\"fill:none;stroke:#000000;stroke-linecap:square;stroke-linejoin:miter;stroke-width:0.8;\"/>\r\n   </g>\r\n   <g id=\"patch_6\">\r\n    <path d=\"M 7.2 15.821094 \r\nL 417.1 15.821094 \r\n\" style=\"fill:none;\"/>\r\n   </g>\r\n  </g>\r\n </g>\r\n <defs>\r\n  <clipPath id=\"p8ec5eed475\">\r\n   <rect height=\"265.9\" width=\"409.9\" x=\"7.2\" y=\"15.821094\"/>\r\n  </clipPath>\r\n </defs>\r\n</svg>\r\n",
      "image/png": "[encoded data removed]"
     },
     "metadata": {
      "needs_background": "light"
     }
    }
   ],
   "source": [
    "#Grafico de la curva\n",
    "aux = solve(curva,y)\n",
    "p1 = plot(aux[0], show=False)\n",
    "p2 = plot(aux[1], show=False)\n",
    "p1.append(p2[0])\n",
    "p1.show()"
   ]
  },
  {
   "cell_type": "code",
   "execution_count": 295,
   "metadata": {},
   "outputs": [
    {
     "output_type": "execute_result",
     "data": {
      "text/plain": [
       "[-4, 4]"
      ],
      "image/png": "[encoded data removed]",
      "text/latex": "$\\displaystyle \\left[ -4, \\  4\\right]$"
     },
     "metadata": {},
     "execution_count": 295
    }
   ],
   "source": [
    "#hallamos los limites de la funcion:\n",
    "limites = [Limit(aux[0],x,0).doit(),Limit(aux[1],x,0).doit()]\n",
    "limites"
   ]
  },
  {
   "cell_type": "code",
   "execution_count": 296,
   "metadata": {},
   "outputs": [
    {
     "output_type": "execute_result",
     "data": {
      "text/plain": [
       "       _________         \n",
       "      ╱       2          \n",
       "4   ╲╱  16 - x           \n",
       "⌠        ⌠               \n",
       "⎮        ⎮       -2 dy dx\n",
       "⌡        ⌡               \n",
       "-4     _________         \n",
       "      ╱       2          \n",
       "   -╲╱  16 - x           "
      ],
      "image/png": "[encoded data removed]",
      "text/latex": "$\\displaystyle \\int\\limits_{-4}^{4}\\int\\limits_{- \\sqrt{16 - x^{2}}}^{\\sqrt{16 - x^{2}}} \\left(-2\\right)\\, dy\\, dx$"
     },
     "metadata": {},
     "execution_count": 296
    }
   ],
   "source": [
    "#integral planteada:\n",
    "intbase = Integral(S(diff(funcion[1],x)-diff(funcion[0],y)), (y,aux[0], aux[1]))\n",
    "Integral(intbase, (x, min(limites), max(limites)))"
   ]
  },
  {
   "cell_type": "code",
   "execution_count": 297,
   "metadata": {},
   "outputs": [
    {
     "output_type": "execute_result",
     "data": {
      "text/plain": [
       "-32⋅π"
      ],
      "image/png": "[encoded data removed]",
      "text/latex": "$\\displaystyle - 32 \\pi$"
     },
     "metadata": {},
     "execution_count": 297
    }
   ],
   "source": [
    "#Resultado\n",
    "Integral(intbase, (x, min(limites), max(limites))).doit()"
   ]
  },
  {
   "source": [
    "PREGUNTA 5(Intento 2): <br>\n",
    "Use el Teorema de Green, para calcular el flujo del campo vectorial a trvés de la curva cerrada C, con orientacion positiva.<br>\n",
    "simbolo green = lc <br>\n",
    "lc (sin(x^2)+y)dx + (e^(y^2020+1)-x)dy <br>\n",
    "donde C:<br>\n",
    "x^2+y^2=25 <br>\n",
    "Hallar la integral doble que permite el cálculo del flujo y el valor de la misma."
   ],
   "cell_type": "markdown",
   "metadata": {}
  },
  {
   "cell_type": "code",
   "execution_count": 299,
   "metadata": {},
   "outputs": [],
   "source": [
    "x,y = symbols('x y')\n",
    "curva = x**2+y**2-25 #de lo cual se sabe que el radio es 4\n",
    "funcion = [sin(x**2)+y,exp(y**2+1)-x]\n",
    "#la parte de dx pasa a ser el primer factor y dy pasa a ser el segundo\n",
    "#funcion = P(x,y) + Q(x,y)"
   ]
  },
  {
   "cell_type": "code",
   "execution_count": 300,
   "metadata": {},
   "outputs": [
    {
     "output_type": "display_data",
     "data": {
      "text/plain": "<Figure size 432x288 with 1 Axes>",
      "image/svg+xml": "<?xml version=\"1.0\" encoding=\"utf-8\" standalone=\"no\"?>\r\n<!DOCTYPE svg PUBLIC \"-//W3C//DTD SVG 1.1//EN\"\r\n  \"http://www.w3.org/Graphics/SVG/1.1/DTD/svg11.dtd\">\r\n<!-- Created with matplotlib (https://matplotlib.org/) -->\r\n<svg height=\"288.921094pt\" version=\"1.1\" viewBox=\"0 0 427.259375 288.921094\" width=\"427.259375pt\" xmlns=\"http://www.w3.org/2000/svg\" xmlns:xlink=\"http://www.w3.org/1999/xlink\">\r\n <metadata>\r\n  <rdf:RDF xmlns:cc=\"http://creativecommons.org/ns#\" xmlns:dc=\"http://purl.org/dc/elements/1.1/\" xmlns:rdf=\"http://www.w3.org/1999/02/22-rdf-syntax-ns#\">\r\n   <cc:Work>\r\n    <dc:type rdf:resource=\"http://purl.org/dc/dcmitype/StillImage\"/>\r\n    <dc:date>2020-11-08T16:27:21.038057</dc:date>\r\n    <dc:format>image/svg+xml</dc:format>\r\n    <dc:creator>\r\n     <cc:Agent>\r\n      <dc:title>Matplotlib v3.3.2, https://matplotlib.org/</dc:title>\r\n     </cc:Agent>\r\n    </dc:creator>\r\n   </cc:Work>\r\n  </rdf:RDF>\r\n </metadata>\r\n <defs>\r\n  <style type=\"text/css\">*{stroke-linecap:butt;stroke-linejoin:round;}</style>\r\n </defs>\r\n <g id=\"figure_1\">\r\n  <g id=\"patch_1\">\r\n   <path d=\"M 0 288.921094 \r\nL 427.259375 288.921094 \r\nL 427.259375 0 \r\nL 0 0 \r\nz\r\n\" style=\"fill:none;\"/>\r\n  </g>\r\n  <g id=\"axes_1\">\r\n   <g id=\"patch_2\">\r\n    <path d=\"M 7.2 281.721094 \r\nL 417.1 281.721094 \r\nL 417.1 15.821094 \r\nL 7.2 15.821094 \r\nz\r\n\" style=\"fill:#ffffff;\"/>\r\n   </g>\r\n   <g id=\"matplotlib.axis_1\">\r\n    <g id=\"xtick_1\">\r\n     <g id=\"line2d_1\">\r\n      <defs>\r\n       <path d=\"M 0 0 \r\nL 0 3.5 \r\n\" id=\"m47f9e2e37e\" style=\"stroke:#000000;stroke-width:0.8;\"/>\r\n      </defs>\r\n      <g>\r\n       <use style=\"stroke:#000000;stroke-width:0.8;\" x=\"63.082191\" xlink:href=\"#m47f9e2e37e\" y=\"148.770403\"/>\r\n      </g>\r\n     </g>\r\n     <g id=\"text_1\">\r\n      <!-- −4 -->\r\n      <g transform=\"translate(55.711097 163.368841)scale(0.1 -0.1)\">\r\n       <defs>\r\n        <path d=\"M 10.59375 35.5 \r\nL 73.1875 35.5 \r\nL 73.1875 27.203125 \r\nL 10.59375 27.203125 \r\nz\r\n\" id=\"DejaVuSans-8722\"/>\r\n        <path d=\"M 37.796875 64.3125 \r\nL 12.890625 25.390625 \r\nL 37.796875 25.390625 \r\nz\r\nM 35.203125 72.90625 \r\nL 47.609375 72.90625 \r\nL 47.609375 25.390625 \r\nL 58.015625 25.390625 \r\nL 58.015625 17.1875 \r\nL 47.609375 17.1875 \r\nL 47.609375 0 \r\nL 37.796875 0 \r\nL 37.796875 17.1875 \r\nL 4.890625 17.1875 \r\nL 4.890625 26.703125 \r\nz\r\n\" id=\"DejaVuSans-52\"/>\r\n       </defs>\r\n       <use xlink:href=\"#DejaVuSans-8722\"/>\r\n       <use x=\"83.789062\" xlink:href=\"#DejaVuSans-52\"/>\r\n      </g>\r\n     </g>\r\n    </g>\r\n    <g id=\"xtick_2\">\r\n     <g id=\"line2d_2\">\r\n      <g>\r\n       <use style=\"stroke:#000000;stroke-width:0.8;\" x=\"137.622441\" xlink:href=\"#m47f9e2e37e\" y=\"148.770403\"/>\r\n      </g>\r\n     </g>\r\n     <g id=\"text_2\">\r\n      <!-- −2 -->\r\n      <g transform=\"translate(130.251347 163.368841)scale(0.1 -0.1)\">\r\n       <defs>\r\n        <path d=\"M 19.1875 8.296875 \r\nL 53.609375 8.296875 \r\nL 53.609375 0 \r\nL 7.328125 0 \r\nL 7.328125 8.296875 \r\nQ 12.9375 14.109375 22.625 23.890625 \r\nQ 32.328125 33.6875 34.8125 36.53125 \r\nQ 39.546875 41.84375 41.421875 45.53125 \r\nQ 43.3125 49.21875 43.3125 52.78125 \r\nQ 43.3125 58.59375 39.234375 62.25 \r\nQ 35.15625 65.921875 28.609375 65.921875 \r\nQ 23.96875 65.921875 18.8125 64.3125 \r\nQ 13.671875 62.703125 7.8125 59.421875 \r\nL 7.8125 69.390625 \r\nQ 13.765625 71.78125 18.9375 73 \r\nQ 24.125 74.21875 28.421875 74.21875 \r\nQ 39.75 74.21875 46.484375 68.546875 \r\nQ 53.21875 62.890625 53.21875 53.421875 \r\nQ 53.21875 48.921875 51.53125 44.890625 \r\nQ 49.859375 40.875 45.40625 35.40625 \r\nQ 44.1875 33.984375 37.640625 27.21875 \r\nQ 31.109375 20.453125 19.1875 8.296875 \r\nz\r\n\" id=\"DejaVuSans-50\"/>\r\n       </defs>\r\n       <use xlink:href=\"#DejaVuSans-8722\"/>\r\n       <use x=\"83.789062\" xlink:href=\"#DejaVuSans-50\"/>\r\n      </g>\r\n     </g>\r\n    </g>\r\n    <g id=\"xtick_3\">\r\n     <g id=\"line2d_3\">\r\n      <g>\r\n       <use style=\"stroke:#000000;stroke-width:0.8;\" x=\"212.162691\" xlink:href=\"#m47f9e2e37e\" y=\"148.770403\"/>\r\n      </g>\r\n     </g>\r\n     <g id=\"text_3\">\r\n      <!-- 0 -->\r\n      <g transform=\"translate(208.981441 163.368841)scale(0.1 -0.1)\">\r\n       <defs>\r\n        <path d=\"M 31.78125 66.40625 \r\nQ 24.171875 66.40625 20.328125 58.90625 \r\nQ 16.5 51.421875 16.5 36.375 \r\nQ 16.5 21.390625 20.328125 13.890625 \r\nQ 24.171875 6.390625 31.78125 6.390625 \r\nQ 39.453125 6.390625 43.28125 13.890625 \r\nQ 47.125 21.390625 47.125 36.375 \r\nQ 47.125 51.421875 43.28125 58.90625 \r\nQ 39.453125 66.40625 31.78125 66.40625 \r\nz\r\nM 31.78125 74.21875 \r\nQ 44.046875 74.21875 50.515625 64.515625 \r\nQ 56.984375 54.828125 56.984375 36.375 \r\nQ 56.984375 17.96875 50.515625 8.265625 \r\nQ 44.046875 -1.421875 31.78125 -1.421875 \r\nQ 19.53125 -1.421875 13.0625 8.265625 \r\nQ 6.59375 17.96875 6.59375 36.375 \r\nQ 6.59375 54.828125 13.0625 64.515625 \r\nQ 19.53125 74.21875 31.78125 74.21875 \r\nz\r\n\" id=\"DejaVuSans-48\"/>\r\n       </defs>\r\n       <use xlink:href=\"#DejaVuSans-48\"/>\r\n      </g>\r\n     </g>\r\n    </g>\r\n    <g id=\"xtick_4\">\r\n     <g id=\"line2d_4\">\r\n      <g>\r\n       <use style=\"stroke:#000000;stroke-width:0.8;\" x=\"286.702942\" xlink:href=\"#m47f9e2e37e\" y=\"148.770403\"/>\r\n      </g>\r\n     </g>\r\n     <g id=\"text_4\">\r\n      <!-- 2 -->\r\n      <g transform=\"translate(283.521692 163.368841)scale(0.1 -0.1)\">\r\n       <use xlink:href=\"#DejaVuSans-50\"/>\r\n      </g>\r\n     </g>\r\n    </g>\r\n    <g id=\"xtick_5\">\r\n     <g id=\"line2d_5\">\r\n      <g>\r\n       <use style=\"stroke:#000000;stroke-width:0.8;\" x=\"361.243192\" xlink:href=\"#m47f9e2e37e\" y=\"148.770403\"/>\r\n      </g>\r\n     </g>\r\n     <g id=\"text_5\">\r\n      <!-- 4 -->\r\n      <g transform=\"translate(358.061942 163.368841)scale(0.1 -0.1)\">\r\n       <use xlink:href=\"#DejaVuSans-52\"/>\r\n      </g>\r\n     </g>\r\n    </g>\r\n    <g id=\"text_6\">\r\n     <!-- x -->\r\n     <g transform=\"translate(414.140625 177.046966)scale(0.1 -0.1)\">\r\n      <defs>\r\n       <path d=\"M 54.890625 54.6875 \r\nL 35.109375 28.078125 \r\nL 55.90625 0 \r\nL 45.3125 0 \r\nL 29.390625 21.484375 \r\nL 13.484375 0 \r\nL 2.875 0 \r\nL 24.125 28.609375 \r\nL 4.6875 54.6875 \r\nL 15.28125 54.6875 \r\nL 29.78125 35.203125 \r\nL 44.28125 54.6875 \r\nz\r\n\" id=\"DejaVuSans-120\"/>\r\n      </defs>\r\n      <use xlink:href=\"#DejaVuSans-120\"/>\r\n     </g>\r\n    </g>\r\n   </g>\r\n   <g id=\"matplotlib.axis_2\">\r\n    <g id=\"ytick_1\">\r\n     <g id=\"line2d_6\">\r\n      <defs>\r\n       <path d=\"M 0 0 \r\nL -3.5 0 \r\n\" id=\"m9e5be19fc9\" style=\"stroke:#000000;stroke-width:0.8;\"/>\r\n      </defs>\r\n      <g>\r\n       <use style=\"stroke:#000000;stroke-width:0.8;\" x=\"212.162691\" xlink:href=\"#m9e5be19fc9\" y=\"245.497975\"/>\r\n      </g>\r\n     </g>\r\n     <g id=\"text_7\">\r\n      <!-- −4 -->\r\n      <g transform=\"translate(190.420504 249.297193)scale(0.1 -0.1)\">\r\n       <use xlink:href=\"#DejaVuSans-8722\"/>\r\n       <use x=\"83.789062\" xlink:href=\"#DejaVuSans-52\"/>\r\n      </g>\r\n     </g>\r\n    </g>\r\n    <g id=\"ytick_2\">\r\n     <g id=\"line2d_7\">\r\n      <g>\r\n       <use style=\"stroke:#000000;stroke-width:0.8;\" x=\"212.162691\" xlink:href=\"#m9e5be19fc9\" y=\"197.134189\"/>\r\n      </g>\r\n     </g>\r\n     <g id=\"text_8\">\r\n      <!-- −2 -->\r\n      <g transform=\"translate(190.420504 200.933408)scale(0.1 -0.1)\">\r\n       <use xlink:href=\"#DejaVuSans-8722\"/>\r\n       <use x=\"83.789062\" xlink:href=\"#DejaVuSans-50\"/>\r\n      </g>\r\n     </g>\r\n    </g>\r\n    <g id=\"ytick_3\">\r\n     <g id=\"line2d_8\">\r\n      <g>\r\n       <use style=\"stroke:#000000;stroke-width:0.8;\" x=\"212.162691\" xlink:href=\"#m9e5be19fc9\" y=\"148.770403\"/>\r\n      </g>\r\n     </g>\r\n     <g id=\"text_9\">\r\n      <!-- 0 -->\r\n      <g transform=\"translate(198.800191 152.569622)scale(0.1 -0.1)\">\r\n       <use xlink:href=\"#DejaVuSans-48\"/>\r\n      </g>\r\n     </g>\r\n    </g>\r\n    <g id=\"ytick_4\">\r\n     <g id=\"line2d_9\">\r\n      <g>\r\n       <use style=\"stroke:#000000;stroke-width:0.8;\" x=\"212.162691\" xlink:href=\"#m9e5be19fc9\" y=\"100.406617\"/>\r\n      </g>\r\n     </g>\r\n     <g id=\"text_10\">\r\n      <!-- 2 -->\r\n      <g transform=\"translate(198.800191 104.205836)scale(0.1 -0.1)\">\r\n       <use xlink:href=\"#DejaVuSans-50\"/>\r\n      </g>\r\n     </g>\r\n    </g>\r\n    <g id=\"ytick_5\">\r\n     <g id=\"line2d_10\">\r\n      <g>\r\n       <use style=\"stroke:#000000;stroke-width:0.8;\" x=\"212.162691\" xlink:href=\"#m9e5be19fc9\" y=\"52.042832\"/>\r\n      </g>\r\n     </g>\r\n     <g id=\"text_11\">\r\n      <!-- 4 -->\r\n      <g transform=\"translate(198.800191 55.84205)scale(0.1 -0.1)\">\r\n       <use xlink:href=\"#DejaVuSans-52\"/>\r\n      </g>\r\n     </g>\r\n    </g>\r\n    <g id=\"text_12\">\r\n     <!-- f(x) -->\r\n     <g transform=\"translate(184.340816 24.442187)rotate(-90)scale(0.1 -0.1)\">\r\n      <defs>\r\n       <path d=\"M 37.109375 75.984375 \r\nL 37.109375 68.5 \r\nL 28.515625 68.5 \r\nQ 23.6875 68.5 21.796875 66.546875 \r\nQ 19.921875 64.59375 19.921875 59.515625 \r\nL 19.921875 54.6875 \r\nL 34.71875 54.6875 \r\nL 34.71875 47.703125 \r\nL 19.921875 47.703125 \r\nL 19.921875 0 \r\nL 10.890625 0 \r\nL 10.890625 47.703125 \r\nL 2.296875 47.703125 \r\nL 2.296875 54.6875 \r\nL 10.890625 54.6875 \r\nL 10.890625 58.5 \r\nQ 10.890625 67.625 15.140625 71.796875 \r\nQ 19.390625 75.984375 28.609375 75.984375 \r\nz\r\n\" id=\"DejaVuSans-102\"/>\r\n       <path d=\"M 31 75.875 \r\nQ 24.46875 64.65625 21.28125 53.65625 \r\nQ 18.109375 42.671875 18.109375 31.390625 \r\nQ 18.109375 20.125 21.3125 9.0625 \r\nQ 24.515625 -2 31 -13.1875 \r\nL 23.1875 -13.1875 \r\nQ 15.875 -1.703125 12.234375 9.375 \r\nQ 8.59375 20.453125 8.59375 31.390625 \r\nQ 8.59375 42.28125 12.203125 53.3125 \r\nQ 15.828125 64.359375 23.1875 75.875 \r\nz\r\n\" id=\"DejaVuSans-40\"/>\r\n       <path d=\"M 8.015625 75.875 \r\nL 15.828125 75.875 \r\nQ 23.140625 64.359375 26.78125 53.3125 \r\nQ 30.421875 42.28125 30.421875 31.390625 \r\nQ 30.421875 20.453125 26.78125 9.375 \r\nQ 23.140625 -1.703125 15.828125 -13.1875 \r\nL 8.015625 -13.1875 \r\nQ 14.5 -2 17.703125 9.0625 \r\nQ 20.90625 20.125 20.90625 31.390625 \r\nQ 20.90625 42.671875 17.703125 53.65625 \r\nQ 14.5 64.65625 8.015625 75.875 \r\nz\r\n\" id=\"DejaVuSans-41\"/>\r\n      </defs>\r\n      <use xlink:href=\"#DejaVuSans-102\"/>\r\n      <use x=\"35.205078\" xlink:href=\"#DejaVuSans-40\"/>\r\n      <use x=\"74.21875\" xlink:href=\"#DejaVuSans-120\"/>\r\n      <use x=\"133.398438\" xlink:href=\"#DejaVuSans-41\"/>\r\n     </g>\r\n    </g>\r\n   </g>\r\n   <g id=\"LineCollection_1\">\r\n    <path clip-path=\"url(#pbe4ea66f51)\" d=\"M 0 0 \r\n\" style=\"fill:none;stroke:#1f77b4;stroke-width:1.5;\"/>\r\n    <path clip-path=\"url(#pbe4ea66f51)\" d=\"M 25.831818 150.530799 \r\n\" style=\"fill:none;stroke:#1f77b4;stroke-width:1.5;\"/>\r\n    <path clip-path=\"url(#pbe4ea66f51)\" d=\"M 25.831818 150.530799 \r\nL 26.404344 158.402645 \r\n\" style=\"fill:none;stroke:#1f77b4;stroke-width:1.5;\"/>\r\n    <path clip-path=\"url(#pbe4ea66f51)\" d=\"M 26.404344 158.402645 \r\nL 26.960929 162.175615 \r\n\" style=\"fill:none;stroke:#1f77b4;stroke-width:1.5;\"/>\r\n    <path clip-path=\"url(#pbe4ea66f51)\" d=\"M 26.960929 162.175615 \r\nL 28.17988 167.983606 \r\n\" style=\"fill:none;stroke:#1f77b4;stroke-width:1.5;\"/>\r\n    <path clip-path=\"url(#pbe4ea66f51)\" d=\"M 28.17988 167.983606 \r\nL 30.590529 175.975604 \r\n\" style=\"fill:none;stroke:#1f77b4;stroke-width:1.5;\"/>\r\n    <path clip-path=\"url(#pbe4ea66f51)\" d=\"M 30.590529 175.975604 \r\nL 33.088375 182.227181 \r\n\" style=\"fill:none;stroke:#1f77b4;stroke-width:1.5;\"/>\r\n    <path clip-path=\"url(#pbe4ea66f51)\" d=\"M 33.088375 182.227181 \r\nL 36.038725 188.273862 \r\n\" style=\"fill:none;stroke:#1f77b4;stroke-width:1.5;\"/>\r\n    <path clip-path=\"url(#pbe4ea66f51)\" d=\"M 36.038725 188.273862 \r\nL 38.912317 193.303172 \r\n\" style=\"fill:none;stroke:#1f77b4;stroke-width:1.5;\"/>\r\n    <path clip-path=\"url(#pbe4ea66f51)\" d=\"M 38.912317 193.303172 \r\nL 45.533403 202.904715 \r\n\" style=\"fill:none;stroke:#1f77b4;stroke-width:1.5;\"/>\r\n    <path clip-path=\"url(#pbe4ea66f51)\" d=\"M 45.533403 202.904715 \r\nL 51.353007 209.866424 \r\n\" style=\"fill:none;stroke:#1f77b4;stroke-width:1.5;\"/>\r\n    <path clip-path=\"url(#pbe4ea66f51)\" d=\"M 51.353007 209.866424 \r\nL 56.841646 215.577389 \r\n\" style=\"fill:none;stroke:#1f77b4;stroke-width:1.5;\"/>\r\n    <path clip-path=\"url(#pbe4ea66f51)\" d=\"M 56.841646 215.577389 \r\nL 62.606493 220.90272 \r\n\" style=\"fill:none;stroke:#1f77b4;stroke-width:1.5;\"/>\r\n    <path clip-path=\"url(#pbe4ea66f51)\" d=\"M 62.606493 220.90272 \r\nL 68.227355 225.565893 \r\n\" style=\"fill:none;stroke:#1f77b4;stroke-width:1.5;\"/>\r\n    <path clip-path=\"url(#pbe4ea66f51)\" d=\"M 68.227355 225.565893 \r\nL 73.779013 229.747941 \r\n\" style=\"fill:none;stroke:#1f77b4;stroke-width:1.5;\"/>\r\n    <path clip-path=\"url(#pbe4ea66f51)\" d=\"M 73.779013 229.747941 \r\nL 80.206178 234.144983 \r\n\" style=\"fill:none;stroke:#1f77b4;stroke-width:1.5;\"/>\r\n    <path clip-path=\"url(#pbe4ea66f51)\" d=\"M 80.206178 234.144983 \r\nL 92.177041 241.282415 \r\n\" style=\"fill:none;stroke:#1f77b4;stroke-width:1.5;\"/>\r\n    <path clip-path=\"url(#pbe4ea66f51)\" d=\"M 92.177041 241.282415 \r\nL 103.51081 247.001569 \r\n\" style=\"fill:none;stroke:#1f77b4;stroke-width:1.5;\"/>\r\n    <path clip-path=\"url(#pbe4ea66f51)\" d=\"M 103.51081 247.001569 \r\nL 116.576174 252.562112 \r\n\" style=\"fill:none;stroke:#1f77b4;stroke-width:1.5;\"/>\r\n    <path clip-path=\"url(#pbe4ea66f51)\" d=\"M 116.576174 252.562112 \r\nL 131.14345 257.654529 \r\n\" style=\"fill:none;stroke:#1f77b4;stroke-width:1.5;\"/>\r\n    <path clip-path=\"url(#pbe4ea66f51)\" d=\"M 131.14345 257.654529 \r\nL 145.342871 261.639713 \r\n\" style=\"fill:none;stroke:#1f77b4;stroke-width:1.5;\"/>\r\n    <path clip-path=\"url(#pbe4ea66f51)\" d=\"M 145.342871 261.639713 \r\nL 157.255321 264.312289 \r\n\" style=\"fill:none;stroke:#1f77b4;stroke-width:1.5;\"/>\r\n    <path clip-path=\"url(#pbe4ea66f51)\" d=\"M 157.255321 264.312289 \r\nL 170.69337 266.648059 \r\n\" style=\"fill:none;stroke:#1f77b4;stroke-width:1.5;\"/>\r\n    <path clip-path=\"url(#pbe4ea66f51)\" d=\"M 170.69337 266.648059 \r\nL 184.62782 268.352703 \r\n\" style=\"fill:none;stroke:#1f77b4;stroke-width:1.5;\"/>\r\n    <path clip-path=\"url(#pbe4ea66f51)\" d=\"M 184.62782 268.352703 \r\nL 195.883754 269.217645 \r\n\" style=\"fill:none;stroke:#1f77b4;stroke-width:1.5;\"/>\r\n    <path clip-path=\"url(#pbe4ea66f51)\" d=\"M 195.883754 269.217645 \r\nL 207.071215 269.63473 \r\n\" style=\"fill:none;stroke:#1f77b4;stroke-width:1.5;\"/>\r\n    <path clip-path=\"url(#pbe4ea66f51)\" d=\"M 207.071215 269.63473 \r\nL 218.718787 269.605017 \r\n\" style=\"fill:none;stroke:#1f77b4;stroke-width:1.5;\"/>\r\n    <path clip-path=\"url(#pbe4ea66f51)\" d=\"M 218.718787 269.605017 \r\nL 230.592212 269.08713 \r\n\" style=\"fill:none;stroke:#1f77b4;stroke-width:1.5;\"/>\r\n    <path clip-path=\"url(#pbe4ea66f51)\" d=\"M 230.592212 269.08713 \r\nL 243.899668 267.91349 \r\n\" style=\"fill:none;stroke:#1f77b4;stroke-width:1.5;\"/>\r\n    <path clip-path=\"url(#pbe4ea66f51)\" d=\"M 243.899668 267.91349 \r\nL 257.272816 266.083837 \r\n\" style=\"fill:none;stroke:#1f77b4;stroke-width:1.5;\"/>\r\n    <path clip-path=\"url(#pbe4ea66f51)\" d=\"M 257.272816 266.083837 \r\nL 265.30714 264.65879 \r\n\" style=\"fill:none;stroke:#1f77b4;stroke-width:1.5;\"/>\r\n    <path clip-path=\"url(#pbe4ea66f51)\" d=\"M 265.30714 264.65879 \r\nL 273.370269 262.971814 \r\n\" style=\"fill:none;stroke:#1f77b4;stroke-width:1.5;\"/>\r\n    <path clip-path=\"url(#pbe4ea66f51)\" d=\"M 273.370269 262.971814 \r\nL 287.757576 259.284593 \r\n\" style=\"fill:none;stroke:#1f77b4;stroke-width:1.5;\"/>\r\n    <path clip-path=\"url(#pbe4ea66f51)\" d=\"M 287.757576 259.284593 \r\nL 301.965886 254.714151 \r\n\" style=\"fill:none;stroke:#1f77b4;stroke-width:1.5;\"/>\r\n    <path clip-path=\"url(#pbe4ea66f51)\" d=\"M 301.965886 254.714151 \r\nL 315.557626 249.361821 \r\n\" style=\"fill:none;stroke:#1f77b4;stroke-width:1.5;\"/>\r\n    <path clip-path=\"url(#pbe4ea66f51)\" d=\"M 315.557626 249.361821 \r\nL 327.125521 243.929583 \r\n\" style=\"fill:none;stroke:#1f77b4;stroke-width:1.5;\"/>\r\n    <path clip-path=\"url(#pbe4ea66f51)\" d=\"M 327.125521 243.929583 \r\nL 339.370569 237.127102 \r\n\" style=\"fill:none;stroke:#1f77b4;stroke-width:1.5;\"/>\r\n    <path clip-path=\"url(#pbe4ea66f51)\" d=\"M 339.370569 237.127102 \r\nL 349.399045 230.565791 \r\n\" style=\"fill:none;stroke:#1f77b4;stroke-width:1.5;\"/>\r\n    <path clip-path=\"url(#pbe4ea66f51)\" d=\"M 349.399045 230.565791 \r\nL 354.974069 226.444239 \r\n\" style=\"fill:none;stroke:#1f77b4;stroke-width:1.5;\"/>\r\n    <path clip-path=\"url(#pbe4ea66f51)\" d=\"M 354.974069 226.444239 \r\nL 360.412354 222.029334 \r\n\" style=\"fill:none;stroke:#1f77b4;stroke-width:1.5;\"/>\r\n    <path clip-path=\"url(#pbe4ea66f51)\" d=\"M 360.412354 222.029334 \r\nL 366.307813 216.714282 \r\n\" style=\"fill:none;stroke:#1f77b4;stroke-width:1.5;\"/>\r\n    <path clip-path=\"url(#pbe4ea66f51)\" d=\"M 366.307813 216.714282 \r\nL 373.392508 209.398498 \r\n\" style=\"fill:none;stroke:#1f77b4;stroke-width:1.5;\"/>\r\n    <path clip-path=\"url(#pbe4ea66f51)\" d=\"M 373.392508 209.398498 \r\nL 379.375497 202.141895 \r\n\" style=\"fill:none;stroke:#1f77b4;stroke-width:1.5;\"/>\r\n    <path clip-path=\"url(#pbe4ea66f51)\" d=\"M 379.375497 202.141895 \r\nL 386.048194 192.248585 \r\n\" style=\"fill:none;stroke:#1f77b4;stroke-width:1.5;\"/>\r\n    <path clip-path=\"url(#pbe4ea66f51)\" d=\"M 386.048194 192.248585 \r\nL 389.151371 186.611935 \r\n\" style=\"fill:none;stroke:#1f77b4;stroke-width:1.5;\"/>\r\n    <path clip-path=\"url(#pbe4ea66f51)\" d=\"M 389.151371 186.611935 \r\nL 392.68396 178.775635 \r\n\" style=\"fill:none;stroke:#1f77b4;stroke-width:1.5;\"/>\r\n    <path clip-path=\"url(#pbe4ea66f51)\" d=\"M 392.68396 178.775635 \r\nL 395.322376 171.049732 \r\n\" style=\"fill:none;stroke:#1f77b4;stroke-width:1.5;\"/>\r\n    <path clip-path=\"url(#pbe4ea66f51)\" d=\"M 395.322376 171.049732 \r\nL 396.805219 165.103512 \r\n\" style=\"fill:none;stroke:#1f77b4;stroke-width:1.5;\"/>\r\n    <path clip-path=\"url(#pbe4ea66f51)\" d=\"M 396.805219 165.103512 \r\nL 397.667723 160.275697 \r\n\" style=\"fill:none;stroke:#1f77b4;stroke-width:1.5;\"/>\r\n    <path clip-path=\"url(#pbe4ea66f51)\" d=\"M 397.667723 160.275697 \r\nL 398.45364 151.830111 \r\n\" style=\"fill:none;stroke:#1f77b4;stroke-width:1.5;\"/>\r\n    <path clip-path=\"url(#pbe4ea66f51)\" d=\"M 398.45364 151.830111 \r\n\" style=\"fill:none;stroke:#1f77b4;stroke-width:1.5;\"/>\r\n    <path clip-path=\"url(#pbe4ea66f51)\" d=\"M 0 0 \r\n\" style=\"fill:none;stroke:#1f77b4;stroke-width:1.5;\"/>\r\n   </g>\r\n   <g id=\"LineCollection_2\">\r\n    <path clip-path=\"url(#pbe4ea66f51)\" d=\"M 25.852317 146.257485 \r\n\" style=\"fill:none;stroke:#1f77b4;stroke-width:1.5;\"/>\r\n    <path clip-path=\"url(#pbe4ea66f51)\" d=\"M 25.852317 146.257485 \r\nL 25.938475 144.317681 \r\n\" style=\"fill:none;stroke:#1f77b4;stroke-width:1.5;\"/>\r\n    <path clip-path=\"url(#pbe4ea66f51)\" d=\"M 25.938475 144.317681 \r\nL 26.15138 141.47728 \r\n\" style=\"fill:none;stroke:#1f77b4;stroke-width:1.5;\"/>\r\n    <path clip-path=\"url(#pbe4ea66f51)\" d=\"M 26.15138 141.47728 \r\nL 26.583063 137.78321 \r\n\" style=\"fill:none;stroke:#1f77b4;stroke-width:1.5;\"/>\r\n    <path clip-path=\"url(#pbe4ea66f51)\" d=\"M 26.583063 137.78321 \r\nL 27.418012 132.931039 \r\n\" style=\"fill:none;stroke:#1f77b4;stroke-width:1.5;\"/>\r\n    <path clip-path=\"url(#pbe4ea66f51)\" d=\"M 27.418012 132.931039 \r\nL 28.989734 126.537059 \r\n\" style=\"fill:none;stroke:#1f77b4;stroke-width:1.5;\"/>\r\n    <path clip-path=\"url(#pbe4ea66f51)\" d=\"M 28.989734 126.537059 \r\nL 30.572771 121.615145 \r\n\" style=\"fill:none;stroke:#1f77b4;stroke-width:1.5;\"/>\r\n    <path clip-path=\"url(#pbe4ea66f51)\" d=\"M 30.572771 121.615145 \r\nL 34.270024 112.757512 \r\n\" style=\"fill:none;stroke:#1f77b4;stroke-width:1.5;\"/>\r\n    <path clip-path=\"url(#pbe4ea66f51)\" d=\"M 34.270024 112.757512 \r\nL 37.458116 106.697199 \r\n\" style=\"fill:none;stroke:#1f77b4;stroke-width:1.5;\"/>\r\n    <path clip-path=\"url(#pbe4ea66f51)\" d=\"M 37.458116 106.697199 \r\nL 40.954369 101.028553 \r\n\" style=\"fill:none;stroke:#1f77b4;stroke-width:1.5;\"/>\r\n    <path clip-path=\"url(#pbe4ea66f51)\" d=\"M 40.954369 101.028553 \r\nL 44.643395 95.805065 \r\n\" style=\"fill:none;stroke:#1f77b4;stroke-width:1.5;\"/>\r\n    <path clip-path=\"url(#pbe4ea66f51)\" d=\"M 44.643395 95.805065 \r\nL 48.275273 91.220183 \r\n\" style=\"fill:none;stroke:#1f77b4;stroke-width:1.5;\"/>\r\n    <path clip-path=\"url(#pbe4ea66f51)\" d=\"M 48.275273 91.220183 \r\nL 56.324252 82.472595 \r\n\" style=\"fill:none;stroke:#1f77b4;stroke-width:1.5;\"/>\r\n    <path clip-path=\"url(#pbe4ea66f51)\" d=\"M 56.324252 82.472595 \r\nL 64.013209 75.426207 \r\n\" style=\"fill:none;stroke:#1f77b4;stroke-width:1.5;\"/>\r\n    <path clip-path=\"url(#pbe4ea66f51)\" d=\"M 64.013209 75.426207 \r\nL 70.40124 70.291077 \r\n\" style=\"fill:none;stroke:#1f77b4;stroke-width:1.5;\"/>\r\n    <path clip-path=\"url(#pbe4ea66f51)\" d=\"M 70.40124 70.291077 \r\nL 75.848292 66.328566 \r\n\" style=\"fill:none;stroke:#1f77b4;stroke-width:1.5;\"/>\r\n    <path clip-path=\"url(#pbe4ea66f51)\" d=\"M 75.848292 66.328566 \r\nL 82.490273 61.934991 \r\n\" style=\"fill:none;stroke:#1f77b4;stroke-width:1.5;\"/>\r\n    <path clip-path=\"url(#pbe4ea66f51)\" d=\"M 82.490273 61.934991 \r\nL 92.460282 56.104054 \r\n\" style=\"fill:none;stroke:#1f77b4;stroke-width:1.5;\"/>\r\n    <path clip-path=\"url(#pbe4ea66f51)\" d=\"M 92.460282 56.104054 \r\nL 103.924104 50.347347 \r\n\" style=\"fill:none;stroke:#1f77b4;stroke-width:1.5;\"/>\r\n    <path clip-path=\"url(#pbe4ea66f51)\" d=\"M 103.924104 50.347347 \r\nL 115.486828 45.40431 \r\n\" style=\"fill:none;stroke:#1f77b4;stroke-width:1.5;\"/>\r\n    <path clip-path=\"url(#pbe4ea66f51)\" d=\"M 115.486828 45.40431 \r\nL 128.946468 40.586048 \r\n\" style=\"fill:none;stroke:#1f77b4;stroke-width:1.5;\"/>\r\n    <path clip-path=\"url(#pbe4ea66f51)\" d=\"M 128.946468 40.586048 \r\nL 142.17941 36.71107 \r\n\" style=\"fill:none;stroke:#1f77b4;stroke-width:1.5;\"/>\r\n    <path clip-path=\"url(#pbe4ea66f51)\" d=\"M 142.17941 36.71107 \r\nL 156.212098 33.439394 \r\n\" style=\"fill:none;stroke:#1f77b4;stroke-width:1.5;\"/>\r\n    <path clip-path=\"url(#pbe4ea66f51)\" d=\"M 156.212098 33.439394 \r\nL 171.024047 30.84398 \r\n\" style=\"fill:none;stroke:#1f77b4;stroke-width:1.5;\"/>\r\n    <path clip-path=\"url(#pbe4ea66f51)\" d=\"M 171.024047 30.84398 \r\nL 183.922469 29.257372 \r\n\" style=\"fill:none;stroke:#1f77b4;stroke-width:1.5;\"/>\r\n    <path clip-path=\"url(#pbe4ea66f51)\" d=\"M 183.922469 29.257372 \r\nL 192.678637 28.523642 \r\n\" style=\"fill:none;stroke:#1f77b4;stroke-width:1.5;\"/>\r\n    <path clip-path=\"url(#pbe4ea66f51)\" d=\"M 192.678637 28.523642 \r\nL 202.229969 28.032814 \r\n\" style=\"fill:none;stroke:#1f77b4;stroke-width:1.5;\"/>\r\n    <path clip-path=\"url(#pbe4ea66f51)\" d=\"M 202.229969 28.032814 \r\nL 217.331461 27.907457 \r\n\" style=\"fill:none;stroke:#1f77b4;stroke-width:1.5;\"/>\r\n    <path clip-path=\"url(#pbe4ea66f51)\" d=\"M 217.331461 27.907457 \r\nL 231.521886 28.515153 \r\n\" style=\"fill:none;stroke:#1f77b4;stroke-width:1.5;\"/>\r\n    <path clip-path=\"url(#pbe4ea66f51)\" d=\"M 231.521886 28.515153 \r\nL 244.688901 29.716955 \r\n\" style=\"fill:none;stroke:#1f77b4;stroke-width:1.5;\"/>\r\n    <path clip-path=\"url(#pbe4ea66f51)\" d=\"M 244.688901 29.716955 \r\nL 258.160608 31.602187 \r\n\" style=\"fill:none;stroke:#1f77b4;stroke-width:1.5;\"/>\r\n    <path clip-path=\"url(#pbe4ea66f51)\" d=\"M 258.160608 31.602187 \r\nL 271.571777 34.169862 \r\n\" style=\"fill:none;stroke:#1f77b4;stroke-width:1.5;\"/>\r\n    <path clip-path=\"url(#pbe4ea66f51)\" d=\"M 271.571777 34.169862 \r\nL 284.208397 37.262647 \r\n\" style=\"fill:none;stroke:#1f77b4;stroke-width:1.5;\"/>\r\n    <path clip-path=\"url(#pbe4ea66f51)\" d=\"M 284.208397 37.262647 \r\nL 295.428313 40.60205 \r\n\" style=\"fill:none;stroke:#1f77b4;stroke-width:1.5;\"/>\r\n    <path clip-path=\"url(#pbe4ea66f51)\" d=\"M 295.428313 40.60205 \r\nL 307.683777 44.953338 \r\n\" style=\"fill:none;stroke:#1f77b4;stroke-width:1.5;\"/>\r\n    <path clip-path=\"url(#pbe4ea66f51)\" d=\"M 307.683777 44.953338 \r\nL 318.900003 49.659539 \r\n\" style=\"fill:none;stroke:#1f77b4;stroke-width:1.5;\"/>\r\n    <path clip-path=\"url(#pbe4ea66f51)\" d=\"M 318.900003 49.659539 \r\nL 328.536863 54.336181 \r\n\" style=\"fill:none;stroke:#1f77b4;stroke-width:1.5;\"/>\r\n    <path clip-path=\"url(#pbe4ea66f51)\" d=\"M 328.536863 54.336181 \r\nL 338.172438 59.693886 \r\n\" style=\"fill:none;stroke:#1f77b4;stroke-width:1.5;\"/>\r\n    <path clip-path=\"url(#pbe4ea66f51)\" d=\"M 338.172438 59.693886 \r\nL 349.890636 67.323598 \r\n\" style=\"fill:none;stroke:#1f77b4;stroke-width:1.5;\"/>\r\n    <path clip-path=\"url(#pbe4ea66f51)\" d=\"M 349.890636 67.323598 \r\nL 355.144938 71.229014 \r\n\" style=\"fill:none;stroke:#1f77b4;stroke-width:1.5;\"/>\r\n    <path clip-path=\"url(#pbe4ea66f51)\" d=\"M 355.144938 71.229014 \r\nL 360.555203 75.633326 \r\n\" style=\"fill:none;stroke:#1f77b4;stroke-width:1.5;\"/>\r\n    <path clip-path=\"url(#pbe4ea66f51)\" d=\"M 360.555203 75.633326 \r\nL 365.780215 80.325338 \r\n\" style=\"fill:none;stroke:#1f77b4;stroke-width:1.5;\"/>\r\n    <path clip-path=\"url(#pbe4ea66f51)\" d=\"M 365.780215 80.325338 \r\nL 370.948141 85.484788 \r\n\" style=\"fill:none;stroke:#1f77b4;stroke-width:1.5;\"/>\r\n    <path clip-path=\"url(#pbe4ea66f51)\" d=\"M 370.948141 85.484788 \r\nL 375.466581 90.526063 \r\n\" style=\"fill:none;stroke:#1f77b4;stroke-width:1.5;\"/>\r\n    <path clip-path=\"url(#pbe4ea66f51)\" d=\"M 375.466581 90.526063 \r\nL 379.801162 95.964036 \r\n\" style=\"fill:none;stroke:#1f77b4;stroke-width:1.5;\"/>\r\n    <path clip-path=\"url(#pbe4ea66f51)\" d=\"M 379.801162 95.964036 \r\nL 384.88414 103.380936 \r\n\" style=\"fill:none;stroke:#1f77b4;stroke-width:1.5;\"/>\r\n    <path clip-path=\"url(#pbe4ea66f51)\" d=\"M 384.88414 103.380936 \r\nL 390.259379 113.184546 \r\n\" style=\"fill:none;stroke:#1f77b4;stroke-width:1.5;\"/>\r\n    <path clip-path=\"url(#pbe4ea66f51)\" d=\"M 390.259379 113.184546 \r\nL 394.437874 123.622039 \r\n\" style=\"fill:none;stroke:#1f77b4;stroke-width:1.5;\"/>\r\n    <path clip-path=\"url(#pbe4ea66f51)\" d=\"M 394.437874 123.622039 \r\nL 396.822896 132.521643 \r\n\" style=\"fill:none;stroke:#1f77b4;stroke-width:1.5;\"/>\r\n    <path clip-path=\"url(#pbe4ea66f51)\" d=\"M 396.822896 132.521643 \r\nL 397.91646 139.101056 \r\n\" style=\"fill:none;stroke:#1f77b4;stroke-width:1.5;\"/>\r\n    <path clip-path=\"url(#pbe4ea66f51)\" d=\"M 397.91646 139.101056 \r\nL 398.406022 144.668015 \r\n\" style=\"fill:none;stroke:#1f77b4;stroke-width:1.5;\"/>\r\n    <path clip-path=\"url(#pbe4ea66f51)\" d=\"M 398.406022 144.668015 \r\nL 398.468182 146.109419 \r\n\" style=\"fill:none;stroke:#1f77b4;stroke-width:1.5;\"/>\r\n    <path clip-path=\"url(#pbe4ea66f51)\" d=\"M 398.468182 146.109419 \r\n\" style=\"fill:none;stroke:#1f77b4;stroke-width:1.5;\"/>\r\n   </g>\r\n   <g id=\"patch_3\">\r\n    <path d=\"M 212.162691 281.721094 \r\nL 212.162691 15.821094 \r\n\" style=\"fill:none;stroke:#000000;stroke-linecap:square;stroke-linejoin:miter;stroke-width:0.8;\"/>\r\n   </g>\r\n   <g id=\"patch_4\">\r\n    <path d=\"M 417.1 281.721094 \r\nL 417.1 15.821094 \r\n\" style=\"fill:none;\"/>\r\n   </g>\r\n   <g id=\"patch_5\">\r\n    <path d=\"M 7.2 148.770403 \r\nL 417.1 148.770403 \r\n\" style=\"fill:none;stroke:#000000;stroke-linecap:square;stroke-linejoin:miter;stroke-width:0.8;\"/>\r\n   </g>\r\n   <g id=\"patch_6\">\r\n    <path d=\"M 7.2 15.821094 \r\nL 417.1 15.821094 \r\n\" style=\"fill:none;\"/>\r\n   </g>\r\n  </g>\r\n </g>\r\n <defs>\r\n  <clipPath id=\"pbe4ea66f51\">\r\n   <rect height=\"265.9\" width=\"409.9\" x=\"7.2\" y=\"15.821094\"/>\r\n  </clipPath>\r\n </defs>\r\n</svg>\r\n",
      "image/png": "[encoded data removed]"
     },
     "metadata": {
      "needs_background": "light"
     }
    }
   ],
   "source": [
    "#Grafico de la curva\n",
    "aux = solve(curva,y)\n",
    "p1 = plot(aux[0], show=False)\n",
    "p2 = plot(aux[1], show=False)\n",
    "p1.append(p2[0])\n",
    "p1.show()"
   ]
  },
  {
   "cell_type": "code",
   "execution_count": 301,
   "metadata": {},
   "outputs": [
    {
     "output_type": "execute_result",
     "data": {
      "text/plain": [
       "[-5, 5]"
      ],
      "image/png": "[encoded data removed]",
      "text/latex": "$\\displaystyle \\left[ -5, \\  5\\right]$"
     },
     "metadata": {},
     "execution_count": 301
    }
   ],
   "source": [
    "#hallamos los limites de la funcion:\n",
    "limites = [Limit(aux[0],x,0).doit(),Limit(aux[1],x,0).doit()]\n",
    "limites"
   ]
  },
  {
   "cell_type": "code",
   "execution_count": 304,
   "metadata": {},
   "outputs": [
    {
     "output_type": "execute_result",
     "data": {
      "text/plain": [
       "       _________         \n",
       "      ╱       2          \n",
       "5   ╲╱  25 - x           \n",
       "⌠        ⌠               \n",
       "⎮        ⎮       -2 dy dx\n",
       "⌡        ⌡               \n",
       "-5     _________         \n",
       "      ╱       2          \n",
       "   -╲╱  25 - x           "
      ],
      "image/png": "[encoded data removed]",
      "text/latex": "$\\displaystyle \\int\\limits_{-5}^{5}\\int\\limits_{- \\sqrt{25 - x^{2}}}^{\\sqrt{25 - x^{2}}} \\left(-2\\right)\\, dy\\, dx$"
     },
     "metadata": {},
     "execution_count": 304
    }
   ],
   "source": [
    "#integral planteada:\n",
    "intbase = Integral(S(diff(funcion[1],x)-diff(funcion[0],y)), (y,aux[0], aux[1]))\n",
    "integralplan = Integral(intbase, (x, min(limites), max(limites)))\n",
    "integralplan"
   ]
  },
  {
   "cell_type": "code",
   "execution_count": 305,
   "metadata": {},
   "outputs": [
    {
     "output_type": "execute_result",
     "data": {
      "text/plain": [
       "-50⋅π"
      ],
      "image/png": "[encoded data removed]",
      "text/latex": "$\\displaystyle - 50 \\pi$"
     },
     "metadata": {},
     "execution_count": 305
    }
   ],
   "source": [
    "#Resultado\n",
    "integralplan.doit()"
   ]
  },
  {
   "source": [
    "PREGUNTA 5(Intento 3): <br>\n",
    "Use el Teorema de Green, para calcular el flujo del campo vectorial a trvés de la curva cerrada C, con orientacion positiva.<br>\n",
    "simbolo green = lc <br>\n",
    "lc (sin(x^2)+y)dx + (e^(y^2020+1)-x)dy <br>\n",
    "donde C:<br>\n",
    "x^2+y^2=1 <br>\n",
    "Hallar la integral doble que permite el cálculo del flujo y el valor de la misma."
   ],
   "cell_type": "markdown",
   "metadata": {}
  },
  {
   "cell_type": "code",
   "execution_count": 2,
   "metadata": {},
   "outputs": [],
   "source": [
    "x,y = symbols('x y')\n",
    "curva = x**2+y**2-16 #de lo cual se sabe que el radio es 1\n",
    "funcion = [sin(x**2)+y,exp(y**2020+1)-x]\n",
    "#la parte de dx pasa a ser el primer factor y dy pasa a ser el segundo\n",
    "#funcion = P(x,y) + Q(x,y)"
   ]
  },
  {
   "cell_type": "code",
   "execution_count": 3,
   "metadata": {},
   "outputs": [
    {
     "output_type": "display_data",
     "data": {
      "text/plain": "<Figure size 432x288 with 1 Axes>",
      "image/svg+xml": "<?xml version=\"1.0\" encoding=\"utf-8\" standalone=\"no\"?>\r\n<!DOCTYPE svg PUBLIC \"-//W3C//DTD SVG 1.1//EN\"\r\n  \"http://www.w3.org/Graphics/SVG/1.1/DTD/svg11.dtd\">\r\n<!-- Created with matplotlib (https://matplotlib.org/) -->\r\n<svg height=\"288.921094pt\" version=\"1.1\" viewBox=\"0 0 427.259375 288.921094\" width=\"427.259375pt\" xmlns=\"http://www.w3.org/2000/svg\" xmlns:xlink=\"http://www.w3.org/1999/xlink\">\r\n <metadata>\r\n  <rdf:RDF xmlns:cc=\"http://creativecommons.org/ns#\" xmlns:dc=\"http://purl.org/dc/elements/1.1/\" xmlns:rdf=\"http://www.w3.org/1999/02/22-rdf-syntax-ns#\">\r\n   <cc:Work>\r\n    <dc:type rdf:resource=\"http://purl.org/dc/dcmitype/StillImage\"/>\r\n    <dc:date>2020-11-08T20:18:28.599721</dc:date>\r\n    <dc:format>image/svg+xml</dc:format>\r\n    <dc:creator>\r\n     <cc:Agent>\r\n      <dc:title>Matplotlib v3.3.2, https://matplotlib.org/</dc:title>\r\n     </cc:Agent>\r\n    </dc:creator>\r\n   </cc:Work>\r\n  </rdf:RDF>\r\n </metadata>\r\n <defs>\r\n  <style type=\"text/css\">*{stroke-linecap:butt;stroke-linejoin:round;}</style>\r\n </defs>\r\n <g id=\"figure_1\">\r\n  <g id=\"patch_1\">\r\n   <path d=\"M 0 288.921094 \r\nL 427.259375 288.921094 \r\nL 427.259375 0 \r\nL 0 0 \r\nz\r\n\" style=\"fill:none;\"/>\r\n  </g>\r\n  <g id=\"axes_1\">\r\n   <g id=\"patch_2\">\r\n    <path d=\"M 7.2 281.721094 \r\nL 417.1 281.721094 \r\nL 417.1 15.821094 \r\nL 7.2 15.821094 \r\nz\r\n\" style=\"fill:#ffffff;\"/>\r\n   </g>\r\n   <g id=\"matplotlib.axis_1\">\r\n    <g id=\"xtick_1\">\r\n     <g id=\"line2d_1\">\r\n      <defs>\r\n       <path d=\"M 0 0 \r\nL 0 3.5 \r\n\" id=\"me431d8d9e0\" style=\"stroke:#000000;stroke-width:0.8;\"/>\r\n      </defs>\r\n      <g>\r\n       <use style=\"stroke:#000000;stroke-width:0.8;\" x=\"25.787857\" xlink:href=\"#me431d8d9e0\" y=\"148.758073\"/>\r\n      </g>\r\n     </g>\r\n     <g id=\"text_1\">\r\n      <!-- −4 -->\r\n      <g transform=\"translate(18.416763 163.356511)scale(0.1 -0.1)\">\r\n       <defs>\r\n        <path d=\"M 10.59375 35.5 \r\nL 73.1875 35.5 \r\nL 73.1875 27.203125 \r\nL 10.59375 27.203125 \r\nz\r\n\" id=\"DejaVuSans-8722\"/>\r\n        <path d=\"M 37.796875 64.3125 \r\nL 12.890625 25.390625 \r\nL 37.796875 25.390625 \r\nz\r\nM 35.203125 72.90625 \r\nL 47.609375 72.90625 \r\nL 47.609375 25.390625 \r\nL 58.015625 25.390625 \r\nL 58.015625 17.1875 \r\nL 47.609375 17.1875 \r\nL 47.609375 0 \r\nL 37.796875 0 \r\nL 37.796875 17.1875 \r\nL 4.890625 17.1875 \r\nL 4.890625 26.703125 \r\nz\r\n\" id=\"DejaVuSans-52\"/>\r\n       </defs>\r\n       <use xlink:href=\"#DejaVuSans-8722\"/>\r\n       <use x=\"83.789062\" xlink:href=\"#DejaVuSans-52\"/>\r\n      </g>\r\n     </g>\r\n    </g>\r\n    <g id=\"xtick_2\">\r\n     <g id=\"line2d_2\">\r\n      <g>\r\n       <use style=\"stroke:#000000;stroke-width:0.8;\" x=\"72.373241\" xlink:href=\"#me431d8d9e0\" y=\"148.758073\"/>\r\n      </g>\r\n     </g>\r\n     <g id=\"text_2\">\r\n      <!-- −3 -->\r\n      <g transform=\"translate(65.002147 163.356511)scale(0.1 -0.1)\">\r\n       <defs>\r\n        <path d=\"M 40.578125 39.3125 \r\nQ 47.65625 37.796875 51.625 33 \r\nQ 55.609375 28.21875 55.609375 21.1875 \r\nQ 55.609375 10.40625 48.1875 4.484375 \r\nQ 40.765625 -1.421875 27.09375 -1.421875 \r\nQ 22.515625 -1.421875 17.65625 -0.515625 \r\nQ 12.796875 0.390625 7.625 2.203125 \r\nL 7.625 11.71875 \r\nQ 11.71875 9.328125 16.59375 8.109375 \r\nQ 21.484375 6.890625 26.8125 6.890625 \r\nQ 36.078125 6.890625 40.9375 10.546875 \r\nQ 45.796875 14.203125 45.796875 21.1875 \r\nQ 45.796875 27.640625 41.28125 31.265625 \r\nQ 36.765625 34.90625 28.71875 34.90625 \r\nL 20.21875 34.90625 \r\nL 20.21875 43.015625 \r\nL 29.109375 43.015625 \r\nQ 36.375 43.015625 40.234375 45.921875 \r\nQ 44.09375 48.828125 44.09375 54.296875 \r\nQ 44.09375 59.90625 40.109375 62.90625 \r\nQ 36.140625 65.921875 28.71875 65.921875 \r\nQ 24.65625 65.921875 20.015625 65.03125 \r\nQ 15.375 64.15625 9.8125 62.3125 \r\nL 9.8125 71.09375 \r\nQ 15.4375 72.65625 20.34375 73.4375 \r\nQ 25.25 74.21875 29.59375 74.21875 \r\nQ 40.828125 74.21875 47.359375 69.109375 \r\nQ 53.90625 64.015625 53.90625 55.328125 \r\nQ 53.90625 49.265625 50.4375 45.09375 \r\nQ 46.96875 40.921875 40.578125 39.3125 \r\nz\r\n\" id=\"DejaVuSans-51\"/>\r\n       </defs>\r\n       <use xlink:href=\"#DejaVuSans-8722\"/>\r\n       <use x=\"83.789062\" xlink:href=\"#DejaVuSans-51\"/>\r\n      </g>\r\n     </g>\r\n    </g>\r\n    <g id=\"xtick_3\">\r\n     <g id=\"line2d_3\">\r\n      <g>\r\n       <use style=\"stroke:#000000;stroke-width:0.8;\" x=\"118.958625\" xlink:href=\"#me431d8d9e0\" y=\"148.758073\"/>\r\n      </g>\r\n     </g>\r\n     <g id=\"text_3\">\r\n      <!-- −2 -->\r\n      <g transform=\"translate(111.587531 163.356511)scale(0.1 -0.1)\">\r\n       <defs>\r\n        <path d=\"M 19.1875 8.296875 \r\nL 53.609375 8.296875 \r\nL 53.609375 0 \r\nL 7.328125 0 \r\nL 7.328125 8.296875 \r\nQ 12.9375 14.109375 22.625 23.890625 \r\nQ 32.328125 33.6875 34.8125 36.53125 \r\nQ 39.546875 41.84375 41.421875 45.53125 \r\nQ 43.3125 49.21875 43.3125 52.78125 \r\nQ 43.3125 58.59375 39.234375 62.25 \r\nQ 35.15625 65.921875 28.609375 65.921875 \r\nQ 23.96875 65.921875 18.8125 64.3125 \r\nQ 13.671875 62.703125 7.8125 59.421875 \r\nL 7.8125 69.390625 \r\nQ 13.765625 71.78125 18.9375 73 \r\nQ 24.125 74.21875 28.421875 74.21875 \r\nQ 39.75 74.21875 46.484375 68.546875 \r\nQ 53.21875 62.890625 53.21875 53.421875 \r\nQ 53.21875 48.921875 51.53125 44.890625 \r\nQ 49.859375 40.875 45.40625 35.40625 \r\nQ 44.1875 33.984375 37.640625 27.21875 \r\nQ 31.109375 20.453125 19.1875 8.296875 \r\nz\r\n\" id=\"DejaVuSans-50\"/>\r\n       </defs>\r\n       <use xlink:href=\"#DejaVuSans-8722\"/>\r\n       <use x=\"83.789062\" xlink:href=\"#DejaVuSans-50\"/>\r\n      </g>\r\n     </g>\r\n    </g>\r\n    <g id=\"xtick_4\">\r\n     <g id=\"line2d_4\">\r\n      <g>\r\n       <use style=\"stroke:#000000;stroke-width:0.8;\" x=\"165.544008\" xlink:href=\"#me431d8d9e0\" y=\"148.758073\"/>\r\n      </g>\r\n     </g>\r\n     <g id=\"text_4\">\r\n      <!-- −1 -->\r\n      <g transform=\"translate(158.172915 163.356511)scale(0.1 -0.1)\">\r\n       <defs>\r\n        <path d=\"M 12.40625 8.296875 \r\nL 28.515625 8.296875 \r\nL 28.515625 63.921875 \r\nL 10.984375 60.40625 \r\nL 10.984375 69.390625 \r\nL 28.421875 72.90625 \r\nL 38.28125 72.90625 \r\nL 38.28125 8.296875 \r\nL 54.390625 8.296875 \r\nL 54.390625 0 \r\nL 12.40625 0 \r\nz\r\n\" id=\"DejaVuSans-49\"/>\r\n       </defs>\r\n       <use xlink:href=\"#DejaVuSans-8722\"/>\r\n       <use x=\"83.789062\" xlink:href=\"#DejaVuSans-49\"/>\r\n      </g>\r\n     </g>\r\n    </g>\r\n    <g id=\"xtick_5\">\r\n     <g id=\"line2d_5\">\r\n      <g>\r\n       <use style=\"stroke:#000000;stroke-width:0.8;\" x=\"212.129392\" xlink:href=\"#me431d8d9e0\" y=\"148.758073\"/>\r\n      </g>\r\n     </g>\r\n     <g id=\"text_5\">\r\n      <!-- 0 -->\r\n      <g transform=\"translate(208.948142 163.356511)scale(0.1 -0.1)\">\r\n       <defs>\r\n        <path d=\"M 31.78125 66.40625 \r\nQ 24.171875 66.40625 20.328125 58.90625 \r\nQ 16.5 51.421875 16.5 36.375 \r\nQ 16.5 21.390625 20.328125 13.890625 \r\nQ 24.171875 6.390625 31.78125 6.390625 \r\nQ 39.453125 6.390625 43.28125 13.890625 \r\nQ 47.125 21.390625 47.125 36.375 \r\nQ 47.125 51.421875 43.28125 58.90625 \r\nQ 39.453125 66.40625 31.78125 66.40625 \r\nz\r\nM 31.78125 74.21875 \r\nQ 44.046875 74.21875 50.515625 64.515625 \r\nQ 56.984375 54.828125 56.984375 36.375 \r\nQ 56.984375 17.96875 50.515625 8.265625 \r\nQ 44.046875 -1.421875 31.78125 -1.421875 \r\nQ 19.53125 -1.421875 13.0625 8.265625 \r\nQ 6.59375 17.96875 6.59375 36.375 \r\nQ 6.59375 54.828125 13.0625 64.515625 \r\nQ 19.53125 74.21875 31.78125 74.21875 \r\nz\r\n\" id=\"DejaVuSans-48\"/>\r\n       </defs>\r\n       <use xlink:href=\"#DejaVuSans-48\"/>\r\n      </g>\r\n     </g>\r\n    </g>\r\n    <g id=\"xtick_6\">\r\n     <g id=\"line2d_6\">\r\n      <g>\r\n       <use style=\"stroke:#000000;stroke-width:0.8;\" x=\"258.714776\" xlink:href=\"#me431d8d9e0\" y=\"148.758073\"/>\r\n      </g>\r\n     </g>\r\n     <g id=\"text_6\">\r\n      <!-- 1 -->\r\n      <g transform=\"translate(255.533526 163.356511)scale(0.1 -0.1)\">\r\n       <use xlink:href=\"#DejaVuSans-49\"/>\r\n      </g>\r\n     </g>\r\n    </g>\r\n    <g id=\"xtick_7\">\r\n     <g id=\"line2d_7\">\r\n      <g>\r\n       <use style=\"stroke:#000000;stroke-width:0.8;\" x=\"305.30016\" xlink:href=\"#me431d8d9e0\" y=\"148.758073\"/>\r\n      </g>\r\n     </g>\r\n     <g id=\"text_7\">\r\n      <!-- 2 -->\r\n      <g transform=\"translate(302.11891 163.356511)scale(0.1 -0.1)\">\r\n       <use xlink:href=\"#DejaVuSans-50\"/>\r\n      </g>\r\n     </g>\r\n    </g>\r\n    <g id=\"xtick_8\">\r\n     <g id=\"line2d_8\">\r\n      <g>\r\n       <use style=\"stroke:#000000;stroke-width:0.8;\" x=\"351.885543\" xlink:href=\"#me431d8d9e0\" y=\"148.758073\"/>\r\n      </g>\r\n     </g>\r\n     <g id=\"text_8\">\r\n      <!-- 3 -->\r\n      <g transform=\"translate(348.704293 163.356511)scale(0.1 -0.1)\">\r\n       <use xlink:href=\"#DejaVuSans-51\"/>\r\n      </g>\r\n     </g>\r\n    </g>\r\n    <g id=\"xtick_9\">\r\n     <g id=\"line2d_9\">\r\n      <g>\r\n       <use style=\"stroke:#000000;stroke-width:0.8;\" x=\"398.470927\" xlink:href=\"#me431d8d9e0\" y=\"148.758073\"/>\r\n      </g>\r\n     </g>\r\n     <g id=\"text_9\">\r\n      <!-- 4 -->\r\n      <g transform=\"translate(395.289677 163.356511)scale(0.1 -0.1)\">\r\n       <use xlink:href=\"#DejaVuSans-52\"/>\r\n      </g>\r\n     </g>\r\n    </g>\r\n    <g id=\"text_10\">\r\n     <!-- x -->\r\n     <g transform=\"translate(414.140625 177.034636)scale(0.1 -0.1)\">\r\n      <defs>\r\n       <path d=\"M 54.890625 54.6875 \r\nL 35.109375 28.078125 \r\nL 55.90625 0 \r\nL 45.3125 0 \r\nL 29.390625 21.484375 \r\nL 13.484375 0 \r\nL 2.875 0 \r\nL 24.125 28.609375 \r\nL 4.6875 54.6875 \r\nL 15.28125 54.6875 \r\nL 29.78125 35.203125 \r\nL 44.28125 54.6875 \r\nz\r\n\" id=\"DejaVuSans-120\"/>\r\n      </defs>\r\n      <use xlink:href=\"#DejaVuSans-120\"/>\r\n     </g>\r\n    </g>\r\n   </g>\r\n   <g id=\"matplotlib.axis_2\">\r\n    <g id=\"ytick_1\">\r\n     <g id=\"line2d_10\">\r\n      <defs>\r\n       <path d=\"M 0 0 \r\nL -3.5 0 \r\n\" id=\"md68e0f010a\" style=\"stroke:#000000;stroke-width:0.8;\"/>\r\n      </defs>\r\n      <g>\r\n       <use style=\"stroke:#000000;stroke-width:0.8;\" x=\"212.129392\" xlink:href=\"#md68e0f010a\" y=\"269.640019\"/>\r\n      </g>\r\n     </g>\r\n     <g id=\"text_11\">\r\n      <!-- −4 -->\r\n      <g transform=\"translate(190.387205 273.439237)scale(0.1 -0.1)\">\r\n       <use xlink:href=\"#DejaVuSans-8722\"/>\r\n       <use x=\"83.789062\" xlink:href=\"#DejaVuSans-52\"/>\r\n      </g>\r\n     </g>\r\n    </g>\r\n    <g id=\"ytick_2\">\r\n     <g id=\"line2d_11\">\r\n      <g>\r\n       <use style=\"stroke:#000000;stroke-width:0.8;\" x=\"212.129392\" xlink:href=\"#md68e0f010a\" y=\"239.419532\"/>\r\n      </g>\r\n     </g>\r\n     <g id=\"text_12\">\r\n      <!-- −3 -->\r\n      <g transform=\"translate(190.387205 243.218751)scale(0.1 -0.1)\">\r\n       <use xlink:href=\"#DejaVuSans-8722\"/>\r\n       <use x=\"83.789062\" xlink:href=\"#DejaVuSans-51\"/>\r\n      </g>\r\n     </g>\r\n    </g>\r\n    <g id=\"ytick_3\">\r\n     <g id=\"line2d_12\">\r\n      <g>\r\n       <use style=\"stroke:#000000;stroke-width:0.8;\" x=\"212.129392\" xlink:href=\"#md68e0f010a\" y=\"209.199046\"/>\r\n      </g>\r\n     </g>\r\n     <g id=\"text_13\">\r\n      <!-- −2 -->\r\n      <g transform=\"translate(190.387205 212.998265)scale(0.1 -0.1)\">\r\n       <use xlink:href=\"#DejaVuSans-8722\"/>\r\n       <use x=\"83.789062\" xlink:href=\"#DejaVuSans-50\"/>\r\n      </g>\r\n     </g>\r\n    </g>\r\n    <g id=\"ytick_4\">\r\n     <g id=\"line2d_13\">\r\n      <g>\r\n       <use style=\"stroke:#000000;stroke-width:0.8;\" x=\"212.129392\" xlink:href=\"#md68e0f010a\" y=\"178.97856\"/>\r\n      </g>\r\n     </g>\r\n     <g id=\"text_14\">\r\n      <!-- −1 -->\r\n      <g transform=\"translate(190.387205 182.777778)scale(0.1 -0.1)\">\r\n       <use xlink:href=\"#DejaVuSans-8722\"/>\r\n       <use x=\"83.789062\" xlink:href=\"#DejaVuSans-49\"/>\r\n      </g>\r\n     </g>\r\n    </g>\r\n    <g id=\"ytick_5\">\r\n     <g id=\"line2d_14\">\r\n      <g>\r\n       <use style=\"stroke:#000000;stroke-width:0.8;\" x=\"212.129392\" xlink:href=\"#md68e0f010a\" y=\"148.758073\"/>\r\n      </g>\r\n     </g>\r\n     <g id=\"text_15\">\r\n      <!-- 0 -->\r\n      <g transform=\"translate(198.766892 152.557292)scale(0.1 -0.1)\">\r\n       <use xlink:href=\"#DejaVuSans-48\"/>\r\n      </g>\r\n     </g>\r\n    </g>\r\n    <g id=\"ytick_6\">\r\n     <g id=\"line2d_15\">\r\n      <g>\r\n       <use style=\"stroke:#000000;stroke-width:0.8;\" x=\"212.129392\" xlink:href=\"#md68e0f010a\" y=\"118.537587\"/>\r\n      </g>\r\n     </g>\r\n     <g id=\"text_16\">\r\n      <!-- 1 -->\r\n      <g transform=\"translate(198.766892 122.336806)scale(0.1 -0.1)\">\r\n       <use xlink:href=\"#DejaVuSans-49\"/>\r\n      </g>\r\n     </g>\r\n    </g>\r\n    <g id=\"ytick_7\">\r\n     <g id=\"line2d_16\">\r\n      <g>\r\n       <use style=\"stroke:#000000;stroke-width:0.8;\" x=\"212.129392\" xlink:href=\"#md68e0f010a\" y=\"88.317101\"/>\r\n      </g>\r\n     </g>\r\n     <g id=\"text_17\">\r\n      <!-- 2 -->\r\n      <g transform=\"translate(198.766892 92.11632)scale(0.1 -0.1)\">\r\n       <use xlink:href=\"#DejaVuSans-50\"/>\r\n      </g>\r\n     </g>\r\n    </g>\r\n    <g id=\"ytick_8\">\r\n     <g id=\"line2d_17\">\r\n      <g>\r\n       <use style=\"stroke:#000000;stroke-width:0.8;\" x=\"212.129392\" xlink:href=\"#md68e0f010a\" y=\"58.096614\"/>\r\n      </g>\r\n     </g>\r\n     <g id=\"text_18\">\r\n      <!-- 3 -->\r\n      <g transform=\"translate(198.766892 61.895833)scale(0.1 -0.1)\">\r\n       <use xlink:href=\"#DejaVuSans-51\"/>\r\n      </g>\r\n     </g>\r\n    </g>\r\n    <g id=\"ytick_9\">\r\n     <g id=\"line2d_18\">\r\n      <g>\r\n       <use style=\"stroke:#000000;stroke-width:0.8;\" x=\"212.129392\" xlink:href=\"#md68e0f010a\" y=\"27.876128\"/>\r\n      </g>\r\n     </g>\r\n     <g id=\"text_19\">\r\n      <!-- 4 -->\r\n      <g transform=\"translate(198.766892 31.675347)scale(0.1 -0.1)\">\r\n       <use xlink:href=\"#DejaVuSans-52\"/>\r\n      </g>\r\n     </g>\r\n    </g>\r\n    <g id=\"text_20\">\r\n     <!-- f(x) -->\r\n     <g transform=\"translate(184.307517 24.442187)rotate(-90)scale(0.1 -0.1)\">\r\n      <defs>\r\n       <path d=\"M 37.109375 75.984375 \r\nL 37.109375 68.5 \r\nL 28.515625 68.5 \r\nQ 23.6875 68.5 21.796875 66.546875 \r\nQ 19.921875 64.59375 19.921875 59.515625 \r\nL 19.921875 54.6875 \r\nL 34.71875 54.6875 \r\nL 34.71875 47.703125 \r\nL 19.921875 47.703125 \r\nL 19.921875 0 \r\nL 10.890625 0 \r\nL 10.890625 47.703125 \r\nL 2.296875 47.703125 \r\nL 2.296875 54.6875 \r\nL 10.890625 54.6875 \r\nL 10.890625 58.5 \r\nQ 10.890625 67.625 15.140625 71.796875 \r\nQ 19.390625 75.984375 28.609375 75.984375 \r\nz\r\n\" id=\"DejaVuSans-102\"/>\r\n       <path d=\"M 31 75.875 \r\nQ 24.46875 64.65625 21.28125 53.65625 \r\nQ 18.109375 42.671875 18.109375 31.390625 \r\nQ 18.109375 20.125 21.3125 9.0625 \r\nQ 24.515625 -2 31 -13.1875 \r\nL 23.1875 -13.1875 \r\nQ 15.875 -1.703125 12.234375 9.375 \r\nQ 8.59375 20.453125 8.59375 31.390625 \r\nQ 8.59375 42.28125 12.203125 53.3125 \r\nQ 15.828125 64.359375 23.1875 75.875 \r\nz\r\n\" id=\"DejaVuSans-40\"/>\r\n       <path d=\"M 8.015625 75.875 \r\nL 15.828125 75.875 \r\nQ 23.140625 64.359375 26.78125 53.3125 \r\nQ 30.421875 42.28125 30.421875 31.390625 \r\nQ 30.421875 20.453125 26.78125 9.375 \r\nQ 23.140625 -1.703125 15.828125 -13.1875 \r\nL 8.015625 -13.1875 \r\nQ 14.5 -2 17.703125 9.0625 \r\nQ 20.90625 20.125 20.90625 31.390625 \r\nQ 20.90625 42.671875 17.703125 53.65625 \r\nQ 14.5 64.65625 8.015625 75.875 \r\nz\r\n\" id=\"DejaVuSans-41\"/>\r\n      </defs>\r\n      <use xlink:href=\"#DejaVuSans-102\"/>\r\n      <use x=\"35.205078\" xlink:href=\"#DejaVuSans-40\"/>\r\n      <use x=\"74.21875\" xlink:href=\"#DejaVuSans-120\"/>\r\n      <use x=\"133.398438\" xlink:href=\"#DejaVuSans-41\"/>\r\n     </g>\r\n    </g>\r\n   </g>\r\n   <g id=\"LineCollection_1\">\r\n    <path clip-path=\"url(#p4eece33162)\" d=\"M 25.881298 152.585747 \r\n\" style=\"fill:none;stroke:#1f77b4;stroke-width:1.5;\"/>\r\n    <path clip-path=\"url(#p4eece33162)\" d=\"M 25.881298 152.585747 \r\nL 25.965967 154.042069 \r\n\" style=\"fill:none;stroke:#1f77b4;stroke-width:1.5;\"/>\r\n    <path clip-path=\"url(#p4eece33162)\" d=\"M 25.965967 154.042069 \r\nL 26.12751 156.053341 \r\n\" style=\"fill:none;stroke:#1f77b4;stroke-width:1.5;\"/>\r\n    <path clip-path=\"url(#p4eece33162)\" d=\"M 26.12751 156.053341 \r\nL 26.502272 159.33307 \r\n\" style=\"fill:none;stroke:#1f77b4;stroke-width:1.5;\"/>\r\n    <path clip-path=\"url(#p4eece33162)\" d=\"M 26.502272 159.33307 \r\nL 27.745092 166.232367 \r\n\" style=\"fill:none;stroke:#1f77b4;stroke-width:1.5;\"/>\r\n    <path clip-path=\"url(#p4eece33162)\" d=\"M 27.745092 166.232367 \r\nL 28.987667 171.063536 \r\n\" style=\"fill:none;stroke:#1f77b4;stroke-width:1.5;\"/>\r\n    <path clip-path=\"url(#p4eece33162)\" d=\"M 28.987667 171.063536 \r\nL 31.447821 178.324941 \r\n\" style=\"fill:none;stroke:#1f77b4;stroke-width:1.5;\"/>\r\n    <path clip-path=\"url(#p4eece33162)\" d=\"M 31.447821 178.324941 \r\nL 33.989599 184.226543 \r\n\" style=\"fill:none;stroke:#1f77b4;stroke-width:1.5;\"/>\r\n    <path clip-path=\"url(#p4eece33162)\" d=\"M 33.989599 184.226543 \r\nL 36.829787 189.751401 \r\n\" style=\"fill:none;stroke:#1f77b4;stroke-width:1.5;\"/>\r\n    <path clip-path=\"url(#p4eece33162)\" d=\"M 36.829787 189.751401 \r\nL 42.33 198.549962 \r\n\" style=\"fill:none;stroke:#1f77b4;stroke-width:1.5;\"/>\r\n    <path clip-path=\"url(#p4eece33162)\" d=\"M 42.33 198.549962 \r\nL 48.38789 206.460203 \r\n\" style=\"fill:none;stroke:#1f77b4;stroke-width:1.5;\"/>\r\n    <path clip-path=\"url(#p4eece33162)\" d=\"M 48.38789 206.460203 \r\nL 54.000131 212.709027 \r\n\" style=\"fill:none;stroke:#1f77b4;stroke-width:1.5;\"/>\r\n    <path clip-path=\"url(#p4eece33162)\" d=\"M 54.000131 212.709027 \r\nL 59.925912 218.497661 \r\n\" style=\"fill:none;stroke:#1f77b4;stroke-width:1.5;\"/>\r\n    <path clip-path=\"url(#p4eece33162)\" d=\"M 59.925912 218.497661 \r\nL 67.332683 224.845853 \r\n\" style=\"fill:none;stroke:#1f77b4;stroke-width:1.5;\"/>\r\n    <path clip-path=\"url(#p4eece33162)\" d=\"M 67.332683 224.845853 \r\nL 73.789588 229.743875 \r\n\" style=\"fill:none;stroke:#1f77b4;stroke-width:1.5;\"/>\r\n    <path clip-path=\"url(#p4eece33162)\" d=\"M 73.789588 229.743875 \r\nL 81.556647 234.999968 \r\n\" style=\"fill:none;stroke:#1f77b4;stroke-width:1.5;\"/>\r\n    <path clip-path=\"url(#p4eece33162)\" d=\"M 81.556647 234.999968 \r\nL 90.2386 240.191464 \r\n\" style=\"fill:none;stroke:#1f77b4;stroke-width:1.5;\"/>\r\n    <path clip-path=\"url(#p4eece33162)\" d=\"M 90.2386 240.191464 \r\nL 97.264145 243.942334 \r\n\" style=\"fill:none;stroke:#1f77b4;stroke-width:1.5;\"/>\r\n    <path clip-path=\"url(#p4eece33162)\" d=\"M 97.264145 243.942334 \r\nL 105.678797 247.973736 \r\n\" style=\"fill:none;stroke:#1f77b4;stroke-width:1.5;\"/>\r\n    <path clip-path=\"url(#p4eece33162)\" d=\"M 105.678797 247.973736 \r\nL 119.333896 253.585084 \r\n\" style=\"fill:none;stroke:#1f77b4;stroke-width:1.5;\"/>\r\n    <path clip-path=\"url(#p4eece33162)\" d=\"M 119.333896 253.585084 \r\nL 131.945272 257.876086 \r\n\" style=\"fill:none;stroke:#1f77b4;stroke-width:1.5;\"/>\r\n    <path clip-path=\"url(#p4eece33162)\" d=\"M 131.945272 257.876086 \r\nL 144.348928 261.359517 \r\n\" style=\"fill:none;stroke:#1f77b4;stroke-width:1.5;\"/>\r\n    <path clip-path=\"url(#p4eece33162)\" d=\"M 144.348928 261.359517 \r\nL 159.027056 264.627709 \r\n\" style=\"fill:none;stroke:#1f77b4;stroke-width:1.5;\"/>\r\n    <path clip-path=\"url(#p4eece33162)\" d=\"M 159.027056 264.627709 \r\nL 171.197964 266.687709 \r\n\" style=\"fill:none;stroke:#1f77b4;stroke-width:1.5;\"/>\r\n    <path clip-path=\"url(#p4eece33162)\" d=\"M 171.197964 266.687709 \r\nL 181.61137 268.007843 \r\n\" style=\"fill:none;stroke:#1f77b4;stroke-width:1.5;\"/>\r\n    <path clip-path=\"url(#p4eece33162)\" d=\"M 181.61137 268.007843 \r\nL 196.407585 269.209004 \r\n\" style=\"fill:none;stroke:#1f77b4;stroke-width:1.5;\"/>\r\n    <path clip-path=\"url(#p4eece33162)\" d=\"M 196.407585 269.209004 \r\nL 204.268248 269.532403 \r\n\" style=\"fill:none;stroke:#1f77b4;stroke-width:1.5;\"/>\r\n    <path clip-path=\"url(#p4eece33162)\" d=\"M 204.268248 269.532403 \r\nL 213.872413 269.63473 \r\n\" style=\"fill:none;stroke:#1f77b4;stroke-width:1.5;\"/>\r\n    <path clip-path=\"url(#p4eece33162)\" d=\"M 213.872413 269.63473 \r\nL 223.07352 269.431354 \r\n\" style=\"fill:none;stroke:#1f77b4;stroke-width:1.5;\"/>\r\n    <path clip-path=\"url(#p4eece33162)\" d=\"M 223.07352 269.431354 \r\nL 231.37006 268.993896 \r\n\" style=\"fill:none;stroke:#1f77b4;stroke-width:1.5;\"/>\r\n    <path clip-path=\"url(#p4eece33162)\" d=\"M 231.37006 268.993896 \r\nL 246.21656 267.600284 \r\n\" style=\"fill:none;stroke:#1f77b4;stroke-width:1.5;\"/>\r\n    <path clip-path=\"url(#p4eece33162)\" d=\"M 246.21656 267.600284 \r\nL 255.751817 266.281034 \r\n\" style=\"fill:none;stroke:#1f77b4;stroke-width:1.5;\"/>\r\n    <path clip-path=\"url(#p4eece33162)\" d=\"M 255.751817 266.281034 \r\nL 264.756202 264.718973 \r\n\" style=\"fill:none;stroke:#1f77b4;stroke-width:1.5;\"/>\r\n    <path clip-path=\"url(#p4eece33162)\" d=\"M 264.756202 264.718973 \r\nL 275.23036 262.498235 \r\n\" style=\"fill:none;stroke:#1f77b4;stroke-width:1.5;\"/>\r\n    <path clip-path=\"url(#p4eece33162)\" d=\"M 275.23036 262.498235 \r\nL 284.181272 260.237815 \r\n\" style=\"fill:none;stroke:#1f77b4;stroke-width:1.5;\"/>\r\n    <path clip-path=\"url(#p4eece33162)\" d=\"M 284.181272 260.237815 \r\nL 292.687491 257.760106 \r\n\" style=\"fill:none;stroke:#1f77b4;stroke-width:1.5;\"/>\r\n    <path clip-path=\"url(#p4eece33162)\" d=\"M 292.687491 257.760106 \r\nL 299.9712 255.366079 \r\n\" style=\"fill:none;stroke:#1f77b4;stroke-width:1.5;\"/>\r\n    <path clip-path=\"url(#p4eece33162)\" d=\"M 299.9712 255.366079 \r\nL 308.047233 252.39561 \r\n\" style=\"fill:none;stroke:#1f77b4;stroke-width:1.5;\"/>\r\n    <path clip-path=\"url(#p4eece33162)\" d=\"M 308.047233 252.39561 \r\nL 315.740979 249.230535 \r\n\" style=\"fill:none;stroke:#1f77b4;stroke-width:1.5;\"/>\r\n    <path clip-path=\"url(#p4eece33162)\" d=\"M 315.740979 249.230535 \r\nL 322.778036 246.021678 \r\n\" style=\"fill:none;stroke:#1f77b4;stroke-width:1.5;\"/>\r\n    <path clip-path=\"url(#p4eece33162)\" d=\"M 322.778036 246.021678 \r\nL 329.965791 242.401477 \r\n\" style=\"fill:none;stroke:#1f77b4;stroke-width:1.5;\"/>\r\n    <path clip-path=\"url(#p4eece33162)\" d=\"M 329.965791 242.401477 \r\nL 341.915709 235.498089 \r\n\" style=\"fill:none;stroke:#1f77b4;stroke-width:1.5;\"/>\r\n    <path clip-path=\"url(#p4eece33162)\" d=\"M 341.915709 235.498089 \r\nL 349.906828 230.146315 \r\n\" style=\"fill:none;stroke:#1f77b4;stroke-width:1.5;\"/>\r\n    <path clip-path=\"url(#p4eece33162)\" d=\"M 349.906828 230.146315 \r\nL 356.594135 225.110939 \r\n\" style=\"fill:none;stroke:#1f77b4;stroke-width:1.5;\"/>\r\n    <path clip-path=\"url(#p4eece33162)\" d=\"M 356.594135 225.110939 \r\nL 364.939771 217.936897 \r\n\" style=\"fill:none;stroke:#1f77b4;stroke-width:1.5;\"/>\r\n    <path clip-path=\"url(#p4eece33162)\" d=\"M 364.939771 217.936897 \r\nL 373.466363 209.243442 \r\n\" style=\"fill:none;stroke:#1f77b4;stroke-width:1.5;\"/>\r\n    <path clip-path=\"url(#p4eece33162)\" d=\"M 373.466363 209.243442 \r\nL 380.365226 200.735521 \r\n\" style=\"fill:none;stroke:#1f77b4;stroke-width:1.5;\"/>\r\n    <path clip-path=\"url(#p4eece33162)\" d=\"M 380.365226 200.735521 \r\nL 383.621157 196.04619 \r\n\" style=\"fill:none;stroke:#1f77b4;stroke-width:1.5;\"/>\r\n    <path clip-path=\"url(#p4eece33162)\" d=\"M 383.621157 196.04619 \r\nL 387.218132 190.128903 \r\n\" style=\"fill:none;stroke:#1f77b4;stroke-width:1.5;\"/>\r\n    <path clip-path=\"url(#p4eece33162)\" d=\"M 387.218132 190.128903 \r\nL 390.895482 182.874718 \r\n\" style=\"fill:none;stroke:#1f77b4;stroke-width:1.5;\"/>\r\n    <path clip-path=\"url(#p4eece33162)\" d=\"M 390.895482 182.874718 \r\nL 394.700995 172.950565 \r\n\" style=\"fill:none;stroke:#1f77b4;stroke-width:1.5;\"/>\r\n    <path clip-path=\"url(#p4eece33162)\" d=\"M 394.700995 172.950565 \r\nL 396.19293 167.6018 \r\n\" style=\"fill:none;stroke:#1f77b4;stroke-width:1.5;\"/>\r\n    <path clip-path=\"url(#p4eece33162)\" d=\"M 396.19293 167.6018 \r\nL 398.004915 157.301821 \r\n\" style=\"fill:none;stroke:#1f77b4;stroke-width:1.5;\"/>\r\n    <path clip-path=\"url(#p4eece33162)\" d=\"M 398.004915 157.301821 \r\nL 398.294565 154.016081 \r\n\" style=\"fill:none;stroke:#1f77b4;stroke-width:1.5;\"/>\r\n    <path clip-path=\"url(#p4eece33162)\" d=\"M 398.294565 154.016081 \r\nL 398.421506 151.541953 \r\n\" style=\"fill:none;stroke:#1f77b4;stroke-width:1.5;\"/>\r\n    <path clip-path=\"url(#p4eece33162)\" d=\"M 398.421506 151.541953 \r\n\" style=\"fill:none;stroke:#1f77b4;stroke-width:1.5;\"/>\r\n   </g>\r\n   <g id=\"LineCollection_2\">\r\n    <path clip-path=\"url(#p4eece33162)\" d=\"M 25.831818 146.132462 \r\n\" style=\"fill:none;stroke:#1f77b4;stroke-width:1.5;\"/>\r\n    <path clip-path=\"url(#p4eece33162)\" d=\"M 25.831818 146.132462 \r\nL 25.930593 144.027593 \r\n\" style=\"fill:none;stroke:#1f77b4;stroke-width:1.5;\"/>\r\n    <path clip-path=\"url(#p4eece33162)\" d=\"M 25.930593 144.027593 \r\nL 26.290126 139.888621 \r\n\" style=\"fill:none;stroke:#1f77b4;stroke-width:1.5;\"/>\r\n    <path clip-path=\"url(#p4eece33162)\" d=\"M 26.290126 139.888621 \r\nL 27.107222 134.398751 \r\n\" style=\"fill:none;stroke:#1f77b4;stroke-width:1.5;\"/>\r\n    <path clip-path=\"url(#p4eece33162)\" d=\"M 27.107222 134.398751 \r\nL 28.77932 127.184933 \r\n\" style=\"fill:none;stroke:#1f77b4;stroke-width:1.5;\"/>\r\n    <path clip-path=\"url(#p4eece33162)\" d=\"M 28.77932 127.184933 \r\nL 31.208622 119.813294 \r\n\" style=\"fill:none;stroke:#1f77b4;stroke-width:1.5;\"/>\r\n    <path clip-path=\"url(#p4eece33162)\" d=\"M 31.208622 119.813294 \r\nL 33.377488 114.610164 \r\n\" style=\"fill:none;stroke:#1f77b4;stroke-width:1.5;\"/>\r\n    <path clip-path=\"url(#p4eece33162)\" d=\"M 33.377488 114.610164 \r\nL 38.419799 105.008994 \r\n\" style=\"fill:none;stroke:#1f77b4;stroke-width:1.5;\"/>\r\n    <path clip-path=\"url(#p4eece33162)\" d=\"M 38.419799 105.008994 \r\nL 42.796362 98.302256 \r\n\" style=\"fill:none;stroke:#1f77b4;stroke-width:1.5;\"/>\r\n    <path clip-path=\"url(#p4eece33162)\" d=\"M 42.796362 98.302256 \r\nL 46.46922 93.408569 \r\n\" style=\"fill:none;stroke:#1f77b4;stroke-width:1.5;\"/>\r\n    <path clip-path=\"url(#p4eece33162)\" d=\"M 46.46922 93.408569 \r\nL 50.662412 88.418875 \r\n\" style=\"fill:none;stroke:#1f77b4;stroke-width:1.5;\"/>\r\n    <path clip-path=\"url(#p4eece33162)\" d=\"M 50.662412 88.418875 \r\nL 54.869008 83.91175 \r\n\" style=\"fill:none;stroke:#1f77b4;stroke-width:1.5;\"/>\r\n    <path clip-path=\"url(#p4eece33162)\" d=\"M 54.869008 83.91175 \r\nL 63.864762 75.534729 \r\n\" style=\"fill:none;stroke:#1f77b4;stroke-width:1.5;\"/>\r\n    <path clip-path=\"url(#p4eece33162)\" d=\"M 63.864762 75.534729 \r\nL 72.362811 68.809854 \r\n\" style=\"fill:none;stroke:#1f77b4;stroke-width:1.5;\"/>\r\n    <path clip-path=\"url(#p4eece33162)\" d=\"M 72.362811 68.809854 \r\nL 79.60077 63.780963 \r\n\" style=\"fill:none;stroke:#1f77b4;stroke-width:1.5;\"/>\r\n    <path clip-path=\"url(#p4eece33162)\" d=\"M 79.60077 63.780963 \r\nL 87.536332 58.870551 \r\n\" style=\"fill:none;stroke:#1f77b4;stroke-width:1.5;\"/>\r\n    <path clip-path=\"url(#p4eece33162)\" d=\"M 87.536332 58.870551 \r\nL 95.851197 54.298537 \r\n\" style=\"fill:none;stroke:#1f77b4;stroke-width:1.5;\"/>\r\n    <path clip-path=\"url(#p4eece33162)\" d=\"M 95.851197 54.298537 \r\nL 102.172161 51.165054 \r\n\" style=\"fill:none;stroke:#1f77b4;stroke-width:1.5;\"/>\r\n    <path clip-path=\"url(#p4eece33162)\" d=\"M 102.172161 51.165054 \r\nL 109.745028 47.757569 \r\n\" style=\"fill:none;stroke:#1f77b4;stroke-width:1.5;\"/>\r\n    <path clip-path=\"url(#p4eece33162)\" d=\"M 109.745028 47.757569 \r\nL 122.60027 42.742407 \r\n\" style=\"fill:none;stroke:#1f77b4;stroke-width:1.5;\"/>\r\n    <path clip-path=\"url(#p4eece33162)\" d=\"M 122.60027 42.742407 \r\nL 132.203815 39.560267 \r\n\" style=\"fill:none;stroke:#1f77b4;stroke-width:1.5;\"/>\r\n    <path clip-path=\"url(#p4eece33162)\" d=\"M 132.203815 39.560267 \r\nL 141.203893 36.974776 \r\n\" style=\"fill:none;stroke:#1f77b4;stroke-width:1.5;\"/>\r\n    <path clip-path=\"url(#p4eece33162)\" d=\"M 141.203893 36.974776 \r\nL 149.64109 34.875657 \r\n\" style=\"fill:none;stroke:#1f77b4;stroke-width:1.5;\"/>\r\n    <path clip-path=\"url(#p4eece33162)\" d=\"M 149.64109 34.875657 \r\nL 158.412651 33.007681 \r\n\" style=\"fill:none;stroke:#1f77b4;stroke-width:1.5;\"/>\r\n    <path clip-path=\"url(#p4eece33162)\" d=\"M 158.412651 33.007681 \r\nL 172.310356 30.668276 \r\n\" style=\"fill:none;stroke:#1f77b4;stroke-width:1.5;\"/>\r\n    <path clip-path=\"url(#p4eece33162)\" d=\"M 172.310356 30.668276 \r\nL 188.48959 28.852821 \r\n\" style=\"fill:none;stroke:#1f77b4;stroke-width:1.5;\"/>\r\n    <path clip-path=\"url(#p4eece33162)\" d=\"M 188.48959 28.852821 \r\nL 202.639498 28.03299 \r\n\" style=\"fill:none;stroke:#1f77b4;stroke-width:1.5;\"/>\r\n    <path clip-path=\"url(#p4eece33162)\" d=\"M 202.639498 28.03299 \r\nL 216.371585 27.907457 \r\n\" style=\"fill:none;stroke:#1f77b4;stroke-width:1.5;\"/>\r\n    <path clip-path=\"url(#p4eece33162)\" d=\"M 216.371585 27.907457 \r\nL 229.653881 28.411883 \r\n\" style=\"fill:none;stroke:#1f77b4;stroke-width:1.5;\"/>\r\n    <path clip-path=\"url(#p4eece33162)\" d=\"M 229.653881 28.411883 \r\nL 242.672739 29.511032 \r\n\" style=\"fill:none;stroke:#1f77b4;stroke-width:1.5;\"/>\r\n    <path clip-path=\"url(#p4eece33162)\" d=\"M 242.672739 29.511032 \r\nL 255.648698 31.219025 \r\n\" style=\"fill:none;stroke:#1f77b4;stroke-width:1.5;\"/>\r\n    <path clip-path=\"url(#p4eece33162)\" d=\"M 255.648698 31.219025 \r\nL 267.950719 33.427508 \r\n\" style=\"fill:none;stroke:#1f77b4;stroke-width:1.5;\"/>\r\n    <path clip-path=\"url(#p4eece33162)\" d=\"M 267.950719 33.427508 \r\nL 280.486711 36.303474 \r\n\" style=\"fill:none;stroke:#1f77b4;stroke-width:1.5;\"/>\r\n    <path clip-path=\"url(#p4eece33162)\" d=\"M 280.486711 36.303474 \r\nL 292.5931 39.726705 \r\n\" style=\"fill:none;stroke:#1f77b4;stroke-width:1.5;\"/>\r\n    <path clip-path=\"url(#p4eece33162)\" d=\"M 292.5931 39.726705 \r\nL 303.989231 43.584835 \r\n\" style=\"fill:none;stroke:#1f77b4;stroke-width:1.5;\"/>\r\n    <path clip-path=\"url(#p4eece33162)\" d=\"M 303.989231 43.584835 \r\nL 316.921957 48.802377 \r\n\" style=\"fill:none;stroke:#1f77b4;stroke-width:1.5;\"/>\r\n    <path clip-path=\"url(#p4eece33162)\" d=\"M 316.921957 48.802377 \r\nL 325.190874 52.669279 \r\n\" style=\"fill:none;stroke:#1f77b4;stroke-width:1.5;\"/>\r\n    <path clip-path=\"url(#p4eece33162)\" d=\"M 325.190874 52.669279 \r\nL 332.190707 56.311644 \r\n\" style=\"fill:none;stroke:#1f77b4;stroke-width:1.5;\"/>\r\n    <path clip-path=\"url(#p4eece33162)\" d=\"M 332.190707 56.311644 \r\nL 339.125571 60.297148 \r\n\" style=\"fill:none;stroke:#1f77b4;stroke-width:1.5;\"/>\r\n    <path clip-path=\"url(#p4eece33162)\" d=\"M 339.125571 60.297148 \r\nL 345.99096 64.664789 \r\n\" style=\"fill:none;stroke:#1f77b4;stroke-width:1.5;\"/>\r\n    <path clip-path=\"url(#p4eece33162)\" d=\"M 345.99096 64.664789 \r\nL 354.65969 70.89028 \r\n\" style=\"fill:none;stroke:#1f77b4;stroke-width:1.5;\"/>\r\n    <path clip-path=\"url(#p4eece33162)\" d=\"M 354.65969 70.89028 \r\nL 363.830426 78.559295 \r\n\" style=\"fill:none;stroke:#1f77b4;stroke-width:1.5;\"/>\r\n    <path clip-path=\"url(#p4eece33162)\" d=\"M 363.830426 78.559295 \r\nL 371.235876 85.835392 \r\n\" style=\"fill:none;stroke:#1f77b4;stroke-width:1.5;\"/>\r\n    <path clip-path=\"url(#p4eece33162)\" d=\"M 371.235876 85.835392 \r\nL 375.51306 90.630659 \r\n\" style=\"fill:none;stroke:#1f77b4;stroke-width:1.5;\"/>\r\n    <path clip-path=\"url(#p4eece33162)\" d=\"M 375.51306 90.630659 \r\nL 379.827016 96.053788 \r\n\" style=\"fill:none;stroke:#1f77b4;stroke-width:1.5;\"/>\r\n    <path clip-path=\"url(#p4eece33162)\" d=\"M 379.827016 96.053788 \r\nL 383.479 101.25359 \r\n\" style=\"fill:none;stroke:#1f77b4;stroke-width:1.5;\"/>\r\n    <path clip-path=\"url(#p4eece33162)\" d=\"M 383.479 101.25359 \r\nL 387.833009 108.499214 \r\n\" style=\"fill:none;stroke:#1f77b4;stroke-width:1.5;\"/>\r\n    <path clip-path=\"url(#p4eece33162)\" d=\"M 387.833009 108.499214 \r\nL 391.329156 115.612696 \r\n\" style=\"fill:none;stroke:#1f77b4;stroke-width:1.5;\"/>\r\n    <path clip-path=\"url(#p4eece33162)\" d=\"M 391.329156 115.612696 \r\nL 394.386065 123.586111 \r\n\" style=\"fill:none;stroke:#1f77b4;stroke-width:1.5;\"/>\r\n    <path clip-path=\"url(#p4eece33162)\" d=\"M 394.386065 123.586111 \r\nL 396.21396 130.000996 \r\n\" style=\"fill:none;stroke:#1f77b4;stroke-width:1.5;\"/>\r\n    <path clip-path=\"url(#p4eece33162)\" d=\"M 396.21396 130.000996 \r\nL 397.916476 139.439914 \r\n\" style=\"fill:none;stroke:#1f77b4;stroke-width:1.5;\"/>\r\n    <path clip-path=\"url(#p4eece33162)\" d=\"M 397.916476 139.439914 \r\nL 398.468182 148.101903 \r\n\" style=\"fill:none;stroke:#1f77b4;stroke-width:1.5;\"/>\r\n    <path clip-path=\"url(#p4eece33162)\" d=\"M 398.468182 148.101903 \r\n\" style=\"fill:none;stroke:#1f77b4;stroke-width:1.5;\"/>\r\n    <path clip-path=\"url(#p4eece33162)\" d=\"M 0 0 \r\n\" style=\"fill:none;stroke:#1f77b4;stroke-width:1.5;\"/>\r\n   </g>\r\n   <g id=\"patch_3\">\r\n    <path d=\"M 212.129392 281.721094 \r\nL 212.129392 15.821094 \r\n\" style=\"fill:none;stroke:#000000;stroke-linecap:square;stroke-linejoin:miter;stroke-width:0.8;\"/>\r\n   </g>\r\n   <g id=\"patch_4\">\r\n    <path d=\"M 417.1 281.721094 \r\nL 417.1 15.821094 \r\n\" style=\"fill:none;\"/>\r\n   </g>\r\n   <g id=\"patch_5\">\r\n    <path d=\"M 7.2 148.758073 \r\nL 417.1 148.758073 \r\n\" style=\"fill:none;stroke:#000000;stroke-linecap:square;stroke-linejoin:miter;stroke-width:0.8;\"/>\r\n   </g>\r\n   <g id=\"patch_6\">\r\n    <path d=\"M 7.2 15.821094 \r\nL 417.1 15.821094 \r\n\" style=\"fill:none;\"/>\r\n   </g>\r\n  </g>\r\n </g>\r\n <defs>\r\n  <clipPath id=\"p4eece33162\">\r\n   <rect height=\"265.9\" width=\"409.9\" x=\"7.2\" y=\"15.821094\"/>\r\n  </clipPath>\r\n </defs>\r\n</svg>\r\n",
      "image/png": "[encoded data removed]"
     },
     "metadata": {
      "needs_background": "light"
     }
    }
   ],
   "source": [
    "#Grafico de la curva\n",
    "aux = solve(curva,y)\n",
    "p1 = plot(aux[0], show=False)\n",
    "p2 = plot(aux[1], show=False)\n",
    "p1.append(p2[0])\n",
    "p1.show()"
   ]
  },
  {
   "cell_type": "code",
   "execution_count": 4,
   "metadata": {},
   "outputs": [
    {
     "output_type": "execute_result",
     "data": {
      "text/plain": [
       "[-4, 4]"
      ],
      "image/png": "[encoded data removed]",
      "text/latex": "$\\displaystyle \\left[ -4, \\  4\\right]$"
     },
     "metadata": {},
     "execution_count": 4
    }
   ],
   "source": [
    "#hallamos los limites de la funcion:\n",
    "limites = [Limit(aux[0],x,0).doit(),Limit(aux[1],x,0).doit()]\n",
    "limites"
   ]
  },
  {
   "cell_type": "code",
   "execution_count": 5,
   "metadata": {},
   "outputs": [
    {
     "output_type": "execute_result",
     "data": {
      "text/plain": [
       "       _________         \n",
       "      ╱       2          \n",
       "4   ╲╱  16 - x           \n",
       "⌠        ⌠               \n",
       "⎮        ⎮       -2 dy dx\n",
       "⌡        ⌡               \n",
       "-4     _________         \n",
       "      ╱       2          \n",
       "   -╲╱  16 - x           "
      ],
      "image/png": "[encoded data removed]",
      "text/latex": "$\\displaystyle \\int\\limits_{-4}^{4}\\int\\limits_{- \\sqrt{16 - x^{2}}}^{\\sqrt{16 - x^{2}}} \\left(-2\\right)\\, dy\\, dx$"
     },
     "metadata": {},
     "execution_count": 5
    }
   ],
   "source": [
    "#integral planteada:\n",
    "intbase = Integral(S(diff(funcion[1],x)-diff(funcion[0],y)), (y,aux[0], aux[1]))\n",
    "integralplan = Integral(intbase, (x, min(limites), max(limites)))\n",
    "integralplan"
   ]
  },
  {
   "cell_type": "code",
   "execution_count": 6,
   "metadata": {},
   "outputs": [
    {
     "output_type": "execute_result",
     "data": {
      "text/plain": [
       "-32⋅π"
      ],
      "image/png": "[encoded data removed]",
      "text/latex": "$\\displaystyle - 32 \\pi$"
     },
     "metadata": {},
     "execution_count": 6
    }
   ],
   "source": [
    "#Resultado\n",
    "integralplan.doit()"
   ]
  }
 ]
}