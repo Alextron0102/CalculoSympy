{
 "metadata": {
  "language_info": {
   "codemirror_mode": {
    "name": "ipython",
    "version": 3
   },
   "file_extension": ".py",
   "mimetype": "text/x-python",
   "name": "python",
   "nbconvert_exporter": "python",
   "pygments_lexer": "ipython3",
   "version": "3.8.3-final"
  },
  "orig_nbformat": 2,
  "kernelspec": {
   "name": "Python 3.8.3 64-bit",
   "display_name": "Python 3.8.3 64-bit",
   "metadata": {
    "interpreter": {
     "hash": "4902b112df172eca64582ab08ed68f144a200007b0c63f075270bd61f76c4409"
    }
   }
  }
 },
 "nbformat": 4,
 "nbformat_minor": 2,
 "cells": [
  {
   "cell_type": "code",
   "execution_count": 1,
   "metadata": {},
   "outputs": [],
   "source": [
    "from sympy import *\n",
    "from sympy.plotting import *\n",
    "init_printing()\n",
    "#Vamos a definir la funcion modulo:\n",
    "def modulo(vec):\n",
    "    aux = 0\n",
    "    for i in vec:\n",
    "        aux+=S(i)**2\n",
    "    return sqrt(aux)\n",
    "#Vamos a definir la funcion para derivar:\n",
    "def derivar(vec,var):\n",
    "    aux = []\n",
    "    for i in vec:\n",
    "        aux.append(diff(S(i),var))\n",
    "    return aux\n",
    "#Vamos a definir la funcion para integrar:\n",
    "def integrar(vec, var):\n",
    "    aux = []\n",
    "    for i in vec:\n",
    "        aux.append(integrate(S(i),var))\n",
    "    return aux\n",
    "#Vamos a definir la funcion para sumar vectores:\n",
    "def sumarvectores(vec1,vec2):\n",
    "    return [sum(x) for x in zip(*[vec1,vec2])]\n",
    "#Vamos a definir una funcion para hacer producto punto de vectores:\n",
    "def productopunto(vec1, vec2):\n",
    "    return (vec1[0]*vec2[0])+(vec1[1]*vec2[1])"
   ]
  },
  {
   "source": [
    "Pregunta 1 <br>\n",
    "Una particula parte de la posicion r(0)=<1;-2;3> <br>\n",
    "determine los vectores a(t) y r(t) <br>\n",
    "si su velocidad es v(t)=<6t;6t^5-2t;7>"
   ],
   "cell_type": "markdown",
   "metadata": {}
  },
  {
   "cell_type": "code",
   "execution_count": 2,
   "metadata": {},
   "outputs": [],
   "source": [
    "##Primero definimos las variables iniciales:\n",
    "t = symbols('t')\n",
    "#Lo vamos a trabajar como lista \"[]\" en vez de vector: \"()\"\n",
    "r0 = [1,-2,3]\n",
    "vt = [6*t,6*t**5-2*t,7]"
   ]
  },
  {
   "cell_type": "code",
   "execution_count": 3,
   "metadata": {},
   "outputs": [
    {
     "output_type": "execute_result",
     "data": {
      "text/plain": [
       "⎡       4       ⎤\n",
       "⎣6, 30⋅t  - 2, 0⎦"
      ],
      "image/png": "[encoded data removed]",
      "text/latex": "$\\displaystyle \\left[ 6, \\  30 t^{4} - 2, \\  0\\right]$"
     },
     "metadata": {},
     "execution_count": 3
    }
   ],
   "source": [
    "#Para hallar la aceleración, derivamos la velocidad:\n",
    "derivar(vt,t)\n",
    "#a(t)="
   ]
  },
  {
   "cell_type": "code",
   "execution_count": 4,
   "metadata": {},
   "outputs": [
    {
     "output_type": "execute_result",
     "data": {
      "text/plain": [
       "⎡   2       6    2             ⎤\n",
       "⎣3⋅t  + 1, t  - t  - 2, 7⋅t + 3⎦"
      ],
      "image/png": "[encoded data removed]",
      "text/latex": "$\\displaystyle \\left[ 3 t^{2} + 1, \\  t^{6} - t^{2} - 2, \\  7 t + 3\\right]$"
     },
     "metadata": {},
     "execution_count": 4
    }
   ],
   "source": [
    "#Para hallar la posicion con respecto al tiempo, tenemos que integrar la velocidad y sumar la posicion incial:\n",
    "rt= integrar(vt,t)\n",
    "sumarvectores(rt, r0)\n",
    "#r(t)="
   ]
  },
  {
   "cell_type": "code",
   "execution_count": 16,
   "metadata": {},
   "outputs": [
    {
     "output_type": "execute_result",
     "data": {
      "text/plain": [
       "⎡   2   6    2     ⎤\n",
       "⎣3⋅t , t  - t , 7⋅t⎦"
      ],
      "image/png": "[encoded data removed]",
      "text/latex": "$\\displaystyle \\left[ 3 t^{2}, \\  t^{6} - t^{2}, \\  7 t\\right]$"
     },
     "metadata": {},
     "execution_count": 16
    }
   ],
   "source": [
    "integrar(vt,t)"
   ]
  },
  {
   "source": [
    "Pregunta 2:<br>\n",
    "Tenemos que plantear una integral que permita calcular la masa de un alambre delgado<br>\n",
    "Une los puntos: A(sqrt(5);2sqrt(5);0) y B(0;0;5)<br>\n",
    "y tiene la forma de curva de la interseccion del cilindro:\n",
    "x^2+z-5=0 y el plano y=2x <br>\n",
    "sabiendo que su densidad lineal de masa es:\n",
    "densidad(x;y;z)=sqrt(5-z)\n"
   ],
   "cell_type": "markdown",
   "metadata": {}
  },
  {
   "cell_type": "code",
   "execution_count": 5,
   "metadata": {},
   "outputs": [],
   "source": [
    "#Primero definimos variables:\n",
    "x,y,z=symbols('x y z', real=True)\n",
    "A = [sqrt(5),2*sqrt(5),0]\n",
    "B = [0,0,5]\n",
    "expr1 = x**2+z-5\n",
    "expr2 = 2*x-y #Para esta ecuacion igualamos la segunda a 0\n",
    "densidadxyz=sqrt(5-z)"
   ]
  },
  {
   "cell_type": "code",
   "execution_count": 6,
   "metadata": {},
   "outputs": [
    {
     "output_type": "execute_result",
     "data": {
      "text/plain": [
       "2⋅x"
      ],
      "image/png": "[encoded data removed]",
      "text/latex": "$\\displaystyle 2 x$"
     },
     "metadata": {},
     "execution_count": 6
    }
   ],
   "source": [
    "#Tenemos que armar el vector, para eso:\n",
    "#Resolvemos la ecuacion 2 con respecto de y para que nos bote y con respecto de x\n",
    "valory = solve(expr2,y)[0]\n",
    "valory"
   ]
  },
  {
   "cell_type": "code",
   "execution_count": 7,
   "metadata": {},
   "outputs": [
    {
     "output_type": "execute_result",
     "data": {
      "text/plain": [
       "     2\n",
       "5 - x "
      ],
      "image/png": "[encoded data removed]",
      "text/latex": "$\\displaystyle 5 - x^{2}$"
     },
     "metadata": {},
     "execution_count": 7
    }
   ],
   "source": [
    "#Resolvemos la ec 1 con respecto de z para que nos bote un valor z con respecto de x\n",
    "valorz = solve(expr1,z)[0]\n",
    "valorz"
   ]
  },
  {
   "cell_type": "code",
   "execution_count": 8,
   "metadata": {},
   "outputs": [
    {
     "output_type": "execute_result",
     "data": {
      "text/plain": [
       "⎡             2⎤\n",
       "⎣x, 2⋅x, 5 - x ⎦"
      ],
      "image/png": "[encoded data removed]",
      "text/latex": "$\\displaystyle \\left[ x, \\  2 x, \\  5 - x^{2}\\right]$"
     },
     "metadata": {},
     "execution_count": 8
    }
   ],
   "source": [
    "vectorinterseccion = [x,valory,valorz]\n",
    "vectorinterseccion\n",
    "#r(x) = ; donde 0<=x<=sqrt(5)"
   ]
  },
  {
   "cell_type": "code",
   "execution_count": 9,
   "metadata": {},
   "outputs": [
    {
     "output_type": "execute_result",
     "data": {
      "text/plain": [
       "│x│"
      ],
      "image/png": "[encoded data removed]",
      "text/latex": "$\\displaystyle \\left|{x}\\right|$"
     },
     "metadata": {},
     "execution_count": 9
    }
   ],
   "source": [
    "#Funcion densidad lineal en términos de t:\n",
    "densidadt = densidadxyz.subs(z,valorz)\n",
    "densidadt"
   ]
  },
  {
   "cell_type": "code",
   "execution_count": 10,
   "metadata": {},
   "outputs": [
    {
     "output_type": "execute_result",
     "data": {
      "text/plain": [
       "√5                   \n",
       "⌠                    \n",
       "⎮       __________   \n",
       "⎮      ╱    2        \n",
       "⎮  x⋅╲╱  4⋅x  + 5  dx\n",
       "⌡                    \n",
       "0                    "
      ],
      "image/png": "[encoded data removed]",
      "text/latex": "$\\displaystyle \\int\\limits_{0}^{\\sqrt{5}} x \\sqrt{4 x^{2} + 5}\\, dx$"
     },
     "metadata": {},
     "execution_count": 10
    }
   ],
   "source": [
    "#Masa:\n",
    "#es la integral del modulo de la derivada del vector, multiplicado por la densidad\n",
    "#Hallamos primero los extremos:\n",
    "supx = max(A[0],B[0])\n",
    "infx = min(A[0],B[0])\n",
    "aux = derivar(vectorinterseccion,x)\n",
    "Integral(modulo(aux)*x,(x,infx,supx))"
   ]
  },
  {
   "source": [
    "Pregunta 3:<br>\n",
    "Dado el campo de fuerza F(x;y)=<xy;y^2> y la curva: C:y^2-x=1 que va desde A(-1,0) hasta B(8,3)"
   ],
   "cell_type": "markdown",
   "metadata": {}
  },
  {
   "cell_type": "code",
   "execution_count": 11,
   "metadata": {},
   "outputs": [],
   "source": [
    "#Valores iniciales:\n",
    "curva = y**2-x-1\n",
    "campo = [x*y,y**2]\n",
    "puntoA = [-1,0]\n",
    "puntoB = [8,3]"
   ]
  },
  {
   "cell_type": "code",
   "execution_count": 12,
   "metadata": {},
   "outputs": [
    {
     "output_type": "execute_result",
     "data": {
      "text/plain": [
       "⎡ 2       ⎤\n",
       "⎣t  - 1, t⎦"
      ],
      "image/png": "[encoded data removed]",
      "text/latex": "$\\displaystyle \\left[ t^{2} - 1, \\  t\\right]$"
     },
     "metadata": {},
     "execution_count": 12
    }
   ],
   "source": [
    "#Parametrizar la curva C, usando y=t:\n",
    "rt = [solve(curva, x)[0].subs(y,t) , t]\n",
    "rt \n",
    "#Vector rt ="
   ]
  },
  {
   "cell_type": "code",
   "execution_count": 17,
   "metadata": {},
   "outputs": [
    {
     "output_type": "execute_result",
     "data": {
      "text/plain": [
       " 2    \n",
       "y  - 1"
      ],
      "image/png": "[encoded data removed]",
      "text/latex": "$\\displaystyle y^{2} - 1$"
     },
     "metadata": {},
     "execution_count": 17
    }
   ],
   "source": [
    "solve(curva, x)[0]"
   ]
  },
  {
   "cell_type": "code",
   "execution_count": 13,
   "metadata": {},
   "outputs": [
    {
     "output_type": "execute_result",
     "data": {
      "text/plain": [
       "⎡  ⎛ 2    ⎞   2⎤\n",
       "⎣t⋅⎝t  - 1⎠, t ⎦"
      ],
      "image/png": "[encoded data removed]",
      "text/latex": "$\\displaystyle \\left[ t \\left(t^{2} - 1\\right), \\  t^{2}\\right]$"
     },
     "metadata": {},
     "execution_count": 13
    }
   ],
   "source": [
    "frt= [campo[0].subs(x,rt[0]).subs(y,rt[1]),campo[1].subs(y,rt[1])]\n",
    "frt\n",
    "#vector f(r(t))="
   ]
  },
  {
   "cell_type": "code",
   "execution_count": 14,
   "metadata": {},
   "outputs": [
    {
     "output_type": "execute_result",
     "data": {
      "text/plain": [
       "[2⋅t, 1]"
      ],
      "image/png": "[encoded data removed]",
      "text/latex": "$\\displaystyle \\left[ 2 t, \\  1\\right]$"
     },
     "metadata": {},
     "execution_count": 14
    }
   ],
   "source": [
    "dr = derivar(rt,t)\n",
    "dr\n",
    "#r'(t)="
   ]
  },
  {
   "cell_type": "code",
   "execution_count": 15,
   "metadata": {},
   "outputs": [
    {
     "output_type": "execute_result",
     "data": {
      "text/plain": [
       "3               \n",
       "⌠               \n",
       "⎮ ⎛   4    2⎞   \n",
       "⎮ ⎝2⋅t  - t ⎠ dt\n",
       "⌡               \n",
       "0               "
      ],
      "image/png": "[encoded data removed]",
      "text/latex": "$\\displaystyle \\int\\limits_{0}^{3} \\left(2 t^{4} - t^{2}\\right)\\, dt$"
     },
     "metadata": {},
     "execution_count": 15
    }
   ],
   "source": [
    "#Planteamos la integral que permite calcular el trabajo realizar por el campo de fuerza F a lo largo de la curva C desde A hasta B\n",
    "#Como y=t, los limites de y son:\n",
    "limsuperior = max(puntoA[1],puntoB[1])\n",
    "liminferior = min(puntoA[1],puntoB[1])\n",
    "Integral(simplify(productopunto(frt,dr)), (t,liminferior,limsuperior))\n"
   ]
  }
 ]
}